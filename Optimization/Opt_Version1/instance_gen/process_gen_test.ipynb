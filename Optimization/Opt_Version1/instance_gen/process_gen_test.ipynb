{
 "cells": [
  {
   "cell_type": "code",
   "execution_count": 59,
   "metadata": {},
   "outputs": [],
   "source": [
    "import random\n",
    "import numpy as np\n",
    "import json"
   ]
  },
  {
   "cell_type": "code",
   "execution_count": 60,
   "metadata": {},
   "outputs": [],
   "source": [
    "def generate_instance(num_processes, min_operations, max_operations, min_power, max_power, Hours):\n",
    "    np.random.seed(0)\n",
    "    operations_info = {}\n",
    "    for i in range(num_processes):\n",
    "        num_operations = random.randint(min_operations, max_operations)\n",
    "        # Set every operation's duration to 1\n",
    "        operations = [{'power': random.randint(min_power, max_power), 'duration': 1} for _ in range(num_operations)]\n",
    "        # Ensure the maximum time for completion is at least the number of operations\n",
    "        min_completion_time = num_operations\n",
    "        max_time = random.randint(min_completion_time, Hours)  # Adjusted maximum time\n",
    "        operations_info[i] = {'operations': operations, 'max_time': max_time}\n",
    "    \n",
    "    return operations_info"
   ]
  },
  {
   "cell_type": "code",
   "execution_count": 61,
   "metadata": {},
   "outputs": [
    {
     "name": "stdout",
     "output_type": "stream",
     "text": [
      "{0: {'operations': [{'power': 135, 'duration': 1}], 'max_time': 7}, 1: {'operations': [{'power': 125, 'duration': 1}], 'max_time': 9}, 2: {'operations': [{'power': 105, 'duration': 1}, {'power': 186, 'duration': 1}], 'max_time': 4}, 3: {'operations': [{'power': 111, 'duration': 1}, {'power': 124, 'duration': 1}], 'max_time': 6}, 4: {'operations': [{'power': 120, 'duration': 1}], 'max_time': 2}}\n"
     ]
    }
   ],
   "source": [
    "# Example usage:\n",
    "instance = generate_instance(num_processes=5, min_operations=1, max_operations=3, min_power=100, max_power=200, Hours=10)\n",
    "print(instance)\n"
   ]
  },
  {
   "cell_type": "code",
   "execution_count": 62,
   "metadata": {},
   "outputs": [
    {
     "name": "stdout",
     "output_type": "stream",
     "text": [
      "range(0, 5)\n"
     ]
    }
   ],
   "source": [
    "I = range(len(instance))\n",
    "print(I)\n"
   ]
  },
  {
   "cell_type": "code",
   "execution_count": 63,
   "metadata": {},
   "outputs": [
    {
     "name": "stdout",
     "output_type": "stream",
     "text": [
      "{0: range(0, 1), 1: range(0, 1), 2: range(0, 2), 3: range(0, 2), 4: range(0, 1)}\n"
     ]
    }
   ],
   "source": [
    "F = {i: range(len(instance[i]['operations'])) for i in I}\n",
    "print(F)\n"
   ]
  },
  {
   "cell_type": "code",
   "execution_count": 64,
   "metadata": {},
   "outputs": [
    {
     "name": "stdout",
     "output_type": "stream",
     "text": [
      "{0: [{'power': 135, 'duration': 1}], 1: [{'power': 125, 'duration': 1}], 2: [{'power': 105, 'duration': 1}, {'power': 186, 'duration': 1}], 3: [{'power': 111, 'duration': 1}, {'power': 124, 'duration': 1}], 4: [{'power': 120, 'duration': 1}]}\n"
     ]
    }
   ],
   "source": [
    "operations_info = {i: instance[i]['operations'] for i in I}\n",
    "print(operations_info)"
   ]
  },
  {
   "cell_type": "code",
   "execution_count": 65,
   "metadata": {},
   "outputs": [
    {
     "data": {
      "text/plain": [
       "{0: {0: 135},\n",
       " 1: {0: 125},\n",
       " 2: {0: 105, 1: 186},\n",
       " 3: {0: 111, 1: 124},\n",
       " 4: {0: 120}}"
      ]
     },
     "execution_count": 65,
     "metadata": {},
     "output_type": "execute_result"
    }
   ],
   "source": [
    "# get the power of the operation\n",
    "operation_power = {i: {k: operations_info[i][k]['power'] for k in F[i]} for i in I}\n",
    "operation_power"
   ]
  },
  {
   "cell_type": "code",
   "execution_count": 72,
   "metadata": {},
   "outputs": [
    {
     "data": {
      "text/plain": [
       "{0: 105, 1: 186}"
      ]
     },
     "execution_count": 72,
     "metadata": {},
     "output_type": "execute_result"
    }
   ],
   "source": [
    "operation_power[2]"
   ]
  },
  {
   "cell_type": "code",
   "execution_count": 73,
   "metadata": {},
   "outputs": [
    {
     "data": {
      "text/plain": [
       "2"
      ]
     },
     "execution_count": 73,
     "metadata": {},
     "output_type": "execute_result"
    }
   ],
   "source": [
    "len(operation_power[2])"
   ]
  },
  {
   "cell_type": "code",
   "execution_count": 66,
   "metadata": {},
   "outputs": [
    {
     "data": {
      "text/plain": [
       "{0: {0: 1}, 1: {0: 1}, 2: {0: 1, 1: 1}, 3: {0: 1, 1: 1}, 4: {0: 1}}"
      ]
     },
     "execution_count": 66,
     "metadata": {},
     "output_type": "execute_result"
    }
   ],
   "source": [
    "operation_time = {i: {k: operations_info[i][k]['duration'] for k in F[i]} for i in I}\n",
    "operation_time"
   ]
  },
  {
   "cell_type": "code",
   "execution_count": 67,
   "metadata": {},
   "outputs": [
    {
     "data": {
      "text/plain": [
       "{0: 7, 1: 9, 2: 4, 3: 6, 4: 2}"
      ]
     },
     "execution_count": 67,
     "metadata": {},
     "output_type": "execute_result"
    }
   ],
   "source": [
    "# maximum time for completion of the process\n",
    "process_time = {i: instance[i]['max_time'] for i in I}\n",
    "process_time"
   ]
  },
  {
   "cell_type": "code",
   "execution_count": 68,
   "metadata": {},
   "outputs": [],
   "source": [
    "# save the instance to a file\n",
    "\n",
    "with open('process_instance.json', 'w') as f:\n",
    "    json.dump(instance, f)\n",
    "    "
   ]
  },
  {
   "cell_type": "code",
   "execution_count": 69,
   "metadata": {},
   "outputs": [
    {
     "name": "stdout",
     "output_type": "stream",
     "text": [
      "{'0': {'operations': [{'power': 135, 'duration': 1}], 'max_time': 7}, '1': {'operations': [{'power': 125, 'duration': 1}], 'max_time': 9}, '2': {'operations': [{'power': 105, 'duration': 1}, {'power': 186, 'duration': 1}], 'max_time': 4}, '3': {'operations': [{'power': 111, 'duration': 1}, {'power': 124, 'duration': 1}], 'max_time': 6}, '4': {'operations': [{'power': 120, 'duration': 1}], 'max_time': 2}}\n"
     ]
    }
   ],
   "source": [
    "# load the instance from a file\n",
    "with open('process_instance.json', 'r') as f:\n",
    "    instance = json.load(f)\n",
    "print(instance)"
   ]
  }
 ],
 "metadata": {
  "kernelspec": {
   "display_name": "new",
   "language": "python",
   "name": "python3"
  },
  "language_info": {
   "codemirror_mode": {
    "name": "ipython",
    "version": 3
   },
   "file_extension": ".py",
   "mimetype": "text/x-python",
   "name": "python",
   "nbconvert_exporter": "python",
   "pygments_lexer": "ipython3",
   "version": "3.11.5"
  }
 },
 "nbformat": 4,
 "nbformat_minor": 2
}
