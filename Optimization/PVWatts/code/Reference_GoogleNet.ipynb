{
 "cells": [
  {
   "cell_type": "markdown",
   "metadata": {},
   "source": [
    "## This is the reference data analysis of the 3060 GPU run in 95W mode with the deep learning model set to GoogleNet and the dataset set to fashion_mnist and cifar100 seperatly."
   ]
  },
  {
   "cell_type": "code",
   "execution_count": 2,
   "metadata": {},
   "outputs": [],
   "source": [
    "import pandas as pd\n",
    "import numpy as np\n",
    "import os\n",
    "import matplotlib.pyplot as plt"
   ]
  },
  {
   "cell_type": "code",
   "execution_count": 3,
   "metadata": {},
   "outputs": [
    {
     "name": "stdout",
     "output_type": "stream",
     "text": [
      "/Users/dtjgp/Projects/GreenAI/PVWatts/code\n",
      "/Users/dtjgp/Projects/GreenAI/PVWatts\n",
      "/Users/dtjgp/Projects/GreenAI\n",
      "/Users/dtjgp/Projects/GreenAI/Cloud/3060_95W/Data/googlenet\n",
      "/Users/dtjgp/Projects/GreenAI/Cloud/3060_95W/Data/googlenet/cifar100/E3_B64_R0 /Users/dtjgp/Projects/GreenAI/Cloud/3060_95W/Data/googlenet/fashion_mnist/E3_B64_R0\n"
     ]
    }
   ],
   "source": [
    "cur_dir = os.getcwd()\n",
    "print(cur_dir)\n",
    "# get the parent directory\n",
    "parent_dir = os.path.dirname(cur_dir)\n",
    "print(parent_dir)\n",
    "# get the parent directory of the parent directory\n",
    "parent_parent_dir = os.path.dirname(parent_dir)\n",
    "print(parent_parent_dir)\n",
    "# get the googlenet data directory\n",
    "googlenet_dir = os.path.join(parent_parent_dir, 'Cloud/3060_95W/Data/googlenet')\n",
    "print(googlenet_dir)\n",
    "cifar100_dir = os.path.join(googlenet_dir, 'cifar100/E3_B64_R0')\n",
    "fashionmnist_dir = os.path.join(googlenet_dir, 'fashion_mnist/E3_B64_R0')\n",
    "print(cifar100_dir, fashionmnist_dir)"
   ]
  },
  {
   "cell_type": "code",
   "execution_count": 4,
   "metadata": {},
   "outputs": [
    {
     "name": "stdout",
     "output_type": "stream",
     "text": [
      "Files in cifar100 directory: ['Layers_time.npy', 'Train_part_time.npy', 'Epoch_time.npy', 'Epoch_energy.npy', 'Train_acc.npy', 'Test_acc.npy']\n",
      "Files in fashion_mnist directory: ['Layers_time.npy', 'Train_part_time.npy', 'Epoch_time.npy', 'Epoch_energy.npy', 'Train_acc.npy', 'Test_acc.npy']\n"
     ]
    }
   ],
   "source": [
    "# List the files in the cifar100 directory\n",
    "cifar100_files = os.listdir(cifar100_dir)\n",
    "print(\"Files in cifar100 directory:\", cifar100_files)\n",
    "\n",
    "# List the files in the fashion_mnist directory\n",
    "fashionmnist_files = os.listdir(fashionmnist_dir)\n",
    "print(\"Files in fashion_mnist directory:\", fashionmnist_files)"
   ]
  },
  {
   "cell_type": "code",
   "execution_count": 5,
   "metadata": {},
   "outputs": [
    {
     "name": "stdout",
     "output_type": "stream",
     "text": [
      "[[array([29.65, 63.11, 94.69, 94.2 , 94.35, 94.12, 93.99, 93.72, 94.16,\n",
      "         94.46, 94.51, 94.56, 94.79, 94.18, 94.1 , 94.04, 94.02, 94.1 ,\n",
      "         94.55, 94.07, 94.62, 94.75, 94.01, 94.44, 94.28, 94.02, 93.82,\n",
      "         94.54, 94.43, 94.34, 94.49, 94.52, 94.18, 93.79, 94.15, 93.65,\n",
      "         94.46, 94.53, 94.16, 94.1 , 94.08, 94.66, 94.59, 94.66, 94.69,\n",
      "         94.83, 94.44, 94.18, 93.97, 93.93, 94.49, 93.86, 94.46, 94.49,\n",
      "         93.99, 94.36, 94.19, 93.92, 94.64, 94.42, 94.36, 94.49, 94.5 ,\n",
      "         93.98, 93.9 , 94.04, 93.82, 94.58, 94.53, 94.44, 94.85, 94.64,\n",
      "         94.34, 94.29, 93.96, 94.17, 94.38, 94.47, 94.39, 94.73, 94.35,\n",
      "         94.18, 94.1 , 93.93, 94.07, 94.57, 94.38, 94.3 , 94.16, 93.96,\n",
      "         94.35, 93.72, 94.  , 94.47, 94.14, 94.69, 94.45, 94.36, 94.42,\n",
      "         94.07, 93.81, 94.26, 94.47, 94.48, 93.59, 93.81, 94.68, 94.69,\n",
      "         94.12, 94.62, 94.65, 94.22, 94.19, 93.91, 94.24, 94.56, 94.57,\n",
      "         94.76, 94.87, 94.29, 94.34, 93.83, 94.04, 94.38, 94.46, 94.58,\n",
      "         94.46, 94.69, 94.11, 93.85, 94.04, 93.91, 94.57, 89.94, 74.54,\n",
      "         91.28, 91.63, 92.19, 92.04, 91.92, 92.15, 91.9 , 91.52, 91.34])]\n",
      " [array([88.94, 78.8 , 94.52, 94.78, 94.81, 94.4 , 94.31, 94.12, 94.03,\n",
      "         94.34, 94.76, 94.66, 94.86, 94.6 , 94.34, 93.62, 93.96, 94.69,\n",
      "         94.36, 94.75, 94.72, 94.7 , 94.44, 94.41, 94.31, 94.17, 94.34,\n",
      "         94.52, 94.72, 94.83, 94.29, 94.41, 94.  , 94.11, 94.72, 94.66,\n",
      "         94.57, 94.05, 94.04, 94.47, 94.44, 94.58, 94.81, 94.09, 94.22,\n",
      "         94.12, 93.91, 94.39, 94.49, 94.6 , 94.64, 94.62, 94.41, 94.12,\n",
      "         94.1 , 94.62, 94.12, 94.54, 94.47, 94.7 , 94.59, 94.14, 94.04,\n",
      "         94.44, 94.49, 94.58, 94.46, 94.61, 94.09, 94.41, 93.89, 94.28,\n",
      "         93.97, 94.44, 94.15, 94.64, 93.89, 94.61, 93.86, 94.34, 94.33,\n",
      "         94.6 , 94.46, 94.67, 94.22, 93.86, 94.15, 93.91, 94.54, 94.63,\n",
      "         94.52, 94.87, 94.14, 94.29, 94.13, 93.87, 94.52, 93.92, 94.7 ,\n",
      "         94.9 , 94.12, 94.35, 94.18, 93.76, 94.57, 94.45, 94.54, 94.56,\n",
      "         93.98, 93.91, 94.06, 93.95, 94.6 , 94.34, 94.41, 94.11, 94.34,\n",
      "         94.56, 94.52, 94.43, 94.86, 94.47, 94.14, 94.  , 94.28, 94.58,\n",
      "         94.59, 94.78, 94.75, 94.42, 93.65, 94.05, 94.65, 94.65, 77.42,\n",
      "         91.53, 91.43, 91.62, 91.96, 92.22, 92.05, 91.87, 92.08, 91.9 ])]\n",
      " [array([87.62, 77.2 , 94.67, 94.37, 94.68, 94.91, 94.66, 94.53, 93.65,\n",
      "         94.05, 94.68, 94.57, 94.69, 94.36, 94.39, 93.99, 94.12, 94.01,\n",
      "         94.58, 94.44, 94.4 , 94.91, 94.43, 94.53, 93.94, 93.98, 94.46,\n",
      "         94.33, 94.63, 94.8 , 94.24, 94.68, 94.22, 94.1 , 94.78, 94.46,\n",
      "         94.49, 94.89, 94.46, 94.17, 94.22, 93.95, 94.51, 94.54, 94.62,\n",
      "         94.58, 94.43, 94.43, 94.07, 94.03, 94.68, 94.45, 94.66, 94.66,\n",
      "         94.49, 94.03, 94.11, 94.  , 94.54, 94.48, 94.56, 94.71, 94.28,\n",
      "         94.04, 94.1 , 93.94, 94.39, 94.56, 91.25, 90.59, 94.03, 93.88,\n",
      "         94.73, 94.77, 94.46, 93.85, 94.11, 94.66, 94.54, 94.4 , 94.37,\n",
      "         94.62, 94.12, 94.09, 93.72, 94.55, 94.17, 94.77, 94.75, 94.32,\n",
      "         94.14, 93.9 , 94.46, 94.18, 94.54, 94.68, 94.3 , 89.54, 91.33,\n",
      "         93.63, 94.03, 93.78, 93.97, 94.13, 93.75, 93.53, 90.37, 88.21,\n",
      "         91.49, 91.91, 91.83, 92.47, 92.03, 93.67, 90.91, 90.64, 92.94,\n",
      "         94.64, 94.13, 94.69, 94.48, 90.75, 90.15, 92.31, 94.64, 94.61,\n",
      "         94.38, 94.44, 94.2 , 93.9 , 93.74, 94.58, 94.29, 94.58, 78.67,\n",
      "         91.37, 91.84, 92.15, 92.2 , 91.9 , 92.02, 91.67, 92.1 , 92.22])]]\n",
      "[[array([28.24, 28.25, 28.27, 57.83, 94.65, 94.67, 94.74, 94.66, 94.67,\n",
      "         94.48, 94.76, 94.63, 94.59, 94.65, 94.76, 94.82, 94.7 , 94.7 ,\n",
      "         94.8 , 94.53, 94.57, 94.73, 94.72, 94.77, 94.86, 94.5 , 94.61,\n",
      "         94.58, 94.6 , 94.64, 94.91, 94.66, 94.81, 94.63, 94.32, 94.59,\n",
      "         94.73, 94.58, 94.74, 94.94, 94.52, 94.52, 94.55, 94.43, 94.82,\n",
      "         94.61, 94.73, 94.64, 94.71, 94.68, 94.65, 94.73, 94.54, 94.5 ,\n",
      "         94.64, 94.64, 94.86, 94.72, 94.78, 94.73, 94.59, 94.76, 94.64,\n",
      "         94.78, 94.56, 94.68, 94.81, 94.71, 94.73, 94.76, 94.85, 94.66,\n",
      "         94.53, 94.76, 94.59, 94.56, 94.5 , 94.65, 94.51, 94.73, 94.65,\n",
      "         94.73, 94.63, 94.77, 94.72, 94.67, 94.32, 94.62, 94.64, 94.64,\n",
      "         94.68, 94.63, 94.75, 94.6 , 94.77, 94.67, 94.47, 94.75, 94.69,\n",
      "         94.75, 94.7 , 94.69, 94.7 , 94.65, 94.87, 94.63, 94.6 , 94.53,\n",
      "         94.62, 94.73, 94.88, 94.69, 94.57, 94.64, 94.76, 94.72, 94.45,\n",
      "         94.62, 94.54, 94.69, 94.63, 94.61, 94.72, 94.78, 94.81, 94.7 ,\n",
      "         94.68, 94.72, 94.72, 94.62, 94.65, 94.52, 94.59, 94.77, 94.64,\n",
      "         94.74, 94.75, 94.62, 94.78, 94.69, 94.77, 94.86, 94.78, 94.86,\n",
      "         94.67, 94.6 , 94.55, 94.61, 94.82, 79.74, 89.45, 94.4 , 94.6 ,\n",
      "         94.69, 94.07, 94.66, 94.65, 94.47])                           ]\n",
      " [array([90.89, 78.45, 94.69, 94.69, 94.77, 94.75, 94.65, 94.7 , 94.66,\n",
      "         94.81, 94.75, 94.72, 94.78, 94.81, 94.76, 94.64, 94.73, 94.81,\n",
      "         94.69, 94.56, 94.57, 94.68, 94.62, 94.81, 94.54, 94.61, 94.8 ,\n",
      "         94.75, 94.63, 94.6 , 94.55, 94.48, 94.79, 94.78, 94.65, 94.65,\n",
      "         94.59, 94.67, 94.53, 94.85, 94.75, 94.54, 94.64, 94.64, 94.44,\n",
      "         94.64, 94.52, 94.7 , 94.69, 94.61, 94.78, 94.68, 94.54, 94.6 ,\n",
      "         94.42, 94.68, 94.63, 94.7 , 94.67, 94.6 , 94.53, 94.58, 94.6 ,\n",
      "         94.63, 94.75, 94.52, 94.64, 94.68, 94.67, 94.63, 94.66, 94.67,\n",
      "         94.67, 94.69, 94.74, 94.54, 94.7 , 94.64, 94.63, 94.79, 94.82,\n",
      "         94.78, 94.76, 94.71, 94.88, 94.53, 94.75, 94.84, 94.62, 94.7 ,\n",
      "         94.82, 94.6 , 94.57, 94.67, 94.88, 94.73, 94.83, 94.76, 94.72,\n",
      "         94.79, 94.64, 94.75, 94.68, 94.72, 94.79, 94.77, 94.71, 94.72,\n",
      "         94.67, 94.59, 94.53, 94.43, 94.51, 94.72, 94.64, 94.69, 94.69,\n",
      "         94.7 , 94.74, 94.58, 94.57, 94.61, 94.82, 94.77, 94.49, 94.75,\n",
      "         94.73, 94.71, 94.73, 94.85, 94.47, 94.57, 94.58, 94.58, 94.51,\n",
      "         94.66, 94.71, 94.35, 94.43, 94.68, 94.78, 94.74, 94.68, 94.62,\n",
      "         94.86, 94.66, 94.61, 86.09, 86.08, 94.71, 94.28, 94.82, 94.41,\n",
      "         94.35, 94.68, 94.31])                                         ]\n",
      " [array([91.15, 81.32, 94.27, 94.74, 94.69, 94.72, 94.7 , 94.75, 94.73,\n",
      "         94.71, 94.6 , 94.68, 94.82, 94.77, 94.72, 94.77, 94.69, 94.77,\n",
      "         94.46, 94.91, 94.73, 94.71, 94.96, 94.56, 94.64, 94.73, 94.74,\n",
      "         94.64, 94.82, 94.76, 94.75, 94.61, 94.79, 94.87, 94.84, 94.86,\n",
      "         94.75, 94.58, 94.69, 94.78, 94.74, 94.72, 94.68, 94.66, 94.71,\n",
      "         94.71, 94.7 , 94.61, 94.62, 95.01, 94.64, 94.62, 94.68, 95.04,\n",
      "         94.72, 94.66, 94.63, 94.67, 94.69, 94.7 , 94.71, 94.73, 94.75,\n",
      "         94.81, 94.75, 94.8 , 94.74, 94.69, 94.76, 94.7 , 94.68, 94.7 ,\n",
      "         94.72, 94.77, 94.72, 94.82, 94.7 , 94.66, 94.8 , 94.69, 94.7 ,\n",
      "         94.76, 94.55, 94.61, 94.65, 94.65, 94.75, 94.66, 94.6 , 94.62,\n",
      "         94.69, 94.7 , 94.91, 94.83, 94.7 , 94.47, 94.62, 94.71, 94.67,\n",
      "         94.76, 94.66, 94.63, 94.68, 94.68, 94.66, 94.76, 94.82, 94.77,\n",
      "         94.7 , 94.71, 94.87, 94.76, 94.74, 94.74, 94.74, 94.73, 94.67,\n",
      "         94.67, 94.64, 94.74, 94.73, 94.66, 94.78, 94.75, 94.77, 94.78,\n",
      "         94.79, 94.75, 94.67, 94.62, 94.67, 94.5 , 94.65, 94.74, 94.62,\n",
      "         94.7 , 94.67, 94.64, 94.66, 94.72, 94.65, 94.54, 94.89, 94.65,\n",
      "         94.78, 94.75, 94.55, 94.79, 80.88, 92.7 , 94.72, 94.34, 94.69,\n",
      "         94.57, 94.42, 94.79, 94.46])                                  ]]\n"
     ]
    }
   ],
   "source": [
    "EpochEnergy_c = np.load(os.path.join(cifar100_dir, 'Epoch_energy.npy'), allow_pickle=True)\n",
    "print(EpochEnergy_c)\n",
    "EpochEnergy_f = np.load(os.path.join(fashionmnist_dir, 'Epoch_energy.npy'), allow_pickle=True)\n",
    "print(EpochEnergy_f)"
   ]
  },
  {
   "cell_type": "code",
   "execution_count": null,
   "metadata": {},
   "outputs": [
    {
     "name": "stdout",
     "output_type": "stream",
     "text": [
      "Epoch 0 AvgEnergy: 93.30229166666666\n",
      "Epoch 0 AvgEnergy: 93.04221518987342\n",
      "Epoch 1 AvgEnergy: 93.9511111111111\n",
      "Epoch 1 AvgEnergy: 94.42416666666668\n",
      "Epoch 2 AvgEnergy: 93.53395833333333\n",
      "Epoch 2 AvgEnergy: 94.49496815286624\n"
     ]
    }
   ],
   "source": [
    "# show the average energy consumption per second of each epoch \n",
    "for i in range(len(EpochEnergy_c)):\n",
    "    EpochEnergyi_c = EpochEnergy_c[i][0]\n",
    "    AvgEnergyi_c = np.mean(EpochEnergyi_c)\n",
    "    EpochEnergyi_f = EpochEnergy_f[i][0]\n",
    "    AvgEnergyi_f = np.mean(EpochEnergyi_f)\n",
    "    print(\"Epoch\", i, \"AvgEnergy:\", AvgEnergyi_c)\n",
    "    print(\"Epoch\", i, \"AvgEnergy:\", AvgEnergyi_f)"
   ]
  },
  {
   "cell_type": "code",
   "execution_count": 11,
   "metadata": {},
   "outputs": [
    {
     "name": "stdout",
     "output_type": "stream",
     "text": [
      "Epoch 0 TotalEnergy: 13435.529999999999\n",
      "Epoch 0 TotalEnergy: 14700.67\n",
      "Epoch 1 TotalEnergy: 13528.96\n",
      "Epoch 1 TotalEnergy: 14730.170000000002\n",
      "Epoch 2 TotalEnergy: 13468.89\n",
      "Epoch 2 TotalEnergy: 14835.71\n",
      "Total energy consumption of cifar100: 40433.38\n",
      "Total energy consumption of fashion_mnist: 44266.55\n"
     ]
    }
   ],
   "source": [
    "# show the total energy consumption of each epoch\n",
    "EnergyTotal_c = 0\n",
    "EnergyTotal_f = 0\n",
    "for i in range(len(EpochEnergy_c)):\n",
    "    EpochEnergyi_c = EpochEnergy_c[i][0]\n",
    "    TotalEnergyi_c = np.sum(EpochEnergyi_c)\n",
    "    EnergyTotal_c += TotalEnergyi_c\n",
    "    EpochEnergyi_f = EpochEnergy_f[i][0]\n",
    "    TotalEnergyi_f = np.sum(EpochEnergyi_f)\n",
    "    EnergyTotal_f += TotalEnergyi_f\n",
    "    print(\"Epoch\", i, \"TotalEnergy:\", TotalEnergyi_c)\n",
    "    print(\"Epoch\", i, \"TotalEnergy:\", TotalEnergyi_f)\n",
    "\n",
    "print(\"Total energy consumption of cifar100:\", EnergyTotal_c)\n",
    "print(\"Total energy consumption of fashion_mnist:\", EnergyTotal_f)"
   ]
  },
  {
   "cell_type": "code",
   "execution_count": null,
   "metadata": {},
   "outputs": [],
   "source": []
  }
 ],
 "metadata": {
  "kernelspec": {
   "display_name": "GreenAI",
   "language": "python",
   "name": "greenai"
  },
  "language_info": {
   "codemirror_mode": {
    "name": "ipython",
    "version": 3
   },
   "file_extension": ".py",
   "mimetype": "text/x-python",
   "name": "python",
   "nbconvert_exporter": "python",
   "pygments_lexer": "ipython3",
   "version": "3.10.15"
  }
 },
 "nbformat": 4,
 "nbformat_minor": 2
}
