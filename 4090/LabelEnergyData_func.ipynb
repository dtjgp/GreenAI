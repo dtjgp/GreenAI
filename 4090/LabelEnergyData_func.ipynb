{
 "cells": [
  {
   "cell_type": "markdown",
   "metadata": {},
   "source": [
    "# This code is to get the labeled_energy_data csv file of each model"
   ]
  },
  {
   "cell_type": "markdown",
   "metadata": {},
   "source": [
    "## Import the lib"
   ]
  },
  {
   "cell_type": "code",
   "execution_count": 1,
   "metadata": {},
   "outputs": [
    {
     "ename": "ModuleNotFoundError",
     "evalue": "No module named 'seaborn'",
     "output_type": "error",
     "traceback": [
      "\u001b[0;31m---------------------------------------------------------------------------\u001b[0m",
      "\u001b[0;31mModuleNotFoundError\u001b[0m                       Traceback (most recent call last)",
      "Cell \u001b[0;32mIn[1], line 4\u001b[0m\n\u001b[1;32m      2\u001b[0m \u001b[38;5;28;01mimport\u001b[39;00m \u001b[38;5;21;01mnumpy\u001b[39;00m \u001b[38;5;28;01mas\u001b[39;00m \u001b[38;5;21;01mnp\u001b[39;00m\n\u001b[1;32m      3\u001b[0m \u001b[38;5;28;01mimport\u001b[39;00m \u001b[38;5;21;01mos\u001b[39;00m\n\u001b[0;32m----> 4\u001b[0m \u001b[38;5;28;01mimport\u001b[39;00m \u001b[38;5;21;01mseaborn\u001b[39;00m \u001b[38;5;28;01mas\u001b[39;00m \u001b[38;5;21;01msns\u001b[39;00m\n\u001b[1;32m      5\u001b[0m \u001b[38;5;28;01mfrom\u001b[39;00m \u001b[38;5;21;01mFunctions\u001b[39;00m\u001b[38;5;21;01m.\u001b[39;00m\u001b[38;5;21;01mLabelEnergyAnalysis\u001b[39;00m \u001b[38;5;28;01mimport\u001b[39;00m \u001b[38;5;241m*\u001b[39m\n",
      "\u001b[0;31mModuleNotFoundError\u001b[0m: No module named 'seaborn'"
     ]
    }
   ],
   "source": [
    "import pandas as pd\n",
    "import numpy as np\n",
    "import os\n",
    "# import seaborn as sns\n",
    "from Functions.LabelEnergyAnalysis import *"
   ]
  },
  {
   "cell_type": "markdown",
   "metadata": {},
   "source": [
    "## find the data path"
   ]
  },
  {
   "cell_type": "code",
   "execution_count": 2,
   "metadata": {},
   "outputs": [
    {
     "name": "stdout",
     "output_type": "stream",
     "text": [
      "['googlenet_origin', 'resnet50', 'resnet34', 'mobilenetv2', 'vgg13', 'googlenet_mod7', 'googlenet_mod9', 'googlenet_mod8', 'googlenet_mod1', 'googlenet_mod6', 'resnet18', 'mobilenetv1', 'vgg16', 'vgg11', 'googlenet_mod3', 'googlenet_mod4', 'googlenet_mod5', 'googlenet_mod2', 'alexnet']\n",
      "The database path is /Users/dtjgp/Projects/GreenAI/4090/Database\n"
     ]
    }
   ],
   "source": [
    "current_path = os.getcwd()\n",
    "data_path = os.path.join(current_path, 'CNNModelsData')\n",
    "data_folders = os.listdir(data_path)\n",
    "# data_folders = ['alexnet']\n",
    "print(data_folders)\n",
    "\n",
    "# create a dictionary to store the data for the database\n",
    "if not os.path.exists('Database'):\n",
    "    os.makedirs('Database')\n",
    "\n",
    "database_dir = os.path.join(current_path, 'Database')\n",
    "print(f'The database path is {database_dir}')"
   ]
  },
  {
   "cell_type": "markdown",
   "metadata": {},
   "source": [
    "## load all the model data"
   ]
  },
  {
   "cell_type": "code",
   "execution_count": 3,
   "metadata": {},
   "outputs": [],
   "source": [
    "# set the epoch number, batch size and the round number as well as the sampling rate\n",
    "epoch = 5\n",
    "batch_size = 128\n",
    "round_num = 0\n",
    "sampling_rate = 2"
   ]
  },
  {
   "cell_type": "code",
   "execution_count": 4,
   "metadata": {},
   "outputs": [
    {
     "name": "stdout",
     "output_type": "stream",
     "text": [
      "The folder name is E5_B128_R0_SR2\n",
      "/Users/dtjgp/Projects/GreenAI/4090/CNNModelsData/googlenet_origin/fashion_mnist/E5_B128_R0_SR2\n",
      "/Users/dtjgp/Projects/GreenAI/4090/CNNModelsData/resnet50/fashion_mnist/E5_B128_R0_SR2\n"
     ]
    },
    {
     "name": "stderr",
     "output_type": "stream",
     "text": [
      "/var/folders/d9/50r202r14gbc_shcxg960xrh0000gn/T/ipykernel_35745/2670672491.py:27: DtypeWarning: Columns (0,1,2) have mixed types. Specify dtype option on import or set low_memory=False.\n",
      "  energy_data_file = pd.read_csv(os.path.join(folder_path, 'energy_consumption_file.csv'))\n"
     ]
    },
    {
     "name": "stdout",
     "output_type": "stream",
     "text": [
      "/Users/dtjgp/Projects/GreenAI/4090/CNNModelsData/resnet34/fashion_mnist/E5_B128_R0_SR2\n"
     ]
    },
    {
     "name": "stderr",
     "output_type": "stream",
     "text": [
      "/var/folders/d9/50r202r14gbc_shcxg960xrh0000gn/T/ipykernel_35745/2670672491.py:27: DtypeWarning: Columns (0,1,2) have mixed types. Specify dtype option on import or set low_memory=False.\n",
      "  energy_data_file = pd.read_csv(os.path.join(folder_path, 'energy_consumption_file.csv'))\n"
     ]
    },
    {
     "name": "stdout",
     "output_type": "stream",
     "text": [
      "/Users/dtjgp/Projects/GreenAI/4090/CNNModelsData/mobilenetv2/fashion_mnist/E5_B128_R0_SR2\n",
      "/Users/dtjgp/Projects/GreenAI/4090/CNNModelsData/vgg13/fashion_mnist/E5_B128_R0_SR2\n"
     ]
    },
    {
     "name": "stderr",
     "output_type": "stream",
     "text": [
      "/var/folders/d9/50r202r14gbc_shcxg960xrh0000gn/T/ipykernel_35745/2670672491.py:27: DtypeWarning: Columns (0,1,2) have mixed types. Specify dtype option on import or set low_memory=False.\n",
      "  energy_data_file = pd.read_csv(os.path.join(folder_path, 'energy_consumption_file.csv'))\n"
     ]
    },
    {
     "name": "stdout",
     "output_type": "stream",
     "text": [
      "/Users/dtjgp/Projects/GreenAI/4090/CNNModelsData/googlenet_mod7/fashion_mnist/E5_B128_R0_SR2\n",
      "/Users/dtjgp/Projects/GreenAI/4090/CNNModelsData/googlenet_mod9/fashion_mnist/E5_B128_R0_SR2\n",
      "/Users/dtjgp/Projects/GreenAI/4090/CNNModelsData/googlenet_mod8/fashion_mnist/E5_B128_R0_SR2\n",
      "/Users/dtjgp/Projects/GreenAI/4090/CNNModelsData/googlenet_mod1/fashion_mnist/E5_B128_R0_SR2\n",
      "/Users/dtjgp/Projects/GreenAI/4090/CNNModelsData/googlenet_mod6/fashion_mnist/E5_B128_R0_SR2\n",
      "/Users/dtjgp/Projects/GreenAI/4090/CNNModelsData/resnet18/fashion_mnist/E5_B128_R0_SR2\n",
      "/Users/dtjgp/Projects/GreenAI/4090/CNNModelsData/mobilenetv1/fashion_mnist/E5_B128_R0_SR2\n",
      "/Users/dtjgp/Projects/GreenAI/4090/CNNModelsData/vgg16/fashion_mnist/E5_B128_R0_SR2\n"
     ]
    },
    {
     "name": "stderr",
     "output_type": "stream",
     "text": [
      "/var/folders/d9/50r202r14gbc_shcxg960xrh0000gn/T/ipykernel_35745/2670672491.py:27: DtypeWarning: Columns (0,1,2) have mixed types. Specify dtype option on import or set low_memory=False.\n",
      "  energy_data_file = pd.read_csv(os.path.join(folder_path, 'energy_consumption_file.csv'))\n"
     ]
    },
    {
     "name": "stdout",
     "output_type": "stream",
     "text": [
      "/Users/dtjgp/Projects/GreenAI/4090/CNNModelsData/vgg11/fashion_mnist/E5_B128_R0_SR2\n"
     ]
    },
    {
     "name": "stderr",
     "output_type": "stream",
     "text": [
      "/var/folders/d9/50r202r14gbc_shcxg960xrh0000gn/T/ipykernel_35745/2670672491.py:27: DtypeWarning: Columns (0,1,2) have mixed types. Specify dtype option on import or set low_memory=False.\n",
      "  energy_data_file = pd.read_csv(os.path.join(folder_path, 'energy_consumption_file.csv'))\n"
     ]
    },
    {
     "name": "stdout",
     "output_type": "stream",
     "text": [
      "/Users/dtjgp/Projects/GreenAI/4090/CNNModelsData/googlenet_mod3/fashion_mnist/E5_B128_R0_SR2\n",
      "/Users/dtjgp/Projects/GreenAI/4090/CNNModelsData/googlenet_mod4/fashion_mnist/E5_B128_R0_SR2\n",
      "/Users/dtjgp/Projects/GreenAI/4090/CNNModelsData/googlenet_mod5/fashion_mnist/E5_B128_R0_SR2\n",
      "/Users/dtjgp/Projects/GreenAI/4090/CNNModelsData/googlenet_mod2/fashion_mnist/E5_B128_R0_SR2\n",
      "/Users/dtjgp/Projects/GreenAI/4090/CNNModelsData/alexnet/fashion_mnist/E5_B128_R0_SR2\n",
      "/Users/dtjgp/Projects/GreenAI/4090/CNNModelsData/googlenet_origin/cifar100/E5_B128_R0_SR2\n"
     ]
    },
    {
     "name": "stderr",
     "output_type": "stream",
     "text": [
      "/var/folders/d9/50r202r14gbc_shcxg960xrh0000gn/T/ipykernel_35745/2670672491.py:27: DtypeWarning: Columns (0,1,2) have mixed types. Specify dtype option on import or set low_memory=False.\n",
      "  energy_data_file = pd.read_csv(os.path.join(folder_path, 'energy_consumption_file.csv'))\n"
     ]
    },
    {
     "name": "stdout",
     "output_type": "stream",
     "text": [
      "/Users/dtjgp/Projects/GreenAI/4090/CNNModelsData/resnet50/cifar100/E5_B128_R0_SR2\n"
     ]
    },
    {
     "name": "stderr",
     "output_type": "stream",
     "text": [
      "/var/folders/d9/50r202r14gbc_shcxg960xrh0000gn/T/ipykernel_35745/2670672491.py:27: DtypeWarning: Columns (0,1,2) have mixed types. Specify dtype option on import or set low_memory=False.\n",
      "  energy_data_file = pd.read_csv(os.path.join(folder_path, 'energy_consumption_file.csv'))\n"
     ]
    },
    {
     "name": "stdout",
     "output_type": "stream",
     "text": [
      "/Users/dtjgp/Projects/GreenAI/4090/CNNModelsData/resnet34/cifar100/E5_B128_R0_SR2\n",
      "/Users/dtjgp/Projects/GreenAI/4090/CNNModelsData/mobilenetv2/cifar100/E5_B128_R0_SR2\n"
     ]
    },
    {
     "name": "stderr",
     "output_type": "stream",
     "text": [
      "/var/folders/d9/50r202r14gbc_shcxg960xrh0000gn/T/ipykernel_35745/2670672491.py:27: DtypeWarning: Columns (0,1,2) have mixed types. Specify dtype option on import or set low_memory=False.\n",
      "  energy_data_file = pd.read_csv(os.path.join(folder_path, 'energy_consumption_file.csv'))\n"
     ]
    },
    {
     "name": "stdout",
     "output_type": "stream",
     "text": [
      "/Users/dtjgp/Projects/GreenAI/4090/CNNModelsData/vgg13/cifar100/E5_B128_R0_SR2\n"
     ]
    },
    {
     "name": "stderr",
     "output_type": "stream",
     "text": [
      "/var/folders/d9/50r202r14gbc_shcxg960xrh0000gn/T/ipykernel_35745/2670672491.py:27: DtypeWarning: Columns (0,1,2) have mixed types. Specify dtype option on import or set low_memory=False.\n",
      "  energy_data_file = pd.read_csv(os.path.join(folder_path, 'energy_consumption_file.csv'))\n"
     ]
    },
    {
     "name": "stdout",
     "output_type": "stream",
     "text": [
      "/Users/dtjgp/Projects/GreenAI/4090/CNNModelsData/googlenet_mod7/cifar100/E5_B128_R0_SR2\n"
     ]
    },
    {
     "name": "stderr",
     "output_type": "stream",
     "text": [
      "/var/folders/d9/50r202r14gbc_shcxg960xrh0000gn/T/ipykernel_35745/2670672491.py:27: DtypeWarning: Columns (0,1,2) have mixed types. Specify dtype option on import or set low_memory=False.\n",
      "  energy_data_file = pd.read_csv(os.path.join(folder_path, 'energy_consumption_file.csv'))\n"
     ]
    },
    {
     "name": "stdout",
     "output_type": "stream",
     "text": [
      "/Users/dtjgp/Projects/GreenAI/4090/CNNModelsData/googlenet_mod9/cifar100/E5_B128_R0_SR2\n",
      "/Users/dtjgp/Projects/GreenAI/4090/CNNModelsData/googlenet_mod8/cifar100/E5_B128_R0_SR2\n"
     ]
    },
    {
     "name": "stderr",
     "output_type": "stream",
     "text": [
      "/var/folders/d9/50r202r14gbc_shcxg960xrh0000gn/T/ipykernel_35745/2670672491.py:27: DtypeWarning: Columns (0,1,2) have mixed types. Specify dtype option on import or set low_memory=False.\n",
      "  energy_data_file = pd.read_csv(os.path.join(folder_path, 'energy_consumption_file.csv'))\n"
     ]
    },
    {
     "name": "stdout",
     "output_type": "stream",
     "text": [
      "/Users/dtjgp/Projects/GreenAI/4090/CNNModelsData/googlenet_mod1/cifar100/E5_B128_R0_SR2\n",
      "/Users/dtjgp/Projects/GreenAI/4090/CNNModelsData/googlenet_mod6/cifar100/E5_B128_R0_SR2\n",
      "/Users/dtjgp/Projects/GreenAI/4090/CNNModelsData/resnet18/cifar100/E5_B128_R0_SR2\n"
     ]
    },
    {
     "name": "stderr",
     "output_type": "stream",
     "text": [
      "/var/folders/d9/50r202r14gbc_shcxg960xrh0000gn/T/ipykernel_35745/2670672491.py:27: DtypeWarning: Columns (0,1,2) have mixed types. Specify dtype option on import or set low_memory=False.\n",
      "  energy_data_file = pd.read_csv(os.path.join(folder_path, 'energy_consumption_file.csv'))\n"
     ]
    },
    {
     "name": "stdout",
     "output_type": "stream",
     "text": [
      "/Users/dtjgp/Projects/GreenAI/4090/CNNModelsData/mobilenetv1/cifar100/E5_B128_R0_SR2\n",
      "/Users/dtjgp/Projects/GreenAI/4090/CNNModelsData/vgg16/cifar100/E5_B128_R0_SR2\n"
     ]
    },
    {
     "name": "stderr",
     "output_type": "stream",
     "text": [
      "/var/folders/d9/50r202r14gbc_shcxg960xrh0000gn/T/ipykernel_35745/2670672491.py:27: DtypeWarning: Columns (0,1,2) have mixed types. Specify dtype option on import or set low_memory=False.\n",
      "  energy_data_file = pd.read_csv(os.path.join(folder_path, 'energy_consumption_file.csv'))\n"
     ]
    },
    {
     "name": "stdout",
     "output_type": "stream",
     "text": [
      "/Users/dtjgp/Projects/GreenAI/4090/CNNModelsData/vgg11/cifar100/E5_B128_R0_SR2\n"
     ]
    },
    {
     "name": "stderr",
     "output_type": "stream",
     "text": [
      "/var/folders/d9/50r202r14gbc_shcxg960xrh0000gn/T/ipykernel_35745/2670672491.py:27: DtypeWarning: Columns (0,1,2) have mixed types. Specify dtype option on import or set low_memory=False.\n",
      "  energy_data_file = pd.read_csv(os.path.join(folder_path, 'energy_consumption_file.csv'))\n"
     ]
    },
    {
     "name": "stdout",
     "output_type": "stream",
     "text": [
      "/Users/dtjgp/Projects/GreenAI/4090/CNNModelsData/googlenet_mod3/cifar100/E5_B128_R0_SR2\n",
      "/Users/dtjgp/Projects/GreenAI/4090/CNNModelsData/googlenet_mod4/cifar100/E5_B128_R0_SR2\n",
      "/Users/dtjgp/Projects/GreenAI/4090/CNNModelsData/googlenet_mod5/cifar100/E5_B128_R0_SR2\n",
      "/Users/dtjgp/Projects/GreenAI/4090/CNNModelsData/googlenet_mod2/cifar100/E5_B128_R0_SR2\n",
      "/Users/dtjgp/Projects/GreenAI/4090/CNNModelsData/alexnet/cifar100/E5_B128_R0_SR2\n"
     ]
    }
   ],
   "source": [
    "# for all the folder names in the data folder, generate the path to the folder\n",
    "# and print the path\n",
    "folder_name = f'E{epoch}_B{batch_size}_R{round_num}_SR{sampling_rate}'\n",
    "print(f'The folder name is {folder_name}')\n",
    "\n",
    "data_dir_list = ['fashion_mnist', 'cifar100']\n",
    "# data_dir_list = ['cifar100']\n",
    "\n",
    "\n",
    "for dataset in data_dir_list:\n",
    "    for folder in data_folders:\n",
    "        folder_path = os.path.join(data_path, folder)\n",
    "        folder_path = os.path.join(folder_path, dataset)\n",
    "        folder_path = os.path.join(folder_path, folder_name)\n",
    "        print(folder_path)\n",
    "\n",
    "        # create a directory to store the database of each model in the database folder\n",
    "        database_path = os.path.join(database_dir, folder)\n",
    "        database_path = os.path.join(database_path, dataset)\n",
    "        database_path = os.path.join(database_path, folder_name)\n",
    "\n",
    "        # create the directory if it does not exist\n",
    "        if not os.path.exists(database_path):\n",
    "            os.makedirs(database_path)\n",
    "\n",
    "        # load the csv files \n",
    "        energy_data_file = pd.read_csv(os.path.join(folder_path, 'energy_consumption_file.csv'))\n",
    "        energy_data = energy_data_file.copy()\n",
    "        # drop the last column\n",
    "        energy_data = energy_data.iloc[:, :-1]\n",
    "        energy_data['timestamp'] = pd.to_numeric(energy_data['timestamp'], errors='coerce')\n",
    "        energy_data['power_in_watts'] = pd.to_numeric(energy_data['power_in_watts'], errors='coerce')\n",
    "\n",
    "        # load the npy files\n",
    "        to_device = np.load(os.path.join(folder_path, 'to_device.npy'), allow_pickle=True)\n",
    "        forward = np.load(os.path.join(folder_path, 'forward.npy'), allow_pickle=True)\n",
    "        loss = np.load(os.path.join(folder_path, 'loss.npy'), allow_pickle=True)\n",
    "        backward = np.load(os.path.join(folder_path, 'backward.npy'), allow_pickle=True)\n",
    "        optimize = np.load(os.path.join(folder_path, 'optimize.npy'), allow_pickle=True)\n",
    "\n",
    "        # create energy consumption data to save each step energy consumption\n",
    "        # use the ndarray to save the data, the shape is the same as the original data with the shape[2] changed to 3\n",
    "        # the first two value is the start time and end time, the third value is the energy consumption\n",
    "        to_device_energy = np.zeros((to_device.shape[0], to_device.shape[1], 3), dtype=np.float64)\n",
    "        forward_energy = np.zeros((forward.shape[0], forward.shape[1], 3), dtype=np.float64)\n",
    "        loss_energy = np.zeros((loss.shape[0], loss.shape[1], 3), dtype=np.float64)\n",
    "        backward_energy = np.zeros((backward.shape[0], backward.shape[1], 3), dtype=np.float64)\n",
    "        optimize_energy = np.zeros((optimize.shape[0], optimize.shape[1], 3), dtype=np.float64)\n",
    "\n",
    "        to_device_df = transfer_type(to_device)\n",
    "        forward_df = transfer_type(forward)\n",
    "        loss_df = transfer_type(loss)\n",
    "        backward_df = transfer_type(backward)\n",
    "        optimize_df = transfer_type(optimize)\n",
    "\n",
    "        # model_name = database_path.split('_')[-3]\n",
    "\n",
    "        # if model_name == 'alexnet':\n",
    "        #     print(to_device)\n",
    "\n",
    "        # check if there is any nan value in the data\n",
    "        # print(f'The nan value in the to_device data is {np.isnan(to_device).any()}')\n",
    "\n",
    "        # check if there is any value that the type is not float\n",
    "        # Check if there is any value that the type is not float and print a warning\n",
    "        # if to_device.dtype != np.float64:\n",
    "        #     print(f'WARNING: The to_device data type is {to_device.dtype}, expected float64')\n",
    "\n",
    "        # calculate the energy consumption for each step, \n",
    "        # each runs 2 epochs, the first value of the shape is the epoch number\n",
    "        # the second value is number of batches\n",
    "        for epoch in range(to_device.shape[0]): # for each epoch\n",
    "            for batch in range(to_device.shape[1]): # for each batch\n",
    "                to_device_energy[epoch][batch][0] = to_device[epoch][batch][0]\n",
    "                to_device_energy[epoch][batch][1] = to_device[epoch][batch][1]\n",
    "                # print(f'The value is {to_device[epoch][batch][0]} and the type is {type(to_device[epoch][batch][0])}')\n",
    "                # print(f'The value is {to_device[epoch][batch][1]} and the type is {type(to_device[epoch][batch][1])}')\n",
    "                # print(f'The energy_data values are{energy_data.values}')\n",
    "                # # check if there is any 0 value in the data\n",
    "                # if to_device[epoch][batch][0] == 0 or to_device[epoch][batch][1] == 0:\n",
    "                #     print(f'The value is 0 in the to_device data, the epoch is {epoch} and the batch is {batch}')\n",
    "                to_device_energy[epoch][batch][2] = integrate_power_over_interval(energy_data.values, to_device[epoch][batch][0], to_device[epoch][batch][1])\n",
    "                # add the value to the dataframe\n",
    "                to_device_df.iloc[batch][epoch].append(to_device_energy[epoch][batch][2])\n",
    "                # to_device_df.loc[(to_device_df['epoch'] == epoch) & (to_device_df['batch'] == batch), 'energy'] = to_device_energy[epoch][batch][2]\n",
    "\n",
    "                forward_energy[epoch][batch][0] = forward[epoch][batch][0]\n",
    "                forward_energy[epoch][batch][1] = forward[epoch][batch][1]\n",
    "                forward_energy[epoch][batch][2] = integrate_power_over_interval(energy_data.values, forward[epoch][batch][0], forward[epoch][batch][1])\n",
    "                # add the value to the dataframe\n",
    "                forward_df.iloc[batch][epoch].append(forward_energy[epoch][batch][2])\n",
    "                # forward_df.loc[(forward_df['epoch'] == epoch) & (forward_df['batch'] == batch), 'energy'] = forward_energy[epoch][batch][2]\n",
    "\n",
    "                loss_energy[epoch][batch][0] = loss[epoch][batch][0]\n",
    "                loss_energy[epoch][batch][1] = loss[epoch][batch][1]\n",
    "                loss_energy[epoch][batch][2] = integrate_power_over_interval(energy_data.values, loss[epoch][batch][0], loss[epoch][batch][1])\n",
    "                # add the value to the dataframe\n",
    "                loss_df.iloc[batch][epoch].append(loss_energy[epoch][batch][2])\n",
    "                # loss_df.loc[(loss_df['epoch'] == epoch) & (loss_df['batch'] == batch), 'energy'] = loss_energy[epoch][batch][2]\n",
    "\n",
    "                backward_energy[epoch][batch][0] = backward[epoch][batch][0]\n",
    "                backward_energy[epoch][batch][1] = backward[epoch][batch][1]\n",
    "                backward_energy[epoch][batch][2] = integrate_power_over_interval(energy_data.values, backward[epoch][batch][0], backward[epoch][batch][1])\n",
    "                # add the value to the dataframe\n",
    "                backward_df.iloc[batch][epoch].append(backward_energy[epoch][batch][2])\n",
    "                # backward_df.loc[(backward_df['epoch'] == epoch) & (backward_df['batch'] == batch), 'energy'] = backward_energy[epoch][batch][2]\n",
    "\n",
    "                optimize_energy[epoch][batch][0] = optimize[epoch][batch][0]\n",
    "                optimize_energy[epoch][batch][1] = optimize[epoch][batch][1]\n",
    "                optimize_energy[epoch][batch][2] = integrate_power_over_interval(energy_data.values, optimize[epoch][batch][0], optimize[epoch][batch][1])\n",
    "                # add the value to the dataframe\n",
    "                optimize_df.iloc[batch][epoch].append(optimize_energy[epoch][batch][2])\n",
    "                # optimize_df.loc[(optimize_df['epoch'] == epoch) & (optimize_df['batch'] == batch), 'energy'] = optimize_energy[epoch][batch][2]\n",
    "\n",
    "        # save the energy consumption data to the folder\n",
    "        np.save(os.path.join(folder_path, 'to_device_energy.npy'), to_device_energy, allow_pickle=True)\n",
    "        np.save(os.path.join(folder_path, 'forward_energy.npy'), forward_energy, allow_pickle=True)\n",
    "        np.save(os.path.join(folder_path, 'loss_energy.npy'), loss_energy, allow_pickle=True)\n",
    "        np.save(os.path.join(folder_path, 'backward_energy.npy'), backward_energy, allow_pickle=True)\n",
    "        np.save(os.path.join(folder_path, 'optimize_energy.npy'), optimize_energy, allow_pickle=True)\n",
    "\n",
    "        # Set the display format for floating-point numbers to avoid scientific notation\n",
    "        pd.options.display.float_format = '{:.6f}'.format\n",
    "\n",
    "        # Use the function to label the energy consumption data\n",
    "        labeled_energy_data = label_energy_consumption(energy_data, to_device, forward, loss, backward, optimize)\n",
    "        # print(labeled_energy_data.head())\n",
    "\n",
    "        # save the file to the folder\n",
    "        labeled_energy_data.to_csv(os.path.join(folder_path, 'labeled_energy_data.csv'), index=False)\n",
    "\n",
    "        # save all the dataframe data to the database\n",
    "        to_device_df.to_csv(os.path.join(database_path, 'to_device.csv'), index=False)\n",
    "        forward_df.to_csv(os.path.join(database_path, 'forward.csv'), index=False)\n",
    "        loss_df.to_csv(os.path.join(database_path, 'loss.csv'), index=False)\n",
    "        backward_df.to_csv(os.path.join(database_path, 'backward.csv'), index=False)\n",
    "        optimize_df.to_csv(os.path.join(database_path, 'optimize.csv'), index=False)\n",
    "        labeled_energy_data.to_csv(os.path.join(database_path, 'labeled_energy_data.csv'), index=False)\n",
    "        "
   ]
  },
  {
   "cell_type": "code",
   "execution_count": null,
   "metadata": {},
   "outputs": [],
   "source": []
  }
 ],
 "metadata": {
  "kernelspec": {
   "display_name": "greenai",
   "language": "python",
   "name": "python3"
  },
  "language_info": {
   "codemirror_mode": {
    "name": "ipython",
    "version": 3
   },
   "file_extension": ".py",
   "mimetype": "text/x-python",
   "name": "python",
   "nbconvert_exporter": "python",
   "pygments_lexer": "ipython3",
   "version": "3.10.16"
  }
 },
 "nbformat": 4,
 "nbformat_minor": 2
}
