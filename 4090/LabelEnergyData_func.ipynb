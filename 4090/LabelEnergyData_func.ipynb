{
 "cells": [
  {
   "cell_type": "markdown",
   "metadata": {},
   "source": [
    "# This code is to get the labeled_energy_data csv file of each model"
   ]
  },
  {
   "cell_type": "markdown",
   "metadata": {},
   "source": [
    "## Import the lib"
   ]
  },
  {
   "cell_type": "code",
   "execution_count": 1,
   "metadata": {},
   "outputs": [],
   "source": [
    "import pandas as pd\n",
    "import numpy as np\n",
    "import os\n",
    "import seaborn as sns\n",
    "from Functions.LabelEnergyAnalysis import *"
   ]
  },
  {
   "cell_type": "markdown",
   "metadata": {},
   "source": [
    "## find the data path"
   ]
  },
  {
   "cell_type": "code",
   "execution_count": 2,
   "metadata": {},
   "outputs": [
    {
     "name": "stdout",
     "output_type": "stream",
     "text": [
      "['googlenet_origin', 'resnet50', 'resnet34', 'mobilenetv2', 'vgg13', 'googlenet_mod7', 'googlenet_mod9', 'googlenet_mod8', 'googlenet_mod1', 'googlenet_mod6', 'resnet18', 'mobilenetv1', 'vgg16', 'vgg11', 'googlenet_mod3', 'googlenet_mod4', 'googlenet_mod5', 'googlenet_mod2', 'alexnet']\n",
      "The database path is /Users/dtjgp/Projects/GreenAI/4090/Database\n"
     ]
    }
   ],
   "source": [
    "current_path = os.getcwd()\n",
    "data_path = os.path.join(current_path, 'CNNModelsData')\n",
    "data_folders = os.listdir(data_path)\n",
    "print(data_folders)\n",
    "\n",
    "# create a dictionary to store the data for the database\n",
    "if not os.path.exists('Database'):\n",
    "    os.makedirs('Database')\n",
    "\n",
    "database_dir = os.path.join(current_path, 'Database')\n",
    "print(f'The database path is {database_dir}')"
   ]
  },
  {
   "cell_type": "markdown",
   "metadata": {},
   "source": [
    "## load all the model data"
   ]
  },
  {
   "cell_type": "code",
   "execution_count": 3,
   "metadata": {},
   "outputs": [],
   "source": [
    "# set the epoch number, batch size and the round number as well as the sampling rate\n",
    "epoch = 5\n",
    "batch_size = 128\n",
    "round_num = 0\n",
    "sampling_rate = 2"
   ]
  },
  {
   "cell_type": "code",
   "execution_count": 4,
   "metadata": {},
   "outputs": [
    {
     "name": "stdout",
     "output_type": "stream",
     "text": [
      "The folder name is E5_B128_R0_SR2\n",
      "/Users/dtjgp/Projects/GreenAI/4090/CNNModelsData/googlenet_origin/cifar100/E5_B128_R0_SR2\n",
      "/Users/dtjgp/Projects/GreenAI/4090/CNNModelsData/resnet50/cifar100/E5_B128_R0_SR2\n",
      "/Users/dtjgp/Projects/GreenAI/4090/CNNModelsData/resnet34/cifar100/E5_B128_R0_SR2\n",
      "/Users/dtjgp/Projects/GreenAI/4090/CNNModelsData/mobilenetv2/cifar100/E5_B128_R0_SR2\n"
     ]
    },
    {
     "ename": "FileNotFoundError",
     "evalue": "[Errno 2] No such file or directory: '/Users/dtjgp/Projects/GreenAI/4090/CNNModelsData/mobilenetv2/cifar100/E5_B128_R0_SR2/energy_consumption_file.csv'",
     "output_type": "error",
     "traceback": [
      "\u001b[0;31m---------------------------------------------------------------------------\u001b[0m",
      "\u001b[0;31mFileNotFoundError\u001b[0m                         Traceback (most recent call last)",
      "Cell \u001b[0;32mIn[4], line 27\u001b[0m\n\u001b[1;32m     24\u001b[0m     os\u001b[38;5;241m.\u001b[39mmakedirs(database_path)\n\u001b[1;32m     26\u001b[0m \u001b[38;5;66;03m# load the csv files \u001b[39;00m\n\u001b[0;32m---> 27\u001b[0m energy_data \u001b[38;5;241m=\u001b[39m \u001b[43mpd\u001b[49m\u001b[38;5;241;43m.\u001b[39;49m\u001b[43mread_csv\u001b[49m\u001b[43m(\u001b[49m\u001b[43mos\u001b[49m\u001b[38;5;241;43m.\u001b[39;49m\u001b[43mpath\u001b[49m\u001b[38;5;241;43m.\u001b[39;49m\u001b[43mjoin\u001b[49m\u001b[43m(\u001b[49m\u001b[43mfolder_path\u001b[49m\u001b[43m,\u001b[49m\u001b[43m \u001b[49m\u001b[38;5;124;43m'\u001b[39;49m\u001b[38;5;124;43menergy_consumption_file.csv\u001b[39;49m\u001b[38;5;124;43m'\u001b[39;49m\u001b[43m)\u001b[49m\u001b[43m)\u001b[49m\n\u001b[1;32m     28\u001b[0m energy_data[\u001b[38;5;124m'\u001b[39m\u001b[38;5;124mtimestamp\u001b[39m\u001b[38;5;124m'\u001b[39m] \u001b[38;5;241m=\u001b[39m pd\u001b[38;5;241m.\u001b[39mto_numeric(energy_data[\u001b[38;5;124m'\u001b[39m\u001b[38;5;124mtimestamp\u001b[39m\u001b[38;5;124m'\u001b[39m], errors\u001b[38;5;241m=\u001b[39m\u001b[38;5;124m'\u001b[39m\u001b[38;5;124mcoerce\u001b[39m\u001b[38;5;124m'\u001b[39m)\n\u001b[1;32m     30\u001b[0m \u001b[38;5;66;03m# load the npy files\u001b[39;00m\n",
      "File \u001b[0;32m~/miniconda3/envs/greenai/lib/python3.10/site-packages/pandas/io/parsers/readers.py:912\u001b[0m, in \u001b[0;36mread_csv\u001b[0;34m(filepath_or_buffer, sep, delimiter, header, names, index_col, usecols, dtype, engine, converters, true_values, false_values, skipinitialspace, skiprows, skipfooter, nrows, na_values, keep_default_na, na_filter, verbose, skip_blank_lines, parse_dates, infer_datetime_format, keep_date_col, date_parser, date_format, dayfirst, cache_dates, iterator, chunksize, compression, thousands, decimal, lineterminator, quotechar, quoting, doublequote, escapechar, comment, encoding, encoding_errors, dialect, on_bad_lines, delim_whitespace, low_memory, memory_map, float_precision, storage_options, dtype_backend)\u001b[0m\n\u001b[1;32m    899\u001b[0m kwds_defaults \u001b[38;5;241m=\u001b[39m _refine_defaults_read(\n\u001b[1;32m    900\u001b[0m     dialect,\n\u001b[1;32m    901\u001b[0m     delimiter,\n\u001b[0;32m   (...)\u001b[0m\n\u001b[1;32m    908\u001b[0m     dtype_backend\u001b[38;5;241m=\u001b[39mdtype_backend,\n\u001b[1;32m    909\u001b[0m )\n\u001b[1;32m    910\u001b[0m kwds\u001b[38;5;241m.\u001b[39mupdate(kwds_defaults)\n\u001b[0;32m--> 912\u001b[0m \u001b[38;5;28;01mreturn\u001b[39;00m \u001b[43m_read\u001b[49m\u001b[43m(\u001b[49m\u001b[43mfilepath_or_buffer\u001b[49m\u001b[43m,\u001b[49m\u001b[43m \u001b[49m\u001b[43mkwds\u001b[49m\u001b[43m)\u001b[49m\n",
      "File \u001b[0;32m~/miniconda3/envs/greenai/lib/python3.10/site-packages/pandas/io/parsers/readers.py:577\u001b[0m, in \u001b[0;36m_read\u001b[0;34m(filepath_or_buffer, kwds)\u001b[0m\n\u001b[1;32m    574\u001b[0m _validate_names(kwds\u001b[38;5;241m.\u001b[39mget(\u001b[38;5;124m\"\u001b[39m\u001b[38;5;124mnames\u001b[39m\u001b[38;5;124m\"\u001b[39m, \u001b[38;5;28;01mNone\u001b[39;00m))\n\u001b[1;32m    576\u001b[0m \u001b[38;5;66;03m# Create the parser.\u001b[39;00m\n\u001b[0;32m--> 577\u001b[0m parser \u001b[38;5;241m=\u001b[39m \u001b[43mTextFileReader\u001b[49m\u001b[43m(\u001b[49m\u001b[43mfilepath_or_buffer\u001b[49m\u001b[43m,\u001b[49m\u001b[43m \u001b[49m\u001b[38;5;241;43m*\u001b[39;49m\u001b[38;5;241;43m*\u001b[39;49m\u001b[43mkwds\u001b[49m\u001b[43m)\u001b[49m\n\u001b[1;32m    579\u001b[0m \u001b[38;5;28;01mif\u001b[39;00m chunksize \u001b[38;5;129;01mor\u001b[39;00m iterator:\n\u001b[1;32m    580\u001b[0m     \u001b[38;5;28;01mreturn\u001b[39;00m parser\n",
      "File \u001b[0;32m~/miniconda3/envs/greenai/lib/python3.10/site-packages/pandas/io/parsers/readers.py:1407\u001b[0m, in \u001b[0;36mTextFileReader.__init__\u001b[0;34m(self, f, engine, **kwds)\u001b[0m\n\u001b[1;32m   1404\u001b[0m     \u001b[38;5;28mself\u001b[39m\u001b[38;5;241m.\u001b[39moptions[\u001b[38;5;124m\"\u001b[39m\u001b[38;5;124mhas_index_names\u001b[39m\u001b[38;5;124m\"\u001b[39m] \u001b[38;5;241m=\u001b[39m kwds[\u001b[38;5;124m\"\u001b[39m\u001b[38;5;124mhas_index_names\u001b[39m\u001b[38;5;124m\"\u001b[39m]\n\u001b[1;32m   1406\u001b[0m \u001b[38;5;28mself\u001b[39m\u001b[38;5;241m.\u001b[39mhandles: IOHandles \u001b[38;5;241m|\u001b[39m \u001b[38;5;28;01mNone\u001b[39;00m \u001b[38;5;241m=\u001b[39m \u001b[38;5;28;01mNone\u001b[39;00m\n\u001b[0;32m-> 1407\u001b[0m \u001b[38;5;28mself\u001b[39m\u001b[38;5;241m.\u001b[39m_engine \u001b[38;5;241m=\u001b[39m \u001b[38;5;28;43mself\u001b[39;49m\u001b[38;5;241;43m.\u001b[39;49m\u001b[43m_make_engine\u001b[49m\u001b[43m(\u001b[49m\u001b[43mf\u001b[49m\u001b[43m,\u001b[49m\u001b[43m \u001b[49m\u001b[38;5;28;43mself\u001b[39;49m\u001b[38;5;241;43m.\u001b[39;49m\u001b[43mengine\u001b[49m\u001b[43m)\u001b[49m\n",
      "File \u001b[0;32m~/miniconda3/envs/greenai/lib/python3.10/site-packages/pandas/io/parsers/readers.py:1661\u001b[0m, in \u001b[0;36mTextFileReader._make_engine\u001b[0;34m(self, f, engine)\u001b[0m\n\u001b[1;32m   1659\u001b[0m     \u001b[38;5;28;01mif\u001b[39;00m \u001b[38;5;124m\"\u001b[39m\u001b[38;5;124mb\u001b[39m\u001b[38;5;124m\"\u001b[39m \u001b[38;5;129;01mnot\u001b[39;00m \u001b[38;5;129;01min\u001b[39;00m mode:\n\u001b[1;32m   1660\u001b[0m         mode \u001b[38;5;241m+\u001b[39m\u001b[38;5;241m=\u001b[39m \u001b[38;5;124m\"\u001b[39m\u001b[38;5;124mb\u001b[39m\u001b[38;5;124m\"\u001b[39m\n\u001b[0;32m-> 1661\u001b[0m \u001b[38;5;28mself\u001b[39m\u001b[38;5;241m.\u001b[39mhandles \u001b[38;5;241m=\u001b[39m \u001b[43mget_handle\u001b[49m\u001b[43m(\u001b[49m\n\u001b[1;32m   1662\u001b[0m \u001b[43m    \u001b[49m\u001b[43mf\u001b[49m\u001b[43m,\u001b[49m\n\u001b[1;32m   1663\u001b[0m \u001b[43m    \u001b[49m\u001b[43mmode\u001b[49m\u001b[43m,\u001b[49m\n\u001b[1;32m   1664\u001b[0m \u001b[43m    \u001b[49m\u001b[43mencoding\u001b[49m\u001b[38;5;241;43m=\u001b[39;49m\u001b[38;5;28;43mself\u001b[39;49m\u001b[38;5;241;43m.\u001b[39;49m\u001b[43moptions\u001b[49m\u001b[38;5;241;43m.\u001b[39;49m\u001b[43mget\u001b[49m\u001b[43m(\u001b[49m\u001b[38;5;124;43m\"\u001b[39;49m\u001b[38;5;124;43mencoding\u001b[39;49m\u001b[38;5;124;43m\"\u001b[39;49m\u001b[43m,\u001b[49m\u001b[43m \u001b[49m\u001b[38;5;28;43;01mNone\u001b[39;49;00m\u001b[43m)\u001b[49m\u001b[43m,\u001b[49m\n\u001b[1;32m   1665\u001b[0m \u001b[43m    \u001b[49m\u001b[43mcompression\u001b[49m\u001b[38;5;241;43m=\u001b[39;49m\u001b[38;5;28;43mself\u001b[39;49m\u001b[38;5;241;43m.\u001b[39;49m\u001b[43moptions\u001b[49m\u001b[38;5;241;43m.\u001b[39;49m\u001b[43mget\u001b[49m\u001b[43m(\u001b[49m\u001b[38;5;124;43m\"\u001b[39;49m\u001b[38;5;124;43mcompression\u001b[39;49m\u001b[38;5;124;43m\"\u001b[39;49m\u001b[43m,\u001b[49m\u001b[43m \u001b[49m\u001b[38;5;28;43;01mNone\u001b[39;49;00m\u001b[43m)\u001b[49m\u001b[43m,\u001b[49m\n\u001b[1;32m   1666\u001b[0m \u001b[43m    \u001b[49m\u001b[43mmemory_map\u001b[49m\u001b[38;5;241;43m=\u001b[39;49m\u001b[38;5;28;43mself\u001b[39;49m\u001b[38;5;241;43m.\u001b[39;49m\u001b[43moptions\u001b[49m\u001b[38;5;241;43m.\u001b[39;49m\u001b[43mget\u001b[49m\u001b[43m(\u001b[49m\u001b[38;5;124;43m\"\u001b[39;49m\u001b[38;5;124;43mmemory_map\u001b[39;49m\u001b[38;5;124;43m\"\u001b[39;49m\u001b[43m,\u001b[49m\u001b[43m \u001b[49m\u001b[38;5;28;43;01mFalse\u001b[39;49;00m\u001b[43m)\u001b[49m\u001b[43m,\u001b[49m\n\u001b[1;32m   1667\u001b[0m \u001b[43m    \u001b[49m\u001b[43mis_text\u001b[49m\u001b[38;5;241;43m=\u001b[39;49m\u001b[43mis_text\u001b[49m\u001b[43m,\u001b[49m\n\u001b[1;32m   1668\u001b[0m \u001b[43m    \u001b[49m\u001b[43merrors\u001b[49m\u001b[38;5;241;43m=\u001b[39;49m\u001b[38;5;28;43mself\u001b[39;49m\u001b[38;5;241;43m.\u001b[39;49m\u001b[43moptions\u001b[49m\u001b[38;5;241;43m.\u001b[39;49m\u001b[43mget\u001b[49m\u001b[43m(\u001b[49m\u001b[38;5;124;43m\"\u001b[39;49m\u001b[38;5;124;43mencoding_errors\u001b[39;49m\u001b[38;5;124;43m\"\u001b[39;49m\u001b[43m,\u001b[49m\u001b[43m \u001b[49m\u001b[38;5;124;43m\"\u001b[39;49m\u001b[38;5;124;43mstrict\u001b[39;49m\u001b[38;5;124;43m\"\u001b[39;49m\u001b[43m)\u001b[49m\u001b[43m,\u001b[49m\n\u001b[1;32m   1669\u001b[0m \u001b[43m    \u001b[49m\u001b[43mstorage_options\u001b[49m\u001b[38;5;241;43m=\u001b[39;49m\u001b[38;5;28;43mself\u001b[39;49m\u001b[38;5;241;43m.\u001b[39;49m\u001b[43moptions\u001b[49m\u001b[38;5;241;43m.\u001b[39;49m\u001b[43mget\u001b[49m\u001b[43m(\u001b[49m\u001b[38;5;124;43m\"\u001b[39;49m\u001b[38;5;124;43mstorage_options\u001b[39;49m\u001b[38;5;124;43m\"\u001b[39;49m\u001b[43m,\u001b[49m\u001b[43m \u001b[49m\u001b[38;5;28;43;01mNone\u001b[39;49;00m\u001b[43m)\u001b[49m\u001b[43m,\u001b[49m\n\u001b[1;32m   1670\u001b[0m \u001b[43m\u001b[49m\u001b[43m)\u001b[49m\n\u001b[1;32m   1671\u001b[0m \u001b[38;5;28;01massert\u001b[39;00m \u001b[38;5;28mself\u001b[39m\u001b[38;5;241m.\u001b[39mhandles \u001b[38;5;129;01mis\u001b[39;00m \u001b[38;5;129;01mnot\u001b[39;00m \u001b[38;5;28;01mNone\u001b[39;00m\n\u001b[1;32m   1672\u001b[0m f \u001b[38;5;241m=\u001b[39m \u001b[38;5;28mself\u001b[39m\u001b[38;5;241m.\u001b[39mhandles\u001b[38;5;241m.\u001b[39mhandle\n",
      "File \u001b[0;32m~/miniconda3/envs/greenai/lib/python3.10/site-packages/pandas/io/common.py:859\u001b[0m, in \u001b[0;36mget_handle\u001b[0;34m(path_or_buf, mode, encoding, compression, memory_map, is_text, errors, storage_options)\u001b[0m\n\u001b[1;32m    854\u001b[0m \u001b[38;5;28;01melif\u001b[39;00m \u001b[38;5;28misinstance\u001b[39m(handle, \u001b[38;5;28mstr\u001b[39m):\n\u001b[1;32m    855\u001b[0m     \u001b[38;5;66;03m# Check whether the filename is to be opened in binary mode.\u001b[39;00m\n\u001b[1;32m    856\u001b[0m     \u001b[38;5;66;03m# Binary mode does not support 'encoding' and 'newline'.\u001b[39;00m\n\u001b[1;32m    857\u001b[0m     \u001b[38;5;28;01mif\u001b[39;00m ioargs\u001b[38;5;241m.\u001b[39mencoding \u001b[38;5;129;01mand\u001b[39;00m \u001b[38;5;124m\"\u001b[39m\u001b[38;5;124mb\u001b[39m\u001b[38;5;124m\"\u001b[39m \u001b[38;5;129;01mnot\u001b[39;00m \u001b[38;5;129;01min\u001b[39;00m ioargs\u001b[38;5;241m.\u001b[39mmode:\n\u001b[1;32m    858\u001b[0m         \u001b[38;5;66;03m# Encoding\u001b[39;00m\n\u001b[0;32m--> 859\u001b[0m         handle \u001b[38;5;241m=\u001b[39m \u001b[38;5;28;43mopen\u001b[39;49m\u001b[43m(\u001b[49m\n\u001b[1;32m    860\u001b[0m \u001b[43m            \u001b[49m\u001b[43mhandle\u001b[49m\u001b[43m,\u001b[49m\n\u001b[1;32m    861\u001b[0m \u001b[43m            \u001b[49m\u001b[43mioargs\u001b[49m\u001b[38;5;241;43m.\u001b[39;49m\u001b[43mmode\u001b[49m\u001b[43m,\u001b[49m\n\u001b[1;32m    862\u001b[0m \u001b[43m            \u001b[49m\u001b[43mencoding\u001b[49m\u001b[38;5;241;43m=\u001b[39;49m\u001b[43mioargs\u001b[49m\u001b[38;5;241;43m.\u001b[39;49m\u001b[43mencoding\u001b[49m\u001b[43m,\u001b[49m\n\u001b[1;32m    863\u001b[0m \u001b[43m            \u001b[49m\u001b[43merrors\u001b[49m\u001b[38;5;241;43m=\u001b[39;49m\u001b[43merrors\u001b[49m\u001b[43m,\u001b[49m\n\u001b[1;32m    864\u001b[0m \u001b[43m            \u001b[49m\u001b[43mnewline\u001b[49m\u001b[38;5;241;43m=\u001b[39;49m\u001b[38;5;124;43m\"\u001b[39;49m\u001b[38;5;124;43m\"\u001b[39;49m\u001b[43m,\u001b[49m\n\u001b[1;32m    865\u001b[0m \u001b[43m        \u001b[49m\u001b[43m)\u001b[49m\n\u001b[1;32m    866\u001b[0m     \u001b[38;5;28;01melse\u001b[39;00m:\n\u001b[1;32m    867\u001b[0m         \u001b[38;5;66;03m# Binary mode\u001b[39;00m\n\u001b[1;32m    868\u001b[0m         handle \u001b[38;5;241m=\u001b[39m \u001b[38;5;28mopen\u001b[39m(handle, ioargs\u001b[38;5;241m.\u001b[39mmode)\n",
      "\u001b[0;31mFileNotFoundError\u001b[0m: [Errno 2] No such file or directory: '/Users/dtjgp/Projects/GreenAI/4090/CNNModelsData/mobilenetv2/cifar100/E5_B128_R0_SR2/energy_consumption_file.csv'"
     ]
    }
   ],
   "source": [
    "# for all the folder names in the data folder, generate the path to the folder\n",
    "# and print the path\n",
    "folder_name = f'E{epoch}_B{batch_size}_R{round_num}_SR{sampling_rate}'\n",
    "print(f'The folder name is {folder_name}')\n",
    "\n",
    "# data_dir_list = ['fashion_mnist', 'cifar100']\n",
    "data_dir_list = ['cifar100']\n",
    "\n",
    "\n",
    "for dataset in data_dir_list:\n",
    "    for folder in data_folders:\n",
    "        folder_path = os.path.join(data_path, folder)\n",
    "        folder_path = os.path.join(folder_path, dataset)\n",
    "        folder_path = os.path.join(folder_path, folder_name)\n",
    "        print(folder_path)\n",
    "\n",
    "        # create a directory to store the database of each model in the database folder\n",
    "        database_path = os.path.join(database_dir, folder)\n",
    "        database_path = os.path.join(database_path, dataset)\n",
    "        database_path = os.path.join(database_path, folder_name)\n",
    "\n",
    "        # create the directory if it does not exist\n",
    "        if not os.path.exists(database_path):\n",
    "            os.makedirs(database_path)\n",
    "\n",
    "        # load the csv files \n",
    "        energy_data = pd.read_csv(os.path.join(folder_path, 'energy_consumption_file.csv'))\n",
    "        energy_data['timestamp'] = pd.to_numeric(energy_data['timestamp'], errors='coerce')\n",
    "\n",
    "        # load the npy files\n",
    "        to_device = np.load(os.path.join(folder_path, 'to_device.npy'), allow_pickle=True)\n",
    "        forward = np.load(os.path.join(folder_path, 'forward.npy'), allow_pickle=True)\n",
    "        loss = np.load(os.path.join(folder_path, 'loss.npy'), allow_pickle=True)\n",
    "        backward = np.load(os.path.join(folder_path, 'backward.npy'), allow_pickle=True)\n",
    "        optimize = np.load(os.path.join(folder_path, 'optimize.npy'), allow_pickle=True)\n",
    "\n",
    "        # create energy consumption data to save each step energy consumption\n",
    "        # use the ndarray to save the data, the shape is the same as the original data with the shape[2] changed to 3\n",
    "        # the first two value is the start time and end time, the third value is the energy consumption\n",
    "        to_device_energy = np.zeros((to_device.shape[0], to_device.shape[1], 3))\n",
    "        forward_energy = np.zeros((forward.shape[0], forward.shape[1], 3))\n",
    "        loss_energy = np.zeros((loss.shape[0], loss.shape[1], 3))\n",
    "        backward_energy = np.zeros((backward.shape[0], backward.shape[1], 3))\n",
    "        optimize_energy = np.zeros((optimize.shape[0], optimize.shape[1], 3))\n",
    "\n",
    "        to_device_df = transfer_type(to_device)\n",
    "        forward_df = transfer_type(forward)\n",
    "        loss_df = transfer_type(loss)\n",
    "        backward_df = transfer_type(backward)\n",
    "        optimize_df = transfer_type(optimize)\n",
    "\n",
    "        # calculate the energy consumption for each step, \n",
    "        # each runs 2 epochs, the first value of the shape is the epoch number\n",
    "        # the second value is number of batches\n",
    "        for epoch in range(to_device.shape[0]): # for each epoch\n",
    "            for batch in range(to_device.shape[1]): # for each batch\n",
    "                to_device_energy[epoch][batch][0] = to_device[epoch][batch][0]\n",
    "                to_device_energy[epoch][batch][1] = to_device[epoch][batch][1]\n",
    "                # # check if there is any 0 value in the data\n",
    "                # if to_device[epoch][batch][0] == 0 or to_device[epoch][batch][1] == 0:\n",
    "                #     print(f'The value is 0 in the to_device data, the epoch is {epoch} and the batch is {batch}')\n",
    "                to_device_energy[epoch][batch][2] = integrate_power_over_interval(energy_data.values, to_device[epoch][batch][0], to_device[epoch][batch][1])\n",
    "                # add the value to the dataframe\n",
    "                to_device_df.iloc[batch][epoch].append(to_device_energy[epoch][batch][2])\n",
    "                # to_device_df.loc[(to_device_df['epoch'] == epoch) & (to_device_df['batch'] == batch), 'energy'] = to_device_energy[epoch][batch][2]\n",
    "\n",
    "                forward_energy[epoch][batch][0] = forward[epoch][batch][0]\n",
    "                forward_energy[epoch][batch][1] = forward[epoch][batch][1]\n",
    "                forward_energy[epoch][batch][2] = integrate_power_over_interval(energy_data.values, forward[epoch][batch][0], forward[epoch][batch][1])\n",
    "                # add the value to the dataframe\n",
    "                forward_df.iloc[batch][epoch].append(forward_energy[epoch][batch][2])\n",
    "                # forward_df.loc[(forward_df['epoch'] == epoch) & (forward_df['batch'] == batch), 'energy'] = forward_energy[epoch][batch][2]\n",
    "\n",
    "                loss_energy[epoch][batch][0] = loss[epoch][batch][0]\n",
    "                loss_energy[epoch][batch][1] = loss[epoch][batch][1]\n",
    "                loss_energy[epoch][batch][2] = integrate_power_over_interval(energy_data.values, loss[epoch][batch][0], loss[epoch][batch][1])\n",
    "                # add the value to the dataframe\n",
    "                loss_df.iloc[batch][epoch].append(loss_energy[epoch][batch][2])\n",
    "                # loss_df.loc[(loss_df['epoch'] == epoch) & (loss_df['batch'] == batch), 'energy'] = loss_energy[epoch][batch][2]\n",
    "\n",
    "                backward_energy[epoch][batch][0] = backward[epoch][batch][0]\n",
    "                backward_energy[epoch][batch][1] = backward[epoch][batch][1]\n",
    "                backward_energy[epoch][batch][2] = integrate_power_over_interval(energy_data.values, backward[epoch][batch][0], backward[epoch][batch][1])\n",
    "                # add the value to the dataframe\n",
    "                backward_df.iloc[batch][epoch].append(backward_energy[epoch][batch][2])\n",
    "                # backward_df.loc[(backward_df['epoch'] == epoch) & (backward_df['batch'] == batch), 'energy'] = backward_energy[epoch][batch][2]\n",
    "\n",
    "                optimize_energy[epoch][batch][0] = optimize[epoch][batch][0]\n",
    "                optimize_energy[epoch][batch][1] = optimize[epoch][batch][1]\n",
    "                optimize_energy[epoch][batch][2] = integrate_power_over_interval(energy_data.values, optimize[epoch][batch][0], optimize[epoch][batch][1])\n",
    "                # add the value to the dataframe\n",
    "                optimize_df.iloc[batch][epoch].append(optimize_energy[epoch][batch][2])\n",
    "                # optimize_df.loc[(optimize_df['epoch'] == epoch) & (optimize_df['batch'] == batch), 'energy'] = optimize_energy[epoch][batch][2]\n",
    "\n",
    "        # save the energy consumption data to the folder\n",
    "        np.save(os.path.join(folder_path, 'to_device_energy.npy'), to_device_energy, allow_pickle=True)\n",
    "        np.save(os.path.join(folder_path, 'forward_energy.npy'), forward_energy, allow_pickle=True)\n",
    "        np.save(os.path.join(folder_path, 'loss_energy.npy'), loss_energy, allow_pickle=True)\n",
    "        np.save(os.path.join(folder_path, 'backward_energy.npy'), backward_energy, allow_pickle=True)\n",
    "        np.save(os.path.join(folder_path, 'optimize_energy.npy'), optimize_energy, allow_pickle=True)\n",
    "\n",
    "        # Set the display format for floating-point numbers to avoid scientific notation\n",
    "        pd.options.display.float_format = '{:.6f}'.format\n",
    "\n",
    "        # Use the function to label the energy consumption data\n",
    "        labeled_energy_data = label_energy_consumption(energy_data, to_device, forward, loss, backward, optimize)\n",
    "        # print(labeled_energy_data.head())\n",
    "\n",
    "        # save the file to the folder\n",
    "        labeled_energy_data.to_csv(os.path.join(folder_path, 'labeled_energy_data.csv'), index=False)\n",
    "\n",
    "        # save all the dataframe data to the database\n",
    "        to_device_df.to_csv(os.path.join(database_path, 'to_device.csv'), index=False)\n",
    "        forward_df.to_csv(os.path.join(database_path, 'forward.csv'), index=False)\n",
    "        loss_df.to_csv(os.path.join(database_path, 'loss.csv'), index=False)\n",
    "        backward_df.to_csv(os.path.join(database_path, 'backward.csv'), index=False)\n",
    "        optimize_df.to_csv(os.path.join(database_path, 'optimize.csv'), index=False)\n",
    "        labeled_energy_data.to_csv(os.path.join(database_path, 'labeled_energy_data.csv'), index=False)\n",
    "        "
   ]
  },
  {
   "cell_type": "code",
   "execution_count": null,
   "metadata": {},
   "outputs": [],
   "source": []
  }
 ],
 "metadata": {
  "kernelspec": {
   "display_name": "GreenAI",
   "language": "python",
   "name": "greenai"
  },
  "language_info": {
   "codemirror_mode": {
    "name": "ipython",
    "version": 3
   },
   "file_extension": ".py",
   "mimetype": "text/x-python",
   "name": "python",
   "nbconvert_exporter": "python",
   "pygments_lexer": "ipython3",
   "version": "3.10.15"
  }
 },
 "nbformat": 4,
 "nbformat_minor": 2
}
