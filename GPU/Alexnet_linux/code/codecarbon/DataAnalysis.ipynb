{
 "cells": [
  {
   "cell_type": "code",
   "execution_count": 3,
   "metadata": {},
   "outputs": [],
   "source": [
    "import pandas as pd\n",
    "import numpy as np\n",
    "import matplotlib.pyplot as plt\n",
    "import os"
   ]
  },
  {
   "cell_type": "code",
   "execution_count": 5,
   "metadata": {},
   "outputs": [
    {
     "data": {
      "text/html": [
       "<div>\n",
       "<style scoped>\n",
       "    .dataframe tbody tr th:only-of-type {\n",
       "        vertical-align: middle;\n",
       "    }\n",
       "\n",
       "    .dataframe tbody tr th {\n",
       "        vertical-align: top;\n",
       "    }\n",
       "\n",
       "    .dataframe thead th {\n",
       "        text-align: right;\n",
       "    }\n",
       "</style>\n",
       "<table border=\"1\" class=\"dataframe\">\n",
       "  <thead>\n",
       "    <tr style=\"text-align: right;\">\n",
       "      <th></th>\n",
       "      <th>timestamp</th>\n",
       "      <th>project_name</th>\n",
       "      <th>run_id</th>\n",
       "      <th>duration</th>\n",
       "      <th>emissions</th>\n",
       "      <th>emissions_rate</th>\n",
       "      <th>cpu_power</th>\n",
       "      <th>gpu_power</th>\n",
       "      <th>ram_power</th>\n",
       "      <th>cpu_energy</th>\n",
       "      <th>...</th>\n",
       "      <th>cpu_count</th>\n",
       "      <th>cpu_model</th>\n",
       "      <th>gpu_count</th>\n",
       "      <th>gpu_model</th>\n",
       "      <th>longitude</th>\n",
       "      <th>latitude</th>\n",
       "      <th>ram_total_size</th>\n",
       "      <th>tracking_mode</th>\n",
       "      <th>on_cloud</th>\n",
       "      <th>pue</th>\n",
       "    </tr>\n",
       "  </thead>\n",
       "  <tbody>\n",
       "    <tr>\n",
       "      <th>0</th>\n",
       "      <td>2023-11-20T21:02:02</td>\n",
       "      <td>codecarbon</td>\n",
       "      <td>6e5f18c2-b510-45bf-ae0f-ef3112387e07</td>\n",
       "      <td>1325.844627</td>\n",
       "      <td>0.02256</td>\n",
       "      <td>0.000017</td>\n",
       "      <td>27.0</td>\n",
       "      <td>130.000591</td>\n",
       "      <td>11.696119</td>\n",
       "      <td>0.009943</td>\n",
       "      <td>...</td>\n",
       "      <td>16</td>\n",
       "      <td>AMD Ryzen 7 5800H with Radeon Graphics</td>\n",
       "      <td>1</td>\n",
       "      <td>1 x NVIDIA GeForce RTX 3060 Laptop GPU</td>\n",
       "      <td>7.6639</td>\n",
       "      <td>45.0914</td>\n",
       "      <td>31.189651</td>\n",
       "      <td>machine</td>\n",
       "      <td>N</td>\n",
       "      <td>1.0</td>\n",
       "    </tr>\n",
       "  </tbody>\n",
       "</table>\n",
       "<p>1 rows × 31 columns</p>\n",
       "</div>"
      ],
      "text/plain": [
       "             timestamp project_name                                run_id  \\\n",
       "0  2023-11-20T21:02:02   codecarbon  6e5f18c2-b510-45bf-ae0f-ef3112387e07   \n",
       "\n",
       "      duration  emissions  emissions_rate  cpu_power   gpu_power  ram_power  \\\n",
       "0  1325.844627    0.02256        0.000017       27.0  130.000591  11.696119   \n",
       "\n",
       "   cpu_energy  ...  cpu_count                               cpu_model  \\\n",
       "0    0.009943  ...         16  AMD Ryzen 7 5800H with Radeon Graphics   \n",
       "\n",
       "   gpu_count                               gpu_model longitude latitude  \\\n",
       "0          1  1 x NVIDIA GeForce RTX 3060 Laptop GPU    7.6639  45.0914   \n",
       "\n",
       "   ram_total_size  tracking_mode on_cloud  pue  \n",
       "0       31.189651        machine        N  1.0  \n",
       "\n",
       "[1 rows x 31 columns]"
      ]
     },
     "execution_count": 5,
     "metadata": {},
     "output_type": "execute_result"
    }
   ],
   "source": [
    "# read the data of the emission.csv\n",
    "emission = pd.read_csv('emissions.csv')\n",
    "emission.head()"
   ]
  },
  {
   "cell_type": "code",
   "execution_count": 8,
   "metadata": {},
   "outputs": [
    {
     "data": {
      "text/html": [
       "<div>\n",
       "<style scoped>\n",
       "    .dataframe tbody tr th:only-of-type {\n",
       "        vertical-align: middle;\n",
       "    }\n",
       "\n",
       "    .dataframe tbody tr th {\n",
       "        vertical-align: top;\n",
       "    }\n",
       "\n",
       "    .dataframe thead th {\n",
       "        text-align: right;\n",
       "    }\n",
       "</style>\n",
       "<table border=\"1\" class=\"dataframe\">\n",
       "  <thead>\n",
       "    <tr style=\"text-align: right;\">\n",
       "      <th></th>\n",
       "      <th>gpu_power</th>\n",
       "      <th>gpu_energy</th>\n",
       "      <th>gpu_count</th>\n",
       "      <th>gpu_model</th>\n",
       "    </tr>\n",
       "  </thead>\n",
       "  <tbody>\n",
       "    <tr>\n",
       "      <th>0</th>\n",
       "      <td>130.000591</td>\n",
       "      <td>0.051947</td>\n",
       "      <td>1</td>\n",
       "      <td>1 x NVIDIA GeForce RTX 3060 Laptop GPU</td>\n",
       "    </tr>\n",
       "  </tbody>\n",
       "</table>\n",
       "</div>"
      ],
      "text/plain": [
       "    gpu_power  gpu_energy  gpu_count                               gpu_model\n",
       "0  130.000591    0.051947          1  1 x NVIDIA GeForce RTX 3060 Laptop GPU"
      ]
     },
     "execution_count": 8,
     "metadata": {},
     "output_type": "execute_result"
    }
   ],
   "source": [
    "# find out the columns which name contains 'gpu' using regex\n",
    "gpu = emission.filter(regex='gpu')\n",
    "gpu.head()"
   ]
  },
  {
   "cell_type": "markdown",
   "metadata": {},
   "source": [
    "The GPU_power is 130W\n",
    "\n",
    "The GPU_energy is 0.051947kWh"
   ]
  }
 ],
 "metadata": {
  "kernelspec": {
   "display_name": "ds",
   "language": "python",
   "name": "ds"
  },
  "language_info": {
   "codemirror_mode": {
    "name": "ipython",
    "version": 3
   },
   "file_extension": ".py",
   "mimetype": "text/x-python",
   "name": "python",
   "nbconvert_exporter": "python",
   "pygments_lexer": "ipython3",
   "version": "3.11.5"
  }
 },
 "nbformat": 4,
 "nbformat_minor": 2
}
