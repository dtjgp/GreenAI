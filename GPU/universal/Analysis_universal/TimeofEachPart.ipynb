{
 "cells": [
  {
   "cell_type": "code",
   "execution_count": 1,
   "metadata": {},
   "outputs": [],
   "source": [
    "import os\n",
    "import numpy as np\n",
    "import torch\n",
    "from torch import nn\n",
    "import pandas as pd\n",
    "import matplotlib.pyplot as plt\n",
    "from ptflops import get_model_complexity_info\n",
    "import sys"
   ]
  },
  {
   "cell_type": "code",
   "execution_count": 2,
   "metadata": {},
   "outputs": [
    {
     "name": "stdout",
     "output_type": "stream",
     "text": [
      "This path dir is:  /root/GreenAI/GPU/universal/Analysis_universal\n",
      "The parent path dir is:  /root/GreenAI/GPU/universal\n",
      "The training data are saved in:  /root/GreenAI/GPU/universal/Previous_data/Alexnet_train_data\n",
      "The folders in the training data folder are:  ['round1', 'round10', 'round2', 'round3', 'round4', 'round5', 'round6', 'round7', 'round8', 'round9']\n",
      "The training data are saved in:  /root/GreenAI/GPU/universal/Previous_data/Googlenet_train_data\n",
      "The folders in the training data folder are:  ['round1', 'round10', 'round2', 'round3', 'round4', 'round5', 'round6', 'round7', 'round8', 'round9']\n",
      "The training data are saved in:  /root/GreenAI/GPU/universal/Previous_data/Vgg_train_data\n",
      "The folders in the training data folder are:  ['round1', 'round10', 'round2', 'round3', 'round4', 'round5', 'round6', 'round7', 'round8', 'round9']\n",
      "The training data are saved in:  /root/GreenAI/GPU/universal/Previous_data/Resnet_train_data\n",
      "The folders in the training data folder are:  ['round1', 'round10', 'round2', 'round3', 'round4', 'round5', 'round6', 'round7', 'round8', 'round9']\n"
     ]
    }
   ],
   "source": [
    "# find the path\n",
    "path = os.getcwd()\n",
    "print('This path dir is: ', path)\n",
    "\n",
    "# find the parent dir\n",
    "parent_path = os.path.dirname(path)\n",
    "print('The parent path dir is: ', parent_path)\n",
    "\n",
    "# # 构造sub_folder的绝对路径\n",
    "# sub_folder_path = os.path.join(parent_path, 'sub_folder')\n",
    "# 将sub_folder的路径添加到sys.path中\n",
    "sys.path.append(parent_path)\n",
    "\n",
    "# find the alexnet_path\n",
    "alexnet_path = os.path.join(parent_path, 'Previous_data/Alexnet_train_data')\n",
    "# alexnet_path = os.path.join(parent_path, 'Data/Alexnet_data')\n",
    "print('The training data are saved in: ', alexnet_path)\n",
    "# find all the fills resnet_path_folders\n",
    "alexnet_path_folders = os.listdir(alexnet_path)\n",
    "print('The folders in the training data folder are: ', alexnet_path_folders)\n",
    "\n",
    "# find the googlenet_path\n",
    "googlenet_path = os.path.join(parent_path, 'Previous_data/Googlenet_train_data')\n",
    "# googlenet_path = os.path.join(parent_path, 'Data/Googlenet_data')\n",
    "print('The training data are saved in: ', googlenet_path)\n",
    "# find all the fills resnet_path_folders\n",
    "googlenet_path_folders = os.listdir(googlenet_path)\n",
    "print('The folders in the training data folder are: ', googlenet_path_folders)\n",
    "\n",
    "# find the vgg_path\n",
    "vgg_path = os.path.join(parent_path, 'Previous_data/Vgg_train_data')\n",
    "# vgg_path = os.path.join(parent_path, 'Data/VGG_data')\n",
    "print('The training data are saved in: ', vgg_path)\n",
    "# find all the fills vgg_path_folders\n",
    "vgg_path_folders = os.listdir(vgg_path)\n",
    "print('The folders in the training data folder are: ', vgg_path_folders)\n",
    "\n",
    "# find the resnet_path\n",
    "resnet_path = os.path.join(parent_path, 'Previous_data/Resnet_train_data')\n",
    "# resnet_path = os.path.join(parent_path, 'Data/Resnet_data')\n",
    "print('The training data are saved in: ', resnet_path)\n",
    "# find all the fills resnet_path_folders\n",
    "resnet_path_folders = os.listdir(resnet_path)\n",
    "print('The folders in the training data folder are: ', resnet_path_folders)"
   ]
  },
  {
   "cell_type": "code",
   "execution_count": 3,
   "metadata": {},
   "outputs": [],
   "source": [
    "from alexnet_FashionMnist import FashionMnist\n",
    "from resnet_FashionMnist import resnet_FashionMnist\n",
    "from vgg_FashionMnist import vgg\n",
    "from googlenet_FashionMnist import Googlenet"
   ]
  },
  {
   "cell_type": "code",
   "execution_count": 4,
   "metadata": {},
   "outputs": [],
   "source": [
    "alexnet = FashionMnist()\n",
    "resnet = resnet_FashionMnist()\n",
    "googlenet = Googlenet()\n",
    "\n",
    "conv_arch = ((1, 64), (1, 128), (2, 256), (2, 512), (2, 512))\n",
    "vgg11 = vgg(conv_arch)"
   ]
  },
  {
   "cell_type": "code",
   "execution_count": 5,
   "metadata": {},
   "outputs": [
    {
     "name": "stdout",
     "output_type": "stream",
     "text": [
      "Warning: module Flatten is treated as a zero-op.\n",
      "Warning: module Dropout is treated as a zero-op.\n",
      "Sequential(\n",
      "  46.76 M, 100.000% Params, 939.85 MMac, 99.883% MACs, \n",
      "  (0): Conv2d(11.71 k, 0.025% Params, 34.15 MMac, 3.630% MACs, 1, 96, kernel_size=(11, 11), stride=(4, 4), padding=(1, 1))\n",
      "  (1): ReLU(0, 0.000% Params, 279.94 KMac, 0.030% MACs, )\n",
      "  (2): MaxPool2d(0, 0.000% Params, 279.94 KMac, 0.030% MACs, kernel_size=3, stride=2, padding=0, dilation=1, ceil_mode=False)\n",
      "  (3): Conv2d(614.66 k, 1.314% Params, 415.51 MMac, 44.158% MACs, 96, 256, kernel_size=(5, 5), stride=(1, 1), padding=(2, 2))\n",
      "  (4): ReLU(0, 0.000% Params, 173.06 KMac, 0.018% MACs, )\n",
      "  (5): MaxPool2d(0, 0.000% Params, 173.06 KMac, 0.018% MACs, kernel_size=3, stride=2, padding=0, dilation=1, ceil_mode=False)\n",
      "  (6): Conv2d(885.12 k, 1.893% Params, 127.46 MMac, 13.546% MACs, 256, 384, kernel_size=(3, 3), stride=(1, 1), padding=(1, 1))\n",
      "  (7): ReLU(0, 0.000% Params, 55.3 KMac, 0.006% MACs, )\n",
      "  (8): Conv2d(1.33 M, 2.839% Params, 191.16 MMac, 20.315% MACs, 384, 384, kernel_size=(3, 3), stride=(1, 1), padding=(1, 1))\n",
      "  (9): ReLU(0, 0.000% Params, 55.3 KMac, 0.006% MACs, )\n",
      "  (10): Conv2d(884.99 k, 1.892% Params, 127.44 MMac, 13.544% MACs, 384, 256, kernel_size=(3, 3), stride=(1, 1), padding=(1, 1))\n",
      "  (11): ReLU(0, 0.000% Params, 36.86 KMac, 0.004% MACs, )\n",
      "  (12): MaxPool2d(0, 0.000% Params, 36.86 KMac, 0.004% MACs, kernel_size=3, stride=2, padding=0, dilation=1, ceil_mode=False)\n",
      "  (13): Flatten(0, 0.000% Params, 0.0 Mac, 0.000% MACs, start_dim=1, end_dim=-1)\n",
      "  (14): Linear(26.22 M, 56.065% Params, 26.22 MMac, 2.786% MACs, in_features=6400, out_features=4096, bias=True)\n",
      "  (15): ReLU(0, 0.000% Params, 4.1 KMac, 0.000% MACs, )\n",
      "  (16): Dropout(0, 0.000% Params, 0.0 Mac, 0.000% MACs, p=0.5, inplace=False)\n",
      "  (17): Linear(16.78 M, 35.885% Params, 16.78 MMac, 1.783% MACs, in_features=4096, out_features=4096, bias=True)\n",
      "  (18): ReLU(0, 0.000% Params, 4.1 KMac, 0.000% MACs, )\n",
      "  (19): Dropout(0, 0.000% Params, 0.0 Mac, 0.000% MACs, p=0.5, inplace=False)\n",
      "  (20): Linear(40.97 k, 0.088% Params, 40.97 KMac, 0.004% MACs, in_features=4096, out_features=10, bias=True)\n",
      ")\n",
      "Computational complexity:       940.95 MMac\n",
      "Number of parameters:           46.76 M \n"
     ]
    }
   ],
   "source": [
    "with torch.cuda.device(0):\n",
    "    macs, params = get_model_complexity_info(alexnet, (1, 224, 224), as_strings=True,\n",
    "                                            print_per_layer_stat=True, verbose=True)\n",
    "    \n",
    "    print('{:<30}  {:<8}'.format('Computational complexity: ', macs))\n",
    "    print('{:<30}  {:<8}'.format('Number of parameters: ', params))"
   ]
  },
  {
   "cell_type": "code",
   "execution_count": 6,
   "metadata": {},
   "outputs": [
    {
     "name": "stdout",
     "output_type": "stream",
     "text": [
      "Warning: module Residual is treated as a zero-op.\n",
      "Warning: module Flatten is treated as a zero-op.\n",
      "Sequential(\n",
      "  11.18 M, 100.000% Params, 1.74 GMac, 99.820% MACs, \n",
      "  (0): Sequential(\n",
      "    3.33 k, 0.030% Params, 43.35 MMac, 2.482% MACs, \n",
      "    (0): Conv2d(3.2 k, 0.029% Params, 40.14 MMac, 2.298% MACs, 1, 64, kernel_size=(7, 7), stride=(2, 2), padding=(3, 3))\n",
      "    (1): BatchNorm2d(128, 0.001% Params, 1.61 MMac, 0.092% MACs, 64, eps=1e-05, momentum=0.1, affine=True, track_running_stats=True)\n",
      "    (2): ReLU(0, 0.000% Params, 802.82 KMac, 0.046% MACs, )\n",
      "    (3): MaxPool2d(0, 0.000% Params, 802.82 KMac, 0.046% MACs, kernel_size=3, stride=2, padding=1, dilation=1, ceil_mode=False)\n",
      "  )\n",
      "  (1): Sequential(\n",
      "    148.22 k, 1.326% Params, 464.83 MMac, 26.611% MACs, \n",
      "    (0): Residual(\n",
      "      74.11 k, 0.663% Params, 232.42 MMac, 13.306% MACs, \n",
      "      (conv1): Conv2d(36.93 k, 0.330% Params, 115.81 MMac, 6.630% MACs, 64, 64, kernel_size=(3, 3), stride=(1, 1), padding=(1, 1))\n",
      "      (conv2): Conv2d(36.93 k, 0.330% Params, 115.81 MMac, 6.630% MACs, 64, 64, kernel_size=(3, 3), stride=(1, 1), padding=(1, 1))\n",
      "      (bn1): BatchNorm2d(128, 0.001% Params, 401.41 KMac, 0.023% MACs, 64, eps=1e-05, momentum=0.1, affine=True, track_running_stats=True)\n",
      "      (bn2): BatchNorm2d(128, 0.001% Params, 401.41 KMac, 0.023% MACs, 64, eps=1e-05, momentum=0.1, affine=True, track_running_stats=True)\n",
      "    )\n",
      "    (1): Residual(\n",
      "      74.11 k, 0.663% Params, 232.42 MMac, 13.306% MACs, \n",
      "      (conv1): Conv2d(36.93 k, 0.330% Params, 115.81 MMac, 6.630% MACs, 64, 64, kernel_size=(3, 3), stride=(1, 1), padding=(1, 1))\n",
      "      (conv2): Conv2d(36.93 k, 0.330% Params, 115.81 MMac, 6.630% MACs, 64, 64, kernel_size=(3, 3), stride=(1, 1), padding=(1, 1))\n",
      "      (bn1): BatchNorm2d(128, 0.001% Params, 401.41 KMac, 0.023% MACs, 64, eps=1e-05, momentum=0.1, affine=True, track_running_stats=True)\n",
      "      (bn2): BatchNorm2d(128, 0.001% Params, 401.41 KMac, 0.023% MACs, 64, eps=1e-05, momentum=0.1, affine=True, track_running_stats=True)\n",
      "    )\n",
      "  )\n",
      "  (2): Sequential(\n",
      "    525.95 k, 4.705% Params, 412.35 MMac, 23.606% MACs, \n",
      "    (0): Residual(\n",
      "      230.27 k, 2.060% Params, 180.53 MMac, 10.335% MACs, \n",
      "      (conv1): Conv2d(73.86 k, 0.661% Params, 57.9 MMac, 3.315% MACs, 64, 128, kernel_size=(3, 3), stride=(2, 2), padding=(1, 1))\n",
      "      (conv2): Conv2d(147.58 k, 1.320% Params, 115.71 MMac, 6.624% MACs, 128, 128, kernel_size=(3, 3), stride=(1, 1), padding=(1, 1))\n",
      "      (conv3): Conv2d(8.32 k, 0.074% Params, 6.52 MMac, 0.373% MACs, 64, 128, kernel_size=(1, 1), stride=(2, 2))\n",
      "      (bn1): BatchNorm2d(256, 0.002% Params, 200.7 KMac, 0.011% MACs, 128, eps=1e-05, momentum=0.1, affine=True, track_running_stats=True)\n",
      "      (bn2): BatchNorm2d(256, 0.002% Params, 200.7 KMac, 0.011% MACs, 128, eps=1e-05, momentum=0.1, affine=True, track_running_stats=True)\n",
      "    )\n",
      "    (1): Residual(\n",
      "      295.68 k, 2.645% Params, 231.81 MMac, 13.271% MACs, \n",
      "      (conv1): Conv2d(147.58 k, 1.320% Params, 115.71 MMac, 6.624% MACs, 128, 128, kernel_size=(3, 3), stride=(1, 1), padding=(1, 1))\n",
      "      (conv2): Conv2d(147.58 k, 1.320% Params, 115.71 MMac, 6.624% MACs, 128, 128, kernel_size=(3, 3), stride=(1, 1), padding=(1, 1))\n",
      "      (bn1): BatchNorm2d(256, 0.002% Params, 200.7 KMac, 0.011% MACs, 128, eps=1e-05, momentum=0.1, affine=True, track_running_stats=True)\n",
      "      (bn2): BatchNorm2d(256, 0.002% Params, 200.7 KMac, 0.011% MACs, 128, eps=1e-05, momentum=0.1, affine=True, track_running_stats=True)\n",
      "    )\n",
      "  )\n",
      "  (3): Sequential(\n",
      "    2.1 M, 18.791% Params, 411.69 MMac, 23.569% MACs, \n",
      "    (0): Residual(\n",
      "      919.3 k, 8.224% Params, 180.18 MMac, 10.315% MACs, \n",
      "      (conv1): Conv2d(295.17 k, 2.641% Params, 57.85 MMac, 3.312% MACs, 128, 256, kernel_size=(3, 3), stride=(2, 2), padding=(1, 1))\n",
      "      (conv2): Conv2d(590.08 k, 5.279% Params, 115.66 MMac, 6.621% MACs, 256, 256, kernel_size=(3, 3), stride=(1, 1), padding=(1, 1))\n",
      "      (conv3): Conv2d(33.02 k, 0.295% Params, 6.47 MMac, 0.371% MACs, 128, 256, kernel_size=(1, 1), stride=(2, 2))\n",
      "      (bn1): BatchNorm2d(512, 0.005% Params, 100.35 KMac, 0.006% MACs, 256, eps=1e-05, momentum=0.1, affine=True, track_running_stats=True)\n",
      "      (bn2): BatchNorm2d(512, 0.005% Params, 100.35 KMac, 0.006% MACs, 256, eps=1e-05, momentum=0.1, affine=True, track_running_stats=True)\n",
      "    )\n",
      "    (1): Residual(\n",
      "      1.18 M, 10.567% Params, 231.51 MMac, 13.254% MACs, \n",
      "      (conv1): Conv2d(590.08 k, 5.279% Params, 115.66 MMac, 6.621% MACs, 256, 256, kernel_size=(3, 3), stride=(1, 1), padding=(1, 1))\n",
      "      (conv2): Conv2d(590.08 k, 5.279% Params, 115.66 MMac, 6.621% MACs, 256, 256, kernel_size=(3, 3), stride=(1, 1), padding=(1, 1))\n",
      "      (bn1): BatchNorm2d(512, 0.005% Params, 100.35 KMac, 0.006% MACs, 256, eps=1e-05, momentum=0.1, affine=True, track_running_stats=True)\n",
      "      (bn2): BatchNorm2d(512, 0.005% Params, 100.35 KMac, 0.006% MACs, 256, eps=1e-05, momentum=0.1, affine=True, track_running_stats=True)\n",
      "    )\n",
      "  )\n",
      "  (4): Sequential(\n",
      "    8.4 M, 75.103% Params, 411.37 MMac, 23.550% MACs, \n",
      "    (0): Residual(\n",
      "      3.67 M, 32.863% Params, 180.01 MMac, 10.305% MACs, \n",
      "      (conv1): Conv2d(1.18 M, 10.558% Params, 57.83 MMac, 3.311% MACs, 256, 512, kernel_size=(3, 3), stride=(2, 2), padding=(1, 1))\n",
      "      (conv2): Conv2d(2.36 M, 21.110% Params, 115.63 MMac, 6.620% MACs, 512, 512, kernel_size=(3, 3), stride=(1, 1), padding=(1, 1))\n",
      "      (conv3): Conv2d(131.58 k, 1.177% Params, 6.45 MMac, 0.369% MACs, 256, 512, kernel_size=(1, 1), stride=(2, 2))\n",
      "      (bn1): BatchNorm2d(1.02 k, 0.009% Params, 50.18 KMac, 0.003% MACs, 512, eps=1e-05, momentum=0.1, affine=True, track_running_stats=True)\n",
      "      (bn2): BatchNorm2d(1.02 k, 0.009% Params, 50.18 KMac, 0.003% MACs, 512, eps=1e-05, momentum=0.1, affine=True, track_running_stats=True)\n",
      "    )\n",
      "    (1): Residual(\n",
      "      4.72 M, 42.239% Params, 231.36 MMac, 13.245% MACs, \n",
      "      (conv1): Conv2d(2.36 M, 21.110% Params, 115.63 MMac, 6.620% MACs, 512, 512, kernel_size=(3, 3), stride=(1, 1), padding=(1, 1))\n",
      "      (conv2): Conv2d(2.36 M, 21.110% Params, 115.63 MMac, 6.620% MACs, 512, 512, kernel_size=(3, 3), stride=(1, 1), padding=(1, 1))\n",
      "      (bn1): BatchNorm2d(1.02 k, 0.009% Params, 50.18 KMac, 0.003% MACs, 512, eps=1e-05, momentum=0.1, affine=True, track_running_stats=True)\n",
      "      (bn2): BatchNorm2d(1.02 k, 0.009% Params, 50.18 KMac, 0.003% MACs, 512, eps=1e-05, momentum=0.1, affine=True, track_running_stats=True)\n",
      "    )\n",
      "  )\n",
      "  (5): AdaptiveAvgPool2d(0, 0.000% Params, 25.09 KMac, 0.001% MACs, output_size=(1, 1))\n",
      "  (6): Flatten(0, 0.000% Params, 0.0 Mac, 0.000% MACs, start_dim=1, end_dim=-1)\n",
      "  (7): Linear(5.13 k, 0.046% Params, 5.13 KMac, 0.000% MACs, in_features=512, out_features=10, bias=True)\n",
      ")\n",
      "Computational complexity:       1.75 GMac\n",
      "Number of parameters:           11.18 M \n"
     ]
    }
   ],
   "source": [
    "with torch.cuda.device(0):\n",
    "    macs, params = get_model_complexity_info(resnet, (1, 224, 224), as_strings=True,\n",
    "                                            print_per_layer_stat=True, verbose=True)\n",
    "    \n",
    "    print('{:<30}  {:<8}'.format('Computational complexity: ', macs))\n",
    "    print('{:<30}  {:<8}'.format('Number of parameters: ', params))"
   ]
  },
  {
   "cell_type": "code",
   "execution_count": 7,
   "metadata": {},
   "outputs": [
    {
     "name": "stdout",
     "output_type": "stream",
     "text": [
      "Warning: module Inception is treated as a zero-op.\n",
      "Warning: module Flatten is treated as a zero-op.\n",
      "Sequential(\n",
      "  5.98 M, 100.000% Params, 1.51 GMac, 99.594% MACs, \n",
      "  (0): Sequential(\n",
      "    3.2 k, 0.054% Params, 41.75 MMac, 2.752% MACs, \n",
      "    (0): Conv2d(3.2 k, 0.054% Params, 40.14 MMac, 2.646% MACs, 1, 64, kernel_size=(7, 7), stride=(2, 2), padding=(3, 3))\n",
      "    (1): ReLU(0, 0.000% Params, 802.82 KMac, 0.053% MACs, )\n",
      "    (2): MaxPool2d(0, 0.000% Params, 802.82 KMac, 0.053% MACs, kernel_size=3, stride=2, padding=1, dilation=1, ceil_mode=False)\n",
      "  )\n",
      "  (1): Sequential(\n",
      "    114.94 k, 1.923% Params, 361.87 MMac, 23.856% MACs, \n",
      "    (0): Conv2d(4.16 k, 0.070% Params, 13.05 MMac, 0.860% MACs, 64, 64, kernel_size=(1, 1), stride=(1, 1))\n",
      "    (1): ReLU(0, 0.000% Params, 200.7 KMac, 0.013% MACs, )\n",
      "    (2): Conv2d(110.78 k, 1.853% Params, 347.42 MMac, 22.903% MACs, 64, 192, kernel_size=(3, 3), stride=(1, 1), padding=(1, 1))\n",
      "    (3): ReLU(0, 0.000% Params, 602.11 KMac, 0.040% MACs, )\n",
      "    (4): MaxPool2d(0, 0.000% Params, 602.11 KMac, 0.040% MACs, kernel_size=3, stride=2, padding=1, dilation=1, ceil_mode=False)\n",
      "  )\n",
      "  (2): Sequential(\n",
      "    552.43 k, 9.242% Params, 433.83 MMac, 28.600% MACs, \n",
      "    (0): Inception(\n",
      "      163.7 k, 2.739% Params, 128.49 MMac, 8.470% MACs, \n",
      "      (p1_1): Conv2d(12.35 k, 0.207% Params, 9.68 MMac, 0.638% MACs, 192, 64, kernel_size=(1, 1), stride=(1, 1))\n",
      "      (p2_1): Conv2d(18.53 k, 0.310% Params, 14.53 MMac, 0.958% MACs, 192, 96, kernel_size=(1, 1), stride=(1, 1))\n",
      "      (p2_2): Conv2d(110.72 k, 1.852% Params, 86.8 MMac, 5.723% MACs, 96, 128, kernel_size=(3, 3), stride=(1, 1), padding=(1, 1))\n",
      "      (p3_1): Conv2d(3.09 k, 0.052% Params, 2.42 MMac, 0.160% MACs, 192, 16, kernel_size=(1, 1), stride=(1, 1))\n",
      "      (p3_2): Conv2d(12.83 k, 0.215% Params, 10.06 MMac, 0.663% MACs, 16, 32, kernel_size=(5, 5), stride=(1, 1), padding=(2, 2))\n",
      "      (p4_1): MaxPool2d(0, 0.000% Params, 150.53 KMac, 0.010% MACs, kernel_size=3, stride=1, padding=1, dilation=1, ceil_mode=False)\n",
      "      (p4_2): Conv2d(6.18 k, 0.103% Params, 4.84 MMac, 0.319% MACs, 192, 32, kernel_size=(1, 1), stride=(1, 1))\n",
      "    )\n",
      "    (1): Inception(\n",
      "      388.74 k, 6.503% Params, 304.97 MMac, 20.105% MACs, \n",
      "      (p1_1): Conv2d(32.9 k, 0.550% Params, 25.79 MMac, 1.700% MACs, 256, 128, kernel_size=(1, 1), stride=(1, 1))\n",
      "      (p2_1): Conv2d(32.9 k, 0.550% Params, 25.79 MMac, 1.700% MACs, 256, 128, kernel_size=(1, 1), stride=(1, 1))\n",
      "      (p2_2): Conv2d(221.38 k, 3.703% Params, 173.56 MMac, 11.442% MACs, 128, 192, kernel_size=(3, 3), stride=(1, 1), padding=(1, 1))\n",
      "      (p3_1): Conv2d(8.22 k, 0.138% Params, 6.45 MMac, 0.425% MACs, 256, 32, kernel_size=(1, 1), stride=(1, 1))\n",
      "      (p3_2): Conv2d(76.9 k, 1.286% Params, 60.29 MMac, 3.974% MACs, 32, 96, kernel_size=(5, 5), stride=(1, 1), padding=(2, 2))\n",
      "      (p4_1): MaxPool2d(0, 0.000% Params, 200.7 KMac, 0.013% MACs, kernel_size=3, stride=1, padding=1, dilation=1, ceil_mode=False)\n",
      "      (p4_2): Conv2d(16.45 k, 0.275% Params, 12.9 MMac, 0.850% MACs, 256, 64, kernel_size=(1, 1), stride=(1, 1))\n",
      "    )\n",
      "    (2): MaxPool2d(0, 0.000% Params, 376.32 KMac, 0.025% MACs, kernel_size=3, stride=2, padding=1, dilation=1, ceil_mode=False)\n",
      "  )\n",
      "  (3): Sequential(\n",
      "    2.81 M, 46.995% Params, 551.26 MMac, 36.341% MACs, \n",
      "    (0): Inception(\n",
      "      376.18 k, 6.293% Params, 73.82 MMac, 4.867% MACs, \n",
      "      (p1_1): Conv2d(92.35 k, 1.545% Params, 18.1 MMac, 1.193% MACs, 480, 192, kernel_size=(1, 1), stride=(1, 1))\n",
      "      (p2_1): Conv2d(46.18 k, 0.772% Params, 9.05 MMac, 0.597% MACs, 480, 96, kernel_size=(1, 1), stride=(1, 1))\n",
      "      (p2_2): Conv2d(179.92 k, 3.010% Params, 35.26 MMac, 2.325% MACs, 96, 208, kernel_size=(3, 3), stride=(1, 1), padding=(1, 1))\n",
      "      (p3_1): Conv2d(7.7 k, 0.129% Params, 1.51 MMac, 0.099% MACs, 480, 16, kernel_size=(1, 1), stride=(1, 1))\n",
      "      (p3_2): Conv2d(19.25 k, 0.322% Params, 3.77 MMac, 0.249% MACs, 16, 48, kernel_size=(5, 5), stride=(1, 1), padding=(2, 2))\n",
      "      (p4_1): MaxPool2d(0, 0.000% Params, 94.08 KMac, 0.006% MACs, kernel_size=3, stride=1, padding=1, dilation=1, ceil_mode=False)\n",
      "      (p4_2): Conv2d(30.78 k, 0.515% Params, 6.03 MMac, 0.398% MACs, 480, 64, kernel_size=(1, 1), stride=(1, 1))\n",
      "    )\n",
      "    (1): Inception(\n",
      "      449.16 k, 7.514% Params, 88.14 MMac, 5.810% MACs, \n",
      "      (p1_1): Conv2d(82.08 k, 1.373% Params, 16.09 MMac, 1.061% MACs, 512, 160, kernel_size=(1, 1), stride=(1, 1))\n",
      "      (p2_1): Conv2d(57.46 k, 0.961% Params, 11.26 MMac, 0.742% MACs, 512, 112, kernel_size=(1, 1), stride=(1, 1))\n",
      "      (p2_2): Conv2d(226.02 k, 3.781% Params, 44.3 MMac, 2.920% MACs, 112, 224, kernel_size=(3, 3), stride=(1, 1), padding=(1, 1))\n",
      "      (p3_1): Conv2d(12.31 k, 0.206% Params, 2.41 MMac, 0.159% MACs, 512, 24, kernel_size=(1, 1), stride=(1, 1))\n",
      "      (p3_2): Conv2d(38.46 k, 0.643% Params, 7.54 MMac, 0.497% MACs, 24, 64, kernel_size=(5, 5), stride=(1, 1), padding=(2, 2))\n",
      "      (p4_1): MaxPool2d(0, 0.000% Params, 100.35 KMac, 0.007% MACs, kernel_size=3, stride=1, padding=1, dilation=1, ceil_mode=False)\n",
      "      (p4_2): Conv2d(32.83 k, 0.549% Params, 6.44 MMac, 0.424% MACs, 512, 64, kernel_size=(1, 1), stride=(1, 1))\n",
      "    )\n",
      "    (2): Inception(\n",
      "      510.1 k, 8.534% Params, 100.08 MMac, 6.598% MACs, \n",
      "      (p1_1): Conv2d(65.66 k, 1.099% Params, 12.87 MMac, 0.848% MACs, 512, 128, kernel_size=(1, 1), stride=(1, 1))\n",
      "      (p2_1): Conv2d(65.66 k, 1.099% Params, 12.87 MMac, 0.848% MACs, 512, 128, kernel_size=(1, 1), stride=(1, 1))\n",
      "      (p2_2): Conv2d(295.17 k, 4.938% Params, 57.85 MMac, 3.814% MACs, 128, 256, kernel_size=(3, 3), stride=(1, 1), padding=(1, 1))\n",
      "      (p3_1): Conv2d(12.31 k, 0.206% Params, 2.41 MMac, 0.159% MACs, 512, 24, kernel_size=(1, 1), stride=(1, 1))\n",
      "      (p3_2): Conv2d(38.46 k, 0.643% Params, 7.54 MMac, 0.497% MACs, 24, 64, kernel_size=(5, 5), stride=(1, 1), padding=(2, 2))\n",
      "      (p4_1): MaxPool2d(0, 0.000% Params, 100.35 KMac, 0.007% MACs, kernel_size=3, stride=1, padding=1, dilation=1, ceil_mode=False)\n",
      "      (p4_2): Conv2d(32.83 k, 0.549% Params, 6.44 MMac, 0.424% MACs, 512, 64, kernel_size=(1, 1), stride=(1, 1))\n",
      "    )\n",
      "    (3): Inception(\n",
      "      605.38 k, 10.128% Params, 118.75 MMac, 7.829% MACs, \n",
      "      (p1_1): Conv2d(57.46 k, 0.961% Params, 11.26 MMac, 0.742% MACs, 512, 112, kernel_size=(1, 1), stride=(1, 1))\n",
      "      (p2_1): Conv2d(73.87 k, 1.236% Params, 14.48 MMac, 0.955% MACs, 512, 144, kernel_size=(1, 1), stride=(1, 1))\n",
      "      (p2_2): Conv2d(373.54 k, 6.249% Params, 73.21 MMac, 4.827% MACs, 144, 288, kernel_size=(3, 3), stride=(1, 1), padding=(1, 1))\n",
      "      (p3_1): Conv2d(16.42 k, 0.275% Params, 3.22 MMac, 0.212% MACs, 512, 32, kernel_size=(1, 1), stride=(1, 1))\n",
      "      (p3_2): Conv2d(51.26 k, 0.858% Params, 10.05 MMac, 0.662% MACs, 32, 64, kernel_size=(5, 5), stride=(1, 1), padding=(2, 2))\n",
      "      (p4_1): MaxPool2d(0, 0.000% Params, 100.35 KMac, 0.007% MACs, kernel_size=3, stride=1, padding=1, dilation=1, ceil_mode=False)\n",
      "      (p4_2): Conv2d(32.83 k, 0.549% Params, 6.44 MMac, 0.424% MACs, 512, 64, kernel_size=(1, 1), stride=(1, 1))\n",
      "    )\n",
      "    (4): Inception(\n",
      "      868.35 k, 14.527% Params, 170.3 MMac, 11.227% MACs, \n",
      "      (p1_1): Conv2d(135.42 k, 2.266% Params, 26.54 MMac, 1.750% MACs, 528, 256, kernel_size=(1, 1), stride=(1, 1))\n",
      "      (p2_1): Conv2d(84.64 k, 1.416% Params, 16.59 MMac, 1.094% MACs, 528, 160, kernel_size=(1, 1), stride=(1, 1))\n",
      "      (p2_2): Conv2d(461.12 k, 7.714% Params, 90.38 MMac, 5.958% MACs, 160, 320, kernel_size=(3, 3), stride=(1, 1), padding=(1, 1))\n",
      "      (p3_1): Conv2d(16.93 k, 0.283% Params, 3.32 MMac, 0.219% MACs, 528, 32, kernel_size=(1, 1), stride=(1, 1))\n",
      "      (p3_2): Conv2d(102.53 k, 1.715% Params, 20.1 MMac, 1.325% MACs, 32, 128, kernel_size=(5, 5), stride=(1, 1), padding=(2, 2))\n",
      "      (p4_1): MaxPool2d(0, 0.000% Params, 103.49 KMac, 0.007% MACs, kernel_size=3, stride=1, padding=1, dilation=1, ceil_mode=False)\n",
      "      (p4_2): Conv2d(67.71 k, 1.133% Params, 13.27 MMac, 0.875% MACs, 528, 128, kernel_size=(1, 1), stride=(1, 1))\n",
      "    )\n",
      "    (5): MaxPool2d(0, 0.000% Params, 163.07 KMac, 0.011% MACs, kernel_size=3, stride=2, padding=1, dilation=1, ceil_mode=False)\n",
      "  )\n",
      "  (4): Sequential(\n",
      "    2.49 M, 41.615% Params, 122.02 MMac, 8.044% MACs, \n",
      "    (0): Inception(\n",
      "      1.04 M, 17.456% Params, 51.17 MMac, 3.373% MACs, \n",
      "      (p1_1): Conv2d(213.25 k, 3.567% Params, 10.45 MMac, 0.689% MACs, 832, 256, kernel_size=(1, 1), stride=(1, 1))\n",
      "      (p2_1): Conv2d(133.28 k, 2.230% Params, 6.53 MMac, 0.431% MACs, 832, 160, kernel_size=(1, 1), stride=(1, 1))\n",
      "      (p2_2): Conv2d(461.12 k, 7.714% Params, 22.59 MMac, 1.490% MACs, 160, 320, kernel_size=(3, 3), stride=(1, 1), padding=(1, 1))\n",
      "      (p3_1): Conv2d(26.66 k, 0.446% Params, 1.31 MMac, 0.086% MACs, 832, 32, kernel_size=(1, 1), stride=(1, 1))\n",
      "      (p3_2): Conv2d(102.53 k, 1.715% Params, 5.02 MMac, 0.331% MACs, 32, 128, kernel_size=(5, 5), stride=(1, 1), padding=(2, 2))\n",
      "      (p4_1): MaxPool2d(0, 0.000% Params, 40.77 KMac, 0.003% MACs, kernel_size=3, stride=1, padding=1, dilation=1, ceil_mode=False)\n",
      "      (p4_2): Conv2d(106.62 k, 1.784% Params, 5.22 MMac, 0.344% MACs, 832, 128, kernel_size=(1, 1), stride=(1, 1))\n",
      "    )\n",
      "    (1): Inception(\n",
      "      1.44 M, 24.158% Params, 70.8 MMac, 4.667% MACs, \n",
      "      (p1_1): Conv2d(319.87 k, 5.351% Params, 15.67 MMac, 1.033% MACs, 832, 384, kernel_size=(1, 1), stride=(1, 1))\n",
      "      (p2_1): Conv2d(159.94 k, 2.676% Params, 7.84 MMac, 0.517% MACs, 832, 192, kernel_size=(1, 1), stride=(1, 1))\n",
      "      (p2_2): Conv2d(663.94 k, 11.107% Params, 32.53 MMac, 2.145% MACs, 192, 384, kernel_size=(3, 3), stride=(1, 1), padding=(1, 1))\n",
      "      (p3_1): Conv2d(39.98 k, 0.669% Params, 1.96 MMac, 0.129% MACs, 832, 48, kernel_size=(1, 1), stride=(1, 1))\n",
      "      (p3_2): Conv2d(153.73 k, 2.572% Params, 7.53 MMac, 0.497% MACs, 48, 128, kernel_size=(5, 5), stride=(1, 1), padding=(2, 2))\n",
      "      (p4_1): MaxPool2d(0, 0.000% Params, 40.77 KMac, 0.003% MACs, kernel_size=3, stride=1, padding=1, dilation=1, ceil_mode=False)\n",
      "      (p4_2): Conv2d(106.62 k, 1.784% Params, 5.22 MMac, 0.344% MACs, 832, 128, kernel_size=(1, 1), stride=(1, 1))\n",
      "    )\n",
      "    (2): AdaptiveAvgPool2d(0, 0.000% Params, 50.18 KMac, 0.003% MACs, output_size=(1, 1))\n",
      "    (3): Flatten(0, 0.000% Params, 0.0 Mac, 0.000% MACs, start_dim=1, end_dim=-1)\n",
      "  )\n",
      "  (5): Linear(10.25 k, 0.171% Params, 10.25 KMac, 0.001% MACs, in_features=1024, out_features=10, bias=True)\n",
      ")\n",
      "Computational complexity:       1.52 GMac\n",
      "Number of parameters:           5.98 M  \n"
     ]
    }
   ],
   "source": [
    "with torch.cuda.device(0):\n",
    "    macs, params = get_model_complexity_info(googlenet, (1, 224, 224), as_strings=True,\n",
    "                                            print_per_layer_stat=True, verbose=True)\n",
    "    \n",
    "    print('{:<30}  {:<8}'.format('Computational complexity: ', macs))\n",
    "    print('{:<30}  {:<8}'.format('Number of parameters: ', params))"
   ]
  },
  {
   "cell_type": "code",
   "execution_count": 8,
   "metadata": {},
   "outputs": [
    {
     "name": "stdout",
     "output_type": "stream",
     "text": [
      "Warning: module Flatten is treated as a zero-op.\n",
      "Warning: module Dropout is treated as a zero-op.\n",
      "Sequential(\n",
      "  128.81 M, 100.000% Params, 7.57 GMac, 99.821% MACs, \n",
      "  (0): Sequential(\n",
      "    640, 0.000% Params, 38.54 MMac, 0.508% MACs, \n",
      "    (0): Conv2d(640, 0.000% Params, 32.11 MMac, 0.424% MACs, 1, 64, kernel_size=(3, 3), stride=(1, 1), padding=(1, 1))\n",
      "    (1): ReLU(0, 0.000% Params, 3.21 MMac, 0.042% MACs, )\n",
      "    (2): MaxPool2d(0, 0.000% Params, 3.21 MMac, 0.042% MACs, kernel_size=2, stride=2, padding=0, dilation=1, ceil_mode=False)\n",
      "  )\n",
      "  (1): Sequential(\n",
      "    73.86 k, 0.057% Params, 929.66 MMac, 12.262% MACs, \n",
      "    (0): Conv2d(73.86 k, 0.057% Params, 926.45 MMac, 12.219% MACs, 64, 128, kernel_size=(3, 3), stride=(1, 1), padding=(1, 1))\n",
      "    (1): ReLU(0, 0.000% Params, 1.61 MMac, 0.021% MACs, )\n",
      "    (2): MaxPool2d(0, 0.000% Params, 1.61 MMac, 0.021% MACs, kernel_size=2, stride=2, padding=0, dilation=1, ceil_mode=False)\n",
      "  )\n",
      "  (2): Sequential(\n",
      "    885.25 k, 0.687% Params, 2.78 GMac, 36.648% MACs, \n",
      "    (0): Conv2d(295.17 k, 0.229% Params, 925.65 MMac, 12.209% MACs, 128, 256, kernel_size=(3, 3), stride=(1, 1), padding=(1, 1))\n",
      "    (1): ReLU(0, 0.000% Params, 802.82 KMac, 0.011% MACs, )\n",
      "    (2): Conv2d(590.08 k, 0.458% Params, 1.85 GMac, 24.407% MACs, 256, 256, kernel_size=(3, 3), stride=(1, 1), padding=(1, 1))\n",
      "    (3): ReLU(0, 0.000% Params, 802.82 KMac, 0.011% MACs, )\n",
      "    (4): MaxPool2d(0, 0.000% Params, 802.82 KMac, 0.011% MACs, kernel_size=2, stride=2, padding=0, dilation=1, ceil_mode=False)\n",
      "  )\n",
      "  (3): Sequential(\n",
      "    3.54 M, 2.748% Params, 2.78 GMac, 36.621% MACs, \n",
      "    (0): Conv2d(1.18 M, 0.916% Params, 925.25 MMac, 12.204% MACs, 256, 512, kernel_size=(3, 3), stride=(1, 1), padding=(1, 1))\n",
      "    (1): ReLU(0, 0.000% Params, 401.41 KMac, 0.005% MACs, )\n",
      "    (2): Conv2d(2.36 M, 1.832% Params, 1.85 GMac, 24.402% MACs, 512, 512, kernel_size=(3, 3), stride=(1, 1), padding=(1, 1))\n",
      "    (3): ReLU(0, 0.000% Params, 401.41 KMac, 0.005% MACs, )\n",
      "    (4): MaxPool2d(0, 0.000% Params, 401.41 KMac, 0.005% MACs, kernel_size=2, stride=2, padding=0, dilation=1, ceil_mode=False)\n",
      "  )\n",
      "  (4): Sequential(\n",
      "    4.72 M, 3.664% Params, 925.35 MMac, 12.205% MACs, \n",
      "    (0): Conv2d(2.36 M, 1.832% Params, 462.52 MMac, 6.100% MACs, 512, 512, kernel_size=(3, 3), stride=(1, 1), padding=(1, 1))\n",
      "    (1): ReLU(0, 0.000% Params, 100.35 KMac, 0.001% MACs, )\n",
      "    (2): Conv2d(2.36 M, 1.832% Params, 462.52 MMac, 6.100% MACs, 512, 512, kernel_size=(3, 3), stride=(1, 1), padding=(1, 1))\n",
      "    (3): ReLU(0, 0.000% Params, 100.35 KMac, 0.001% MACs, )\n",
      "    (4): MaxPool2d(0, 0.000% Params, 100.35 KMac, 0.001% MACs, kernel_size=2, stride=2, padding=0, dilation=1, ceil_mode=False)\n",
      "  )\n",
      "  (5): Flatten(0, 0.000% Params, 0.0 Mac, 0.000% MACs, start_dim=1, end_dim=-1)\n",
      "  (6): Linear(102.76 M, 79.782% Params, 102.76 MMac, 1.355% MACs, in_features=25088, out_features=4096, bias=True)\n",
      "  (7): ReLU(0, 0.000% Params, 4.1 KMac, 0.000% MACs, )\n",
      "  (8): Dropout(0, 0.000% Params, 0.0 Mac, 0.000% MACs, p=0.5, inplace=False)\n",
      "  (9): Linear(16.78 M, 13.028% Params, 16.78 MMac, 0.221% MACs, in_features=4096, out_features=4096, bias=True)\n",
      "  (10): ReLU(0, 0.000% Params, 4.1 KMac, 0.000% MACs, )\n",
      "  (11): Dropout(0, 0.000% Params, 0.0 Mac, 0.000% MACs, p=0.5, inplace=False)\n",
      "  (12): Linear(40.97 k, 0.032% Params, 40.97 KMac, 0.001% MACs, in_features=4096, out_features=10, bias=True)\n",
      ")\n",
      "Computational complexity:       7.58 GMac\n",
      "Number of parameters:           128.81 M\n"
     ]
    }
   ],
   "source": [
    "with torch.cuda.device(0):\n",
    "    macs, params = get_model_complexity_info(vgg11, (1, 224, 224), as_strings=True,\n",
    "                                            print_per_layer_stat=True, verbose=True)\n",
    "    \n",
    "    print('{:<30}  {:<8}'.format('Computational complexity: ', macs))\n",
    "    print('{:<30}  {:<8}'.format('Number of parameters: ', params))"
   ]
  },
  {
   "cell_type": "code",
   "execution_count": 9,
   "metadata": {},
   "outputs": [
    {
     "name": "stdout",
     "output_type": "stream",
     "text": [
      "The alexnet subfolders are:  ['/root/GreenAI/GPU/universal/Previous_data/Alexnet_train_data/round1', '/root/GreenAI/GPU/universal/Previous_data/Alexnet_train_data/round10', '/root/GreenAI/GPU/universal/Previous_data/Alexnet_train_data/round2', '/root/GreenAI/GPU/universal/Previous_data/Alexnet_train_data/round3', '/root/GreenAI/GPU/universal/Previous_data/Alexnet_train_data/round4', '/root/GreenAI/GPU/universal/Previous_data/Alexnet_train_data/round5', '/root/GreenAI/GPU/universal/Previous_data/Alexnet_train_data/round6', '/root/GreenAI/GPU/universal/Previous_data/Alexnet_train_data/round7', '/root/GreenAI/GPU/universal/Previous_data/Alexnet_train_data/round8', '/root/GreenAI/GPU/universal/Previous_data/Alexnet_train_data/round9']\n",
      "The resnet subfolders are:  ['/root/GreenAI/GPU/universal/Previous_data/Resnet_train_data/round1', '/root/GreenAI/GPU/universal/Previous_data/Resnet_train_data/round10', '/root/GreenAI/GPU/universal/Previous_data/Resnet_train_data/round2', '/root/GreenAI/GPU/universal/Previous_data/Resnet_train_data/round3', '/root/GreenAI/GPU/universal/Previous_data/Resnet_train_data/round4', '/root/GreenAI/GPU/universal/Previous_data/Resnet_train_data/round5', '/root/GreenAI/GPU/universal/Previous_data/Resnet_train_data/round6', '/root/GreenAI/GPU/universal/Previous_data/Resnet_train_data/round7', '/root/GreenAI/GPU/universal/Previous_data/Resnet_train_data/round8', '/root/GreenAI/GPU/universal/Previous_data/Resnet_train_data/round9']\n",
      "The resnet subfolders are:  ['/root/GreenAI/GPU/universal/Previous_data/Googlenet_train_data/round1', '/root/GreenAI/GPU/universal/Previous_data/Googlenet_train_data/round10', '/root/GreenAI/GPU/universal/Previous_data/Googlenet_train_data/round2', '/root/GreenAI/GPU/universal/Previous_data/Googlenet_train_data/round3', '/root/GreenAI/GPU/universal/Previous_data/Googlenet_train_data/round4', '/root/GreenAI/GPU/universal/Previous_data/Googlenet_train_data/round5', '/root/GreenAI/GPU/universal/Previous_data/Googlenet_train_data/round6', '/root/GreenAI/GPU/universal/Previous_data/Googlenet_train_data/round7', '/root/GreenAI/GPU/universal/Previous_data/Googlenet_train_data/round8', '/root/GreenAI/GPU/universal/Previous_data/Googlenet_train_data/round9']\n",
      "The resnet subfolders are:  ['/root/GreenAI/GPU/universal/Previous_data/Vgg_train_data/round1', '/root/GreenAI/GPU/universal/Previous_data/Vgg_train_data/round10', '/root/GreenAI/GPU/universal/Previous_data/Vgg_train_data/round2', '/root/GreenAI/GPU/universal/Previous_data/Vgg_train_data/round3', '/root/GreenAI/GPU/universal/Previous_data/Vgg_train_data/round4', '/root/GreenAI/GPU/universal/Previous_data/Vgg_train_data/round5', '/root/GreenAI/GPU/universal/Previous_data/Vgg_train_data/round6', '/root/GreenAI/GPU/universal/Previous_data/Vgg_train_data/round7', '/root/GreenAI/GPU/universal/Previous_data/Vgg_train_data/round8', '/root/GreenAI/GPU/universal/Previous_data/Vgg_train_data/round9']\n"
     ]
    }
   ],
   "source": [
    "alexnet_subfolders = []\n",
    "resnet_subfolders = []\n",
    "googlenet_subfolders = []\n",
    "vgg11_subfolders = []\n",
    "for round in alexnet_path_folders:\n",
    "    alexnet_subfolders.append(os.path.join(alexnet_path, round))\n",
    "print('The alexnet subfolders are: ', alexnet_subfolders)\n",
    "for round in resnet_path_folders:\n",
    "    resnet_subfolders.append(os.path.join(resnet_path, round))\n",
    "print('The resnet subfolders are: ', resnet_subfolders)\n",
    "for round in googlenet_path_folders:\n",
    "    googlenet_subfolders.append(os.path.join(googlenet_path, round))\n",
    "print('The resnet subfolders are: ', googlenet_subfolders)\n",
    "for round in vgg_path_folders:\n",
    "    vgg11_subfolders.append(os.path.join(vgg_path, round))\n",
    "print('The resnet subfolders are: ', vgg11_subfolders)"
   ]
  },
  {
   "cell_type": "code",
   "execution_count": 10,
   "metadata": {},
   "outputs": [],
   "source": [
    "Round = 10\n",
    "Epoch = 10"
   ]
  },
  {
   "cell_type": "code",
   "execution_count": 11,
   "metadata": {},
   "outputs": [],
   "source": [
    "alexnet_round = np.zeros((Round,Epoch,6))\n",
    "resnet_round = np.zeros((Round,Epoch,6))\n",
    "googlenet_round = np.zeros((Round,Epoch,6))\n",
    "vgg11_round = np.zeros((Round,Epoch,6))"
   ]
  },
  {
   "cell_type": "code",
   "execution_count": 12,
   "metadata": {},
   "outputs": [],
   "source": [
    "for round in range(len(alexnet_subfolders)):\n",
    "    alexnet_roundi = np.load(os.path.join(alexnet_subfolders[round],'Time_AllEpochs.npy'), allow_pickle=True).reshape(Epoch,6)\n",
    "    alexnet_round[round,:,:] = alexnet_roundi\n",
    "    resnet_roundi = np.load(os.path.join(resnet_subfolders[round],'Time_AllEpochs.npy'), allow_pickle=True).reshape(Epoch,6)\n",
    "    resnet_round[round,:,:] = resnet_roundi\n",
    "    googlenet_roundi = np.load(os.path.join(googlenet_subfolders[round],'Time_AllEpochs.npy'), allow_pickle=True).reshape(Epoch,6)\n",
    "    googlenet_round[round,:,:] = googlenet_roundi\n",
    "    vgg11_roundi = np.load(os.path.join(vgg11_subfolders[round],'Time_AllEpochs.npy'), allow_pickle=True).reshape(Epoch,6)\n",
    "    vgg11_round[round,:,:] = vgg11_roundi"
   ]
  },
  {
   "cell_type": "code",
   "execution_count": 13,
   "metadata": {},
   "outputs": [
    {
     "name": "stdout",
     "output_type": "stream",
     "text": [
      "(10, 10, 6) (10, 10, 6) (10, 10, 6) (10, 10, 6)\n"
     ]
    }
   ],
   "source": [
    "print(alexnet_round.shape, resnet_round.shape, googlenet_round.shape, vgg11_round.shape)"
   ]
  },
  {
   "cell_type": "code",
   "execution_count": 14,
   "metadata": {},
   "outputs": [],
   "source": [
    "# calculate the average by rounds\n",
    "alexnet_round_mean = np.mean(alexnet_round, axis=0)\n",
    "resnet_round_mean = np.mean(resnet_round, axis=0)\n",
    "googlenet_round_mean = np.mean(googlenet_round, axis=0)\n",
    "vgg11_round_mean = np.mean(vgg11_round, axis=0)"
   ]
  },
  {
   "cell_type": "code",
   "execution_count": 15,
   "metadata": {},
   "outputs": [
    {
     "name": "stdout",
     "output_type": "stream",
     "text": [
      "(10, 6) (10, 6) (10, 6) (10, 6)\n"
     ]
    }
   ],
   "source": [
    "print(alexnet_round_mean.shape, resnet_round_mean.shape, googlenet_round_mean.shape, vgg11_round_mean.shape)"
   ]
  },
  {
   "cell_type": "code",
   "execution_count": 16,
   "metadata": {},
   "outputs": [],
   "source": [
    "# calculate the average by epochs\n",
    "alexnet_epoch_mean = np.mean(alexnet_round_mean, axis = 0)\n",
    "resnet_epoch_mean = np.mean(resnet_round_mean, axis = 0)\n",
    "googlenet_epoch_mean = np.mean(googlenet_round_mean, axis = 0)\n",
    "vgg11_epoch_mean = np.mean(vgg11_round_mean, axis = 0)"
   ]
  },
  {
   "cell_type": "code",
   "execution_count": 17,
   "metadata": {},
   "outputs": [
    {
     "name": "stdout",
     "output_type": "stream",
     "text": [
      "(6,) (6,) (6,) (6,)\n",
      "[ 2.02167423 11.34454767  0.13289068 22.88239971  0.99449076  2.80769468]\n",
      "[ 2.01232557 41.84458819  0.11137463 86.43133922  0.38518537  7.54545342]\n",
      "[ 2.0148199  45.88915199  0.13955033 96.29885418  0.32320046  8.61435796]\n",
      "[ 2.02792536 41.81388299  0.10870905 86.56527978  0.38048305  7.57771523]\n"
     ]
    }
   ],
   "source": [
    "print(alexnet_epoch_mean.shape, resnet_epoch_mean.shape, googlenet_epoch_mean.shape, vgg11_epoch_mean.shape)\n",
    "print(alexnet_epoch_mean)\n",
    "print(resnet_epoch_mean)\n",
    "print(googlenet_epoch_mean)\n",
    "print(vgg11_epoch_mean)"
   ]
  },
  {
   "cell_type": "code",
   "execution_count": 18,
   "metadata": {},
   "outputs": [
    {
     "data": {
      "image/png": "[encoded data removed]",
      "text/plain": [
       "<Figure size 640x480 with 1 Axes>"
      ]
     },
     "metadata": {},
     "output_type": "display_data"
    }
   ],
   "source": [
    "# plot the alexnet_epoch_mean, resnet_epoch_mean, googlenet_epoch_mean, vgg11_epoch_mean result in one figure using bar chart\n",
    "fig, ax = plt.subplots()\n",
    "index = np.arange(6)\n",
    "bar_width = 0.2\n",
    "opacity = 0.4\n",
    "rects1 = plt.bar(index, alexnet_epoch_mean, bar_width, alpha=opacity, color='b', label='Alexnet')\n",
    "rects2 = plt.bar(index+bar_width, resnet_epoch_mean, bar_width, alpha=opacity, color='g', label='ResNet')\n",
    "rects3 = plt.bar(index+2*bar_width, googlenet_epoch_mean, bar_width, alpha=opacity, color='r', label='GoogLeNet')\n",
    "rects4 = plt.bar(index+3*bar_width, vgg11_epoch_mean, bar_width, alpha=opacity, color='m', label='VGG')\n",
    "plt.xlabel('Training step')\n",
    "plt.ylabel('Time/s')\n",
    "plt.title('Training time of each step in 4 models')\n",
    "plt.xticks(index + bar_width, ('Time to Device', 'Forward', 'Loss', 'Backward', 'Opimization', 'Test'))\n",
    "plt.legend()\n",
    "plt.tight_layout()\n",
    "plt.show()\n"
   ]
  },
  {
   "cell_type": "code",
   "execution_count": null,
   "metadata": {},
   "outputs": [],
   "source": []
  }
 ],
 "metadata": {
  "kernelspec": {
   "display_name": "GreenAI",
   "language": "python",
   "name": "greenai"
  },
  "language_info": {
   "codemirror_mode": {
    "name": "ipython",
    "version": 3
   },
   "file_extension": ".py",
   "mimetype": "text/x-python",
   "name": "python",
   "nbconvert_exporter": "python",
   "pygments_lexer": "ipython3",
   "version": "3.11.8"
  }
 },
 "nbformat": 4,
 "nbformat_minor": 2
}
