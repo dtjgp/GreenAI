{
 "cells": [
  {
   "cell_type": "markdown",
   "metadata": {},
   "source": [
    "## This code is to find out the different of each epoch and batch size combination"
   ]
  },
  {
   "cell_type": "code",
   "execution_count": 1,
   "metadata": {},
   "outputs": [],
   "source": [
    "import os\n",
    "from pathlib import Path\n",
    "import pandas as pd\n",
    "import numpy as np\n",
    "import matplotlib.pyplot as plt"
   ]
  },
  {
   "cell_type": "markdown",
   "metadata": {},
   "source": [
    "### Path"
   ]
  },
  {
   "cell_type": "code",
   "execution_count": 2,
   "metadata": {},
   "outputs": [
    {
     "name": "stdout",
     "output_type": "stream",
     "text": [
      "The current path is: /Users/dtjgp/Learning/GreenAI/Cloud/3060_95W/code\n",
      "The parent path is: /Users/dtjgp/Learning/GreenAI/Cloud/3060_95W\n",
      "The data path is: /Users/dtjgp/Learning/GreenAI/Cloud/3060_95W/Data/googlenet/fashion_mnist\n"
     ]
    }
   ],
   "source": [
    "'''find the Model path'''\n",
    "# find the current path\n",
    "current_path = os.getcwd()\n",
    "print('The current path is:', current_path)\n",
    "\n",
    "# find the parent path\n",
    "parent_path = Path(current_path).parent\n",
    "print('The parent path is:', parent_path)\n",
    "\n",
    "# find the data path\n",
    "data_path = parent_path / 'Data/googlenet/fashion_mnist/'\n",
    "print('The data path is:', data_path)"
   ]
  },
  {
   "cell_type": "markdown",
   "metadata": {},
   "source": [
    "### extract data"
   ]
  },
  {
   "cell_type": "code",
   "execution_count": 3,
   "metadata": {},
   "outputs": [],
   "source": [
    "batch_sizes = [32]\n",
    "epochs = [10]\n",
    "rounds = 1"
   ]
  },
  {
   "cell_type": "markdown",
   "metadata": {},
   "source": [
    "#### read all the data from all the folders"
   ]
  },
  {
   "cell_type": "code",
   "execution_count": 4,
   "metadata": {},
   "outputs": [
    {
     "name": "stdout",
     "output_type": "stream",
     "text": [
      "The folder names are: ['E10_B32_R0']\n",
      "The folder list is: ['E10_B32_R0']\n",
      "The common folders are: ['E10_B32_R0']\n",
      "1\n"
     ]
    }
   ],
   "source": [
    "folder_list = []\n",
    "for epoch in epochs:\n",
    "    for batch in batch_sizes:\n",
    "        for round in range(rounds):\n",
    "            folder_name = 'E' + str(epoch) + '_B' + str(batch) + '_R' + str(round)\n",
    "            # print('The folder name is:', folder_name)\n",
    "            folder_list.append(folder_name)\n",
    "            \n",
    "# find the folders in the data path\n",
    "folder_names = os.listdir(data_path)\n",
    "print('The folder names are:', folder_names)\n",
    "print('The folder list is:', folder_list)\n",
    "\n",
    "# find the common folders\n",
    "common_folders = list(set(folder_list).intersection(folder_names))\n",
    "# sort the common folders\n",
    "common_folders.sort()\n",
    "print('The common folders are:', common_folders)\n",
    "print(len(common_folders))"
   ]
  },
  {
   "cell_type": "markdown",
   "metadata": {},
   "source": [
    "### analysis data"
   ]
  },
  {
   "cell_type": "markdown",
   "metadata": {},
   "source": [
    "#### find the data in same epoch and batch size"
   ]
  },
  {
   "cell_type": "code",
   "execution_count": 7,
   "metadata": {},
   "outputs": [
    {
     "name": "stdout",
     "output_type": "stream",
     "text": [
      "The data folder is: /Users/dtjgp/Learning/GreenAI/Cloud/3060_95W/Data/googlenet/fashion_mnist/E10_B32_R0\n",
      "The files are: ['Layers_time.npy', 'Train_part_time.npy', 'Epoch_time.npy', 'Epoch_energy.npy', 'Train_acc.npy', 'Test_acc.npy']\n"
     ]
    }
   ],
   "source": [
    "# read the data from the common folders\n",
    "datafolder = data_path / common_folders[0]\n",
    "print('The data folder is:', datafolder)\n",
    "# find the files in the data folder\n",
    "files = os.listdir(datafolder)\n",
    "print('The files are:', files)\n"
   ]
  },
  {
   "cell_type": "code",
   "execution_count": 8,
   "metadata": {},
   "outputs": [],
   "source": [
    "# read all the files in the common folders\n",
    "LayersTime = np.load(datafolder / 'Layers_time.npy', allow_pickle=True)\n",
    "TrainPartTime = np.load(datafolder / 'Train_part_time.npy', allow_pickle=True)\n",
    "EpochTime = np.load(datafolder / 'Epoch_time.npy', allow_pickle=True)\n",
    "EpochEnergy = np.load(datafolder / 'Epoch_energy.npy', allow_pickle=True)\n",
    "TrainAcc = np.load(datafolder / 'Train_acc.npy', allow_pickle=True)\n",
    "TestAcc = np.load(datafolder / 'Test_acc.npy', allow_pickle=True)"
   ]
  },
  {
   "cell_type": "markdown",
   "metadata": {},
   "source": [
    "#### LayersTime"
   ]
  },
  {
   "cell_type": "code",
   "execution_count": 11,
   "metadata": {},
   "outputs": [
    {
     "name": "stdout",
     "output_type": "stream",
     "text": [
      "The lenth of the LayersName is 75\n"
     ]
    }
   ],
   "source": [
    "LayersName = ['S0_C0', 'S0_R1', 'S0_M2', 'S1_C0', 'S1_R1', 'S1_C2', 'S1_R3', 'S1_M4', 'S2_I0_Cp1_1', 'S2_I0_Cp2_1', 'S2_I0_Cp2_2', 'S2_I0_Cp3_1', 'S2_I0_Cp3_2', 'S2_I0_Mp4_1', 'S2_I0_Cp4_2', 'S2_I1_Cp1_1', 'S2_I1_Cp2_1', 'S2_I1_Cp2_2', 'S2_I1_Cp3_1', 'S2_I1_Cp3_2', 'S2_I1_Mp4_1', 'S2_I1_Cp4_2', 'S2_M2', 'S3_I0_Cp1_1', 'S3_I0_Cp2_1', 'S3_I0_Cp2_2', 'S3_I0_Cp3_1', 'S3_I0_Cp3_2', 'S3_I0_Mp4_1', 'S3_I0_Cp4_2', 'S3_I1_Cp1_1', 'S3_I1_Cp2_1', 'S3_I1_Cp2_2', 'S3_I1_Cp3_1', 'S3_I1_Cp3_2', 'S3_I1_Mp4_1', 'S3_I1_Cp4_2', 'S3_I2_Cp1_1', 'S3_I2_Cp2_1', 'S3_I2_Cp2_2', 'S3_I2_Cp3_1', 'S3_I2_Cp3_2', 'S3_I2_Mp4_1', 'S3_I2_Cp4_2', 'S3_I3_Cp1_1', 'S3_I3_Cp2_1', 'S3_I3_Cp2_2', 'S3_I3_Cp3_1', 'S3_I3_Cp3_2', 'S3_I3_Mp4_1', 'S3_I3_Cp4_2', 'S3_I4_Cp1_1', 'S3_I4_Cp2_1', 'S3_I4_Cp2_2', 'S3_I4_Cp3_1', 'S3_I4_Cp3_2', 'S3_I4_Mp4_1', 'S3_I4_Cp4_2', 'S3_M5', 'S4_I0_Cp1_1', 'S4_I0_Cp2_1', 'S4_I0_Cp2_2', 'S4_I0_Cp3_1', 'S4_I0_Cp3_2', 'S4_I0_Mp4_1', 'S4_I0_Cp4_2', 'S4_I1_Cp1_1', 'S4_I1_Cp2_1', 'S4_I1_Cp2_2', 'S4_I1_Cp3_1', 'S4_I1_Cp3_2', 'S4_I1_Mp4_1', 'S4_I1_Cp4_2', 'S4_A2', 'S4_F3']\n",
    "print(f'The lenth of the LayersName is {len(LayersName)}')"
   ]
  },
  {
   "cell_type": "code",
   "execution_count": 13,
   "metadata": {},
   "outputs": [
    {
     "name": "stdout",
     "output_type": "stream",
     "text": [
      "The shape of LayersTime is: (75, 10)\n",
      "[[0. 0. 0. 0. 0. 0. 0. 0. 0. 0.]\n",
      " [0. 0. 0. 0. 0. 0. 0. 0. 0. 0.]\n",
      " [0. 0. 0. 0. 0. 0. 0. 0. 0. 0.]\n",
      " [0. 0. 0. 0. 0. 0. 0. 0. 0. 0.]\n",
      " [0. 0. 0. 0. 0. 0. 0. 0. 0. 0.]\n",
      " [0. 0. 0. 0. 0. 0. 0. 0. 0. 0.]\n",
      " [0. 0. 0. 0. 0. 0. 0. 0. 0. 0.]\n",
      " [0. 0. 0. 0. 0. 0. 0. 0. 0. 0.]\n",
      " [0. 0. 0. 0. 0. 0. 0. 0. 0. 0.]\n",
      " [0. 0. 0. 0. 0. 0. 0. 0. 0. 0.]\n",
      " [0. 0. 0. 0. 0. 0. 0. 0. 0. 0.]\n",
      " [0. 0. 0. 0. 0. 0. 0. 0. 0. 0.]\n",
      " [0. 0. 0. 0. 0. 0. 0. 0. 0. 0.]\n",
      " [0. 0. 0. 0. 0. 0. 0. 0. 0. 0.]\n",
      " [0. 0. 0. 0. 0. 0. 0. 0. 0. 0.]\n",
      " [0. 0. 0. 0. 0. 0. 0. 0. 0. 0.]\n",
      " [0. 0. 0. 0. 0. 0. 0. 0. 0. 0.]\n",
      " [0. 0. 0. 0. 0. 0. 0. 0. 0. 0.]\n",
      " [0. 0. 0. 0. 0. 0. 0. 0. 0. 0.]\n",
      " [0. 0. 0. 0. 0. 0. 0. 0. 0. 0.]\n",
      " [0. 0. 0. 0. 0. 0. 0. 0. 0. 0.]\n",
      " [0. 0. 0. 0. 0. 0. 0. 0. 0. 0.]\n",
      " [0. 0. 0. 0. 0. 0. 0. 0. 0. 0.]\n",
      " [0. 0. 0. 0. 0. 0. 0. 0. 0. 0.]\n",
      " [0. 0. 0. 0. 0. 0. 0. 0. 0. 0.]\n",
      " [0. 0. 0. 0. 0. 0. 0. 0. 0. 0.]\n",
      " [0. 0. 0. 0. 0. 0. 0. 0. 0. 0.]\n",
      " [0. 0. 0. 0. 0. 0. 0. 0. 0. 0.]\n",
      " [0. 0. 0. 0. 0. 0. 0. 0. 0. 0.]\n",
      " [0. 0. 0. 0. 0. 0. 0. 0. 0. 0.]\n",
      " [0. 0. 0. 0. 0. 0. 0. 0. 0. 0.]\n",
      " [0. 0. 0. 0. 0. 0. 0. 0. 0. 0.]\n",
      " [0. 0. 0. 0. 0. 0. 0. 0. 0. 0.]\n",
      " [0. 0. 0. 0. 0. 0. 0. 0. 0. 0.]\n",
      " [0. 0. 0. 0. 0. 0. 0. 0. 0. 0.]\n",
      " [0. 0. 0. 0. 0. 0. 0. 0. 0. 0.]\n",
      " [0. 0. 0. 0. 0. 0. 0. 0. 0. 0.]\n",
      " [0. 0. 0. 0. 0. 0. 0. 0. 0. 0.]\n",
      " [0. 0. 0. 0. 0. 0. 0. 0. 0. 0.]\n",
      " [0. 0. 0. 0. 0. 0. 0. 0. 0. 0.]\n",
      " [0. 0. 0. 0. 0. 0. 0. 0. 0. 0.]\n",
      " [0. 0. 0. 0. 0. 0. 0. 0. 0. 0.]\n",
      " [0. 0. 0. 0. 0. 0. 0. 0. 0. 0.]\n",
      " [0. 0. 0. 0. 0. 0. 0. 0. 0. 0.]\n",
      " [0. 0. 0. 0. 0. 0. 0. 0. 0. 0.]\n",
      " [0. 0. 0. 0. 0. 0. 0. 0. 0. 0.]\n",
      " [0. 0. 0. 0. 0. 0. 0. 0. 0. 0.]\n",
      " [0. 0. 0. 0. 0. 0. 0. 0. 0. 0.]\n",
      " [0. 0. 0. 0. 0. 0. 0. 0. 0. 0.]\n",
      " [0. 0. 0. 0. 0. 0. 0. 0. 0. 0.]\n",
      " [0. 0. 0. 0. 0. 0. 0. 0. 0. 0.]\n",
      " [0. 0. 0. 0. 0. 0. 0. 0. 0. 0.]\n",
      " [0. 0. 0. 0. 0. 0. 0. 0. 0. 0.]\n",
      " [0. 0. 0. 0. 0. 0. 0. 0. 0. 0.]\n",
      " [0. 0. 0. 0. 0. 0. 0. 0. 0. 0.]\n",
      " [0. 0. 0. 0. 0. 0. 0. 0. 0. 0.]\n",
      " [0. 0. 0. 0. 0. 0. 0. 0. 0. 0.]\n",
      " [0. 0. 0. 0. 0. 0. 0. 0. 0. 0.]\n",
      " [0. 0. 0. 0. 0. 0. 0. 0. 0. 0.]\n",
      " [0. 0. 0. 0. 0. 0. 0. 0. 0. 0.]\n",
      " [0. 0. 0. 0. 0. 0. 0. 0. 0. 0.]\n",
      " [0. 0. 0. 0. 0. 0. 0. 0. 0. 0.]\n",
      " [0. 0. 0. 0. 0. 0. 0. 0. 0. 0.]\n",
      " [0. 0. 0. 0. 0. 0. 0. 0. 0. 0.]\n",
      " [0. 0. 0. 0. 0. 0. 0. 0. 0. 0.]\n",
      " [0. 0. 0. 0. 0. 0. 0. 0. 0. 0.]\n",
      " [0. 0. 0. 0. 0. 0. 0. 0. 0. 0.]\n",
      " [0. 0. 0. 0. 0. 0. 0. 0. 0. 0.]\n",
      " [0. 0. 0. 0. 0. 0. 0. 0. 0. 0.]\n",
      " [0. 0. 0. 0. 0. 0. 0. 0. 0. 0.]\n",
      " [0. 0. 0. 0. 0. 0. 0. 0. 0. 0.]\n",
      " [0. 0. 0. 0. 0. 0. 0. 0. 0. 0.]\n",
      " [0. 0. 0. 0. 0. 0. 0. 0. 0. 0.]\n",
      " [0. 0. 0. 0. 0. 0. 0. 0. 0. 0.]\n",
      " [0. 0. 0. 0. 0. 0. 0. 0. 0. 0.]]\n"
     ]
    }
   ],
   "source": [
    "print('The shape of LayersTime is:', LayersTime.shape)\n",
    "print(LayersTime)"
   ]
  },
  {
   "cell_type": "code",
   "execution_count": 12,
   "metadata": {},
   "outputs": [
    {
     "data": {
      "image/png": "[encoded data removed]",
      "text/plain": [
       "<Figure size 640x480 with 1 Axes>"
      ]
     },
     "metadata": {},
     "output_type": "display_data"
    }
   ],
   "source": [
    "# plot the LayersTime of each epoch using dot plot\n",
    "fig, ax = plt.subplots()\n",
    "for i in range(LayersTime.shape[1]):    \n",
    "    ax.plot(LayersTime[:, i], label=LayersName[i])\n",
    "ax.set_xlabel('LayerName')\n",
    "ax.set_ylabel('Time (s)')\n",
    "ax.set_title('The Time of each Layer in each Epoch')\n",
    "ax.legend()\n",
    "plt.show()"
   ]
  },
  {
   "cell_type": "code",
   "execution_count": null,
   "metadata": {},
   "outputs": [],
   "source": []
  }
 ],
 "metadata": {
  "kernelspec": {
   "display_name": "ds",
   "language": "python",
   "name": "ds"
  },
  "language_info": {
   "codemirror_mode": {
    "name": "ipython",
    "version": 3
   },
   "file_extension": ".py",
   "mimetype": "text/x-python",
   "name": "python",
   "nbconvert_exporter": "python",
   "pygments_lexer": "ipython3",
   "version": "3.8.18"
  }
 },
 "nbformat": 4,
 "nbformat_minor": 2
}
