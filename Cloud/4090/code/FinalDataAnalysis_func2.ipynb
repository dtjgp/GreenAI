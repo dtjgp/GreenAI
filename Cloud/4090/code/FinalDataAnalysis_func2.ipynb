{
 "cells": [
  {
   "cell_type": "code",
   "execution_count": 1,
   "metadata": {},
   "outputs": [],
   "source": [
    "import os\n",
    "import json\n",
    "import matplotlib.pyplot as plt\n",
    "import numpy as np\n",
    "import pandas as pd\n",
    "import seaborn as sns\n",
    "from sklearn.linear_model import LinearRegression"
   ]
  },
  {
   "cell_type": "code",
   "execution_count": 2,
   "metadata": {},
   "outputs": [],
   "source": [
    "current_dir = os.getcwd()\n",
    "parent_dir = os.path.dirname(current_dir)\n",
    "data_dir = os.path.join(parent_dir, 'Data')\n",
    "# print(data_dir)"
   ]
  },
  {
   "cell_type": "code",
   "execution_count": 9,
   "metadata": {},
   "outputs": [],
   "source": [
    "# read the model info, including the model name, the number of parameters, and the number of MACs\n",
    "# read the model training info, including the training time, each layer's training time, the epoch time and the epoch energy data\n",
    "data_model_dir = os.path.join(data_dir, 'model_info')\n",
    "# read all the model info csv files\n",
    "model_info_files = os.listdir(data_model_dir)\n",
    "cifar100_dataset = pd.read_csv(os.path.join(data_model_dir, 'cifar100_datasetinfo.csv'))\n",
    "fashionmnist_modelinfo = pd.read_csv(os.path.join(data_model_dir, 'fashionmnist_datasetinfo.csv'))"
   ]
  },
  {
   "cell_type": "code",
   "execution_count": 13,
   "metadata": {},
   "outputs": [
    {
     "name": "stdout",
     "output_type": "stream",
     "text": [
      "      Model          MACs   Parameters  TotalEnergyPerEpoch  \\\n",
      "0   Alexnet  7.123900e+08   57040000.0              2985.59   \n",
      "1     VGG11  7.640000e+09  129180000.0             23860.35   \n",
      "2     VGG16  1.552000e+10  134670000.0             46992.02   \n",
      "3  ResNet18  1.830000e+09   11230000.0              9525.80   \n",
      "4  ResNet34  3.680000e+09   21340000.0             15869.56   \n",
      "\n",
      "   AverageEnergyPerSec  TotalTime  AverageTimeperEpoch  Total Time to Device  \\\n",
      "0               135.45     431.56                21.58                100.94   \n",
      "1               294.21    1618.57                80.93                114.94   \n",
      "2               340.52    2749.50               137.48                115.99   \n",
      "3               210.37     897.24                44.86                114.59   \n",
      "4               255.15    1234.98                61.75                120.02   \n",
      "\n",
      "   Average Time to Device  Total Forward Time  Average Forward Time  \\\n",
      "0                    5.05               36.81                  1.84   \n",
      "1                    5.75              398.29                 19.91   \n",
      "2                    5.80              741.62                 37.08   \n",
      "3                    5.73              158.20                  7.91   \n",
      "4                    6.00              258.92                 12.95   \n",
      "\n",
      "   Total Backward Time  Average Backward Time  Total Test Time  \\\n",
      "0                61.28                   3.06            82.09   \n",
      "1               784.64                  39.23           149.39   \n",
      "2              1505.22                  75.26           216.65   \n",
      "3               336.78                  16.84           105.21   \n",
      "4               566.91                  28.35           116.87   \n",
      "\n",
      "   Average Test Time  \n",
      "0               4.10  \n",
      "1               7.47  \n",
      "2              10.83  \n",
      "3               5.26  \n",
      "4               5.84   \n",
      " ************************************************** \n",
      "       Model          MACs   Parameters  TotalEnergyPerEpoch  \\\n",
      "0   Alexnet  6.655300e+08   57030000.0              2627.00   \n",
      "1     VGG11  7.580000e+09  128810000.0             27264.35   \n",
      "2     VGG16  1.546000e+10  134300000.0             54043.96   \n",
      "3  ResNet18  1.750000e+09   11180000.0             10202.03   \n",
      "4  ResNet34  3.600000e+09   21290000.0             17610.77   \n",
      "\n",
      "   AverageEnergyPerSec  TotalTime  AverageTimeperEpoch  Total Time to Device  \\\n",
      "0               184.48     277.36                13.87                 41.25   \n",
      "1               324.59    1667.45                83.37                 47.60   \n",
      "2               360.06    2987.17               149.36                 47.13   \n",
      "3               256.70     786.20                39.31                 46.92   \n",
      "4               292.56    1199.54                59.98                 48.64   \n",
      "\n",
      "   Average Time to Device  Total Forward Time  Average Forward Time  \\\n",
      "0                    2.06               41.13                  2.06   \n",
      "1                    2.38              477.64                 23.88   \n",
      "2                    2.36              890.96                 44.55   \n",
      "3                    2.35              188.77                  9.44   \n",
      "4                    2.43              308.04                 15.40   \n",
      "\n",
      "   Total Backward Time  Average Backward Time  Total Test Time  \\\n",
      "0                71.34                   3.57            48.18   \n",
      "1               939.96                  47.00           110.53   \n",
      "2              1778.02                  88.90           179.09   \n",
      "3               394.64                  19.73            61.88   \n",
      "4               670.02                  33.50            76.78   \n",
      "\n",
      "   Average Test Time  \n",
      "0               2.41  \n",
      "1               5.53  \n",
      "2               8.95  \n",
      "3               3.09  \n",
      "4               3.84  \n"
     ]
    }
   ],
   "source": [
    "print(cifar100_dataset.head(),'\\n',\n",
    "      '*'*50, '\\n',\n",
    "      fashionmnist_modelinfo.head())"
   ]
  },
  {
   "cell_type": "code",
   "execution_count": 22,
   "metadata": {},
   "outputs": [],
   "source": [
    "# seperate the vgg model data with others\n",
    "vgg_data_f = fashionmnist_modelinfo[fashionmnist_modelinfo['Model'].str.contains('VGG')]\n",
    "vgg_data_c = cifar100_dataset[cifar100_dataset['Model'].str.contains('VGG')]\n",
    "\n",
    "# remove the vgg model data from the original data\n",
    "model_data_f = fashionmnist_modelinfo[~fashionmnist_modelinfo['Model'].str.contains('VGG')]\n",
    "model_data_c = cifar100_dataset[~cifar100_dataset['Model'].str.contains('VGG')]"
   ]
  },
  {
   "cell_type": "code",
   "execution_count": 25,
   "metadata": {},
   "outputs": [
    {
     "data": {
      "text/html": [
       "<div>\n",
       "<style scoped>\n",
       "    .dataframe tbody tr th:only-of-type {\n",
       "        vertical-align: middle;\n",
       "    }\n",
       "\n",
       "    .dataframe tbody tr th {\n",
       "        vertical-align: top;\n",
       "    }\n",
       "\n",
       "    .dataframe thead th {\n",
       "        text-align: right;\n",
       "    }\n",
       "</style>\n",
       "<table border=\"1\" class=\"dataframe\">\n",
       "  <thead>\n",
       "    <tr style=\"text-align: right;\">\n",
       "      <th></th>\n",
       "      <th>Model</th>\n",
       "      <th>MACs</th>\n",
       "      <th>Parameters</th>\n",
       "      <th>TotalEnergyPerEpoch</th>\n",
       "      <th>AverageEnergyPerSec</th>\n",
       "      <th>TotalTime</th>\n",
       "      <th>AverageTimeperEpoch</th>\n",
       "      <th>Total Time to Device</th>\n",
       "      <th>Average Time to Device</th>\n",
       "      <th>Total Forward Time</th>\n",
       "      <th>Average Forward Time</th>\n",
       "      <th>Total Backward Time</th>\n",
       "      <th>Average Backward Time</th>\n",
       "      <th>Total Test Time</th>\n",
       "      <th>Average Test Time</th>\n",
       "    </tr>\n",
       "  </thead>\n",
       "  <tbody>\n",
       "    <tr>\n",
       "      <th>1</th>\n",
       "      <td>VGG11</td>\n",
       "      <td>7.580000e+09</td>\n",
       "      <td>128810000.0</td>\n",
       "      <td>27264.35</td>\n",
       "      <td>324.59</td>\n",
       "      <td>1667.45</td>\n",
       "      <td>83.37</td>\n",
       "      <td>47.60</td>\n",
       "      <td>2.38</td>\n",
       "      <td>477.64</td>\n",
       "      <td>23.88</td>\n",
       "      <td>939.96</td>\n",
       "      <td>47.0</td>\n",
       "      <td>110.53</td>\n",
       "      <td>5.53</td>\n",
       "    </tr>\n",
       "    <tr>\n",
       "      <th>2</th>\n",
       "      <td>VGG16</td>\n",
       "      <td>1.546000e+10</td>\n",
       "      <td>134300000.0</td>\n",
       "      <td>54043.96</td>\n",
       "      <td>360.06</td>\n",
       "      <td>2987.17</td>\n",
       "      <td>149.36</td>\n",
       "      <td>47.13</td>\n",
       "      <td>2.36</td>\n",
       "      <td>890.96</td>\n",
       "      <td>44.55</td>\n",
       "      <td>1778.02</td>\n",
       "      <td>88.9</td>\n",
       "      <td>179.09</td>\n",
       "      <td>8.95</td>\n",
       "    </tr>\n",
       "  </tbody>\n",
       "</table>\n",
       "</div>"
      ],
      "text/plain": [
       "   Model          MACs   Parameters  TotalEnergyPerEpoch  AverageEnergyPerSec  \\\n",
       "1  VGG11  7.580000e+09  128810000.0             27264.35               324.59   \n",
       "2  VGG16  1.546000e+10  134300000.0             54043.96               360.06   \n",
       "\n",
       "   TotalTime  AverageTimeperEpoch  Total Time to Device  \\\n",
       "1    1667.45                83.37                 47.60   \n",
       "2    2987.17               149.36                 47.13   \n",
       "\n",
       "   Average Time to Device  Total Forward Time  Average Forward Time  \\\n",
       "1                    2.38              477.64                 23.88   \n",
       "2                    2.36              890.96                 44.55   \n",
       "\n",
       "   Total Backward Time  Average Backward Time  Total Test Time  \\\n",
       "1               939.96                   47.0           110.53   \n",
       "2              1778.02                   88.9           179.09   \n",
       "\n",
       "   Average Test Time  \n",
       "1               5.53  \n",
       "2               8.95  "
      ]
     },
     "execution_count": 25,
     "metadata": {},
     "output_type": "execute_result"
    }
   ],
   "source": [
    "vgg_data_f"
   ]
  },
  {
   "cell_type": "code",
   "execution_count": 39,
   "metadata": {},
   "outputs": [],
   "source": [
    "# find out the MACs of each model\n",
    "macs_train_f = model_data_f['MACs'].values.reshape(-1, 1)\n",
    "macs_test_f = vgg_data_f['MACs'].values.reshape(-1, 1)\n",
    "macs_train_c = model_data_c['MACs'].values.reshape(-1, 1)\n",
    "macs_test_c = vgg_data_c['MACs'].values.reshape(-1, 1)\n",
    "# find out the energy of each model\n",
    "energy_train_f = model_data_f['TotalEnergyPerEpoch'].values.reshape(-1, 1)\n",
    "energy_test_f = vgg_data_f['TotalEnergyPerEpoch'].values.reshape(-1, 1)\n",
    "energy_train_c = model_data_c['TotalEnergyPerEpoch'].values.reshape(-1, 1)\n",
    "energy_test_c = vgg_data_c['TotalEnergyPerEpoch'].values.reshape(-1, 1)\n",
    "\n",
    "# print(macs_train_f,'\\n','*'*50,'\\n',macs_test_f)\n",
    "# print('*'*50)\n",
    "# print(energy_train_f, '\\n','*'*50,'\\n', energy_test_f)"
   ]
  },
  {
   "cell_type": "code",
   "execution_count": 43,
   "metadata": {},
   "outputs": [
    {
     "name": "stdout",
     "output_type": "stream",
     "text": [
      "The predict values are: [[35781.38018037]\n",
      " [70130.52487955]]\n",
      "**************************************************\n",
      "The actual values are: [[27264.35]\n",
      " [54043.96]]\n",
      "**************************************************\n",
      "The R2 score is: 0.07601332421020324\n"
     ]
    }
   ],
   "source": [
    "model_onlymacs_f = LinearRegression()\n",
    "model_onlymacs_f.fit(macs_train_f, energy_train_f)\n",
    "vgg_pred_f = model_onlymacs_f.predict(macs_test_f)\n",
    "r2_f = model_onlymacs_f.score(macs_test_f, energy_test_f)\n",
    "\n",
    "print(f'The predict values are: {vgg_pred_f}')\n",
    "print('*'*50)\n",
    "print(f'The actual values are: {energy_test_f}')\n",
    "print('*'*50)\n",
    "print(f'The R2 score is: {r2_f}')"
   ]
  },
  {
   "cell_type": "code",
   "execution_count": 44,
   "metadata": {},
   "outputs": [
    {
     "name": "stdout",
     "output_type": "stream",
     "text": [
      "The predict values are: [[31089.19721814]\n",
      " [60123.33267323]]\n",
      "**************************************************\n",
      "The actual values are: [[23860.35]\n",
      " [46992.02]]\n",
      "**************************************************\n",
      "The R2 score is: 0.1601627486935504\n"
     ]
    }
   ],
   "source": [
    "model_onlymacs_c = LinearRegression()\n",
    "model_onlymacs_c.fit(macs_train_c, energy_train_c)\n",
    "vgg_pred_c = model_onlymacs_c.predict(macs_test_c)\n",
    "r2_c = model_onlymacs_c.score(macs_test_c, energy_test_c)\n",
    "\n",
    "print(f'The predict values are: {vgg_pred_c}')\n",
    "print('*'*50)\n",
    "print(f'The actual values are: {energy_test_c}')\n",
    "print('*'*50)\n",
    "print(f'The R2 score is: {r2_c}')"
   ]
  },
  {
   "cell_type": "code",
   "execution_count": 47,
   "metadata": {},
   "outputs": [],
   "source": [
    "def PlotMACs_vs_Energy(df, macs_test, energy_pred, energy_test):\n",
    "    # first plot the MACs vs Energy of the training data, and then plot the MACs vs Energy of the test data and the predicted data in the same plot\n",
    "    # set the prediction data as green, the test data as red, and the training data as blue\n",
    "    # the predicted data is the linear regression model's prediction, and use the dot to represent the data\n",
    "    plt.figure(figsize=(10, 6))\n",
    "    plt.scatter(df['MACs'], df['TotalEnergyPerEpoch'], color='blue', label='Training Data')\n",
    "    plt.scatter(macs_test, energy_test, color='red', label='Test Data')\n",
    "    plt.scatter(macs_test, energy_pred, color='green', label='Predicted Data')\n",
    "    plt.xlabel('MACs')\n",
    "    plt.ylabel('Energy')\n",
    "    plt.legend()\n",
    "    plt.show()\n",
    "    "
   ]
  },
  {
   "cell_type": "code",
   "execution_count": 48,
   "metadata": {},
   "outputs": [
    {
     "data": {
      "image/png": "[encoded data removed]",
      "text/plain": [
       "<Figure size 1000x600 with 1 Axes>"
      ]
     },
     "metadata": {},
     "output_type": "display_data"
    }
   ],
   "source": [
    "PlotMACs_vs_Energy(model_data_f, macs_test_f, vgg_pred_f, energy_test_f)"
   ]
  },
  {
   "cell_type": "code",
   "execution_count": null,
   "metadata": {},
   "outputs": [],
   "source": []
  }
 ],
 "metadata": {
  "kernelspec": {
   "display_name": "New",
   "language": "python",
   "name": "new"
  },
  "language_info": {
   "codemirror_mode": {
    "name": "ipython",
    "version": 3
   },
   "file_extension": ".py",
   "mimetype": "text/x-python",
   "name": "python",
   "nbconvert_exporter": "python",
   "pygments_lexer": "ipython3",
   "version": "3.11.5"
  }
 },
 "nbformat": 4,
 "nbformat_minor": 2
}
