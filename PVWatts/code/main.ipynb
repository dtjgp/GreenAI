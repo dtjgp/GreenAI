{
 "cells": [
  {
   "cell_type": "code",
   "execution_count": 17,
   "metadata": {},
   "outputs": [],
   "source": [
    "from PV_GetData import extract_data, Data_to_Class\n",
    "import pandas as pd\n",
    "import numpy as np\n",
    "import matplotlib.pyplot as plt\n",
    "from pathlib import Path\n",
    "import sys\n",
    "from DataCenter import DataCenter\n",
    "from PV import PV"
   ]
  },
  {
   "cell_type": "code",
   "execution_count": 18,
   "metadata": {},
   "outputs": [
    {
     "name": "stdout",
     "output_type": "stream",
     "text": [
      "/Users/dtjgp/Learning/GreenAI/PVWatts/code\n",
      "/Users/dtjgp/Learning/GreenAI/PVWatts\n",
      "/Users/dtjgp/Learning/GreenAI/PVWatts/PVdata\n",
      "/Users/dtjgp/Learning/GreenAI/PVWatts/PVdata/PV1/Info.csv /Users/dtjgp/Learning/GreenAI/PVWatts/PVdata/PV1/Hourly_Data.csv /Users/dtjgp/Learning/GreenAI/PVWatts/PVdata/PV1/Irradiance.csv\n"
     ]
    }
   ],
   "source": [
    "current_path = Path.cwd()\n",
    "print(current_path)\n",
    "# find the path of the parent directory\n",
    "parent_path = current_path.parent\n",
    "print(parent_path)\n",
    "# find the path of the data folder\n",
    "data_path = parent_path / 'PVdata'\n",
    "print(data_path)\n",
    "# PV1 file path\n",
    "PV1_path = data_path / 'PV1'\n",
    "PV1_info = PV1_path / 'Info.csv'\n",
    "PV1_hourlydata = PV1_path / 'Hourly_Data.csv'\n",
    "PV1_irradiance = PV1_path / 'Irradiance.csv'\n",
    "print(PV1_info, PV1_hourlydata, PV1_irradiance)\n"
   ]
  },
  {
   "cell_type": "code",
   "execution_count": 19,
   "metadata": {},
   "outputs": [
    {
     "name": "stdout",
     "output_type": "stream",
     "text": [
      "  PVWatts Hourly PV Performance Data                  Value\n",
      "0                 Requested Location                  turin\n",
      "1                           Location  TORINO-CASELLE, ITALY\n",
      "2                      Latitude (DD)                  45.18\n",
      "3                     Longitude (DD)                   7.65\n",
      "4                      Elevation (m)                    282\n",
      "**************************************************\n",
      "   Month  Day  Hour  Beam Irradiance (W/m2)  Diffuse Irradiance (W/m2)  \\\n",
      "0      1    1     0                       0                          0   \n",
      "1      1    1     1                       0                          0   \n",
      "2      1    1     2                       0                          0   \n",
      "3      1    1     3                       0                          0   \n",
      "4      1    1     4                       0                          0   \n",
      "\n",
      "   Ambient Temperature (C)  Wind Speed (m/s)  Albedo  \\\n",
      "0                     -1.4               0.0     0.2   \n",
      "1                     -1.8               0.0     0.2   \n",
      "2                     -2.4               0.0     0.2   \n",
      "3                     -3.2               0.0     0.2   \n",
      "4                     -3.5               0.0     0.2   \n",
      "\n",
      "   Plane of Array Irradiance (W/m2)  Cell Temperature (C)  \\\n",
      "0                               0.0                  -1.4   \n",
      "1                               0.0                  -1.8   \n",
      "2                               0.0                  -2.4   \n",
      "3                               0.0                  -3.2   \n",
      "4                               0.0                  -3.5   \n",
      "\n",
      "   DC Array Output (W)  AC System Output (W)  \n",
      "0                  0.0                   0.0  \n",
      "1                  0.0                   0.0  \n",
      "2                  0.0                   0.0  \n",
      "3                  0.0                   0.0  \n",
      "4                  0.0                   0.0  \n",
      "**************************************************\n",
      "  Monthly Irradiance  Value\n",
      "0                Jan      0\n",
      "1                Feb      0\n",
      "2                Mar      0\n",
      "3                Apr      0\n",
      "4                May      0\n"
     ]
    }
   ],
   "source": [
    "pv1info = pd.read_csv(PV1_info)\n",
    "pv1hourlydata = pd.read_csv(PV1_hourlydata)\n",
    "pv1irradiance = pd.read_csv(PV1_irradiance)\n",
    "print(pv1info.head())\n",
    "print('*'*50)\n",
    "print(pv1hourlydata.head())\n",
    "print('*'*50)\n",
    "print(pv1irradiance.head())"
   ]
  },
  {
   "cell_type": "code",
   "execution_count": null,
   "metadata": {},
   "outputs": [],
   "source": []
  },
  {
   "cell_type": "code",
   "execution_count": null,
   "metadata": {},
   "outputs": [],
   "source": []
  }
 ],
 "metadata": {
  "kernelspec": {
   "display_name": "ds",
   "language": "python",
   "name": "ds"
  },
  "language_info": {
   "codemirror_mode": {
    "name": "ipython",
    "version": 3
   },
   "file_extension": ".py",
   "mimetype": "text/x-python",
   "name": "python",
   "nbconvert_exporter": "python",
   "pygments_lexer": "ipython3",
   "version": "3.8.18"
  }
 },
 "nbformat": 4,
 "nbformat_minor": 2
}
