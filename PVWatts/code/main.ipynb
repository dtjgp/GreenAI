{
 "cells": [
  {
   "cell_type": "code",
   "execution_count": 1,
   "metadata": {},
   "outputs": [],
   "source": [
    "from PV_GetData import extract_data, Data_to_Class\n",
    "import pandas as pd\n",
    "import numpy as np\n",
    "import matplotlib.pyplot as plt\n",
    "import os \n",
    "import sys\n",
    "from DataCenter import DataCenter\n",
    "from PV import PV"
   ]
  },
  {
   "cell_type": "code",
   "execution_count": 2,
   "metadata": {},
   "outputs": [
    {
     "name": "stdout",
     "output_type": "stream",
     "text": [
      "                  Parameter                   Info\n",
      "0        Requested Location                  turin\n",
      "1                  Location  TORINO-CASELLE, ITALY\n",
      "2             Latitude (DD)                  45.18\n",
      "3            Longitude (DD)                   7.65\n",
      "4             Elevation (m)                    282\n",
      "5       DC System Size (kW)                   14.2\n",
      "6               Module Type               Standard\n",
      "7                Array Type        2-Axis Tracking\n",
      "8          Array Tilt (deg)                      0\n",
      "9       Array Azimuth (deg)                    180\n",
      "10        System Losses (%)                  14.08\n",
      "11      DC to AC Size Ratio                    1.2\n",
      "12  Inverter Efficiency (%)                     96\n",
      "13    Ground Coverage Ratio                    NaN\n",
      "14                   Albedo      From weather file\n",
      "15                 Bifacial                 No (0)\n",
      "**************************************************\n",
      "                Irradiance Loss Month  Value\n",
      "0   Monthly Irradiance Loss (%)   NaN    NaN\n",
      "1                           NaN   Jan    0.0\n",
      "2                           NaN   Feb    0.0\n",
      "3                           NaN   Mar    0.0\n",
      "4                           NaN   Apr    0.0\n",
      "5                           NaN   May    0.0\n",
      "6                           NaN  June    0.0\n",
      "7                           NaN  July    0.0\n",
      "8                           NaN   Aug    0.0\n",
      "9                           NaN  Sept    0.0\n",
      "10                          NaN   Oct    0.0\n",
      "11                          NaN   Nov    0.0\n",
      "12                          NaN   Dec    0.0\n"
     ]
    }
   ],
   "source": [
    "pv1_meta, pv1_irra = extract_data('Hourly_Data.csv')\n",
    "print(pv1_meta)\n",
    "print('*'*50)\n",
    "print(pv1_irra)"
   ]
  },
  {
   "cell_type": "code",
   "execution_count": 4,
   "metadata": {},
   "outputs": [
    {
     "name": "stdout",
     "output_type": "stream",
     "text": [
      "TORINO-CASELLE, ITALY 45.18 7.65 282 14.2 Standard 2-Axis Tracking 0 180 14.08 1.2 96 nan From weather file No (0)\n"
     ]
    }
   ],
   "source": [
    "pv1_location, pv1_lat, pv1_lon, pv1_elev, pv1_dcsize, pv1_module, pv1_array, pv1_tilt, pv1_azimuth,\\\n",
    "pv1_sysloss, pv1_DAratio, pv1_inveff, pv1_GCratio, pv1_albedo, pv1_bifacial= Data_to_Class(pv1_meta)\n",
    "print(pv1_location, pv1_lat, pv1_lon, pv1_elev, pv1_dcsize, pv1_module, pv1_array, pv1_tilt, pv1_azimuth,\\\n",
    "    pv1_sysloss, pv1_DAratio, pv1_inveff, pv1_GCratio, pv1_albedo, pv1_bifacial)"
   ]
  },
  {
   "cell_type": "code",
   "execution_count": null,
   "metadata": {},
   "outputs": [],
   "source": [
    "PV1 = PV(pv1_location, pv1_lat, pv1_lon, pv1_elev, pv1_dcsize, pv1_module, pv1_array, pv1_tilt, pv1_azimuth,\\\n",
    "        pv1_sysloss, pv1_DAratio, pv1_inveff, pv1_GCratio, pv1_albedo, pv1_bifacial)"
   ]
  }
 ],
 "metadata": {
  "kernelspec": {
   "display_name": "ds",
   "language": "python",
   "name": "ds"
  },
  "language_info": {
   "codemirror_mode": {
    "name": "ipython",
    "version": 3
   },
   "file_extension": ".py",
   "mimetype": "text/x-python",
   "name": "python",
   "nbconvert_exporter": "python",
   "pygments_lexer": "ipython3",
   "version": "3.8.18"
  }
 },
 "nbformat": 4,
 "nbformat_minor": 2
}
