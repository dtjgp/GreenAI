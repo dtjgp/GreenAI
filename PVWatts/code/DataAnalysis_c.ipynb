{
 "cells": [
  {
   "cell_type": "markdown",
   "metadata": {},
   "source": [
    "## Data analysis about cifar100 dataset about different power level and performence"
   ]
  },
  {
   "cell_type": "code",
   "execution_count": 12,
   "metadata": {},
   "outputs": [],
   "source": [
    "import numpy as np\n",
    "import os"
   ]
  },
  {
   "cell_type": "markdown",
   "metadata": {},
   "source": [
    "### This part is analying the energy consumption"
   ]
  },
  {
   "cell_type": "code",
   "execution_count": 13,
   "metadata": {},
   "outputs": [
    {
     "name": "stdout",
     "output_type": "stream",
     "text": [
      "/Users/dtjgp/Learning/GreenAI/PVWatts/code\n",
      "/Users/dtjgp/Learning/GreenAI/PVWatts\n",
      "['Power95', 'Power50', 'Power60', 'Power45', 'Power80', 'Power75', 'Power65', 'Power55', 'Power90', 'Power70', 'Power85', 'Power40', 'E50_B128_R0']\n",
      "['Power95', 'Power50', 'Power60', 'Power45', 'Power80', 'Power75', 'Power65', 'Power55', 'Power90', 'Power70', 'Power85', 'Power40']\n"
     ]
    }
   ],
   "source": [
    "# show the path of the current directory\n",
    "curPath = os.getcwd()\n",
    "print(curPath)\n",
    "# show the parent directory of the current directory\n",
    "parentPath = os.path.abspath(os.path.join(curPath, os.pardir))\n",
    "print(parentPath)\n",
    "# the data path is in the parentPath/Data/alexnet/cifar100\n",
    "dataPath = os.path.join(parentPath, 'Data/alexnet/cifar100')\n",
    "# show all the folders in the data path\n",
    "print(os.listdir(dataPath))\n",
    "# select all the fodlers with the name containing 'Power'\n",
    "folderList = [f for f in os.listdir(dataPath) if 'Power' in f]\n",
    "print(folderList)\n",
    "# reorder the folder list according to the number in the folder name\n",
    "folderList.sort(key=lambda x: int(x[-2:]))\n"
   ]
  },
  {
   "cell_type": "code",
   "execution_count": 24,
   "metadata": {},
   "outputs": [
    {
     "name": "stdout",
     "output_type": "stream",
     "text": [
      "['Power40', 'Power45', 'Power50', 'Power55', 'Power60', 'Power65', 'Power70', 'Power75', 'Power80', 'Power85', 'Power90', 'Power95']\n",
      "/Users/dtjgp/Learning/GreenAI/PVWatts/Data/alexnet/cifar100/Power40\n",
      "['Train_time.npy', 'Layers_time.npy', 'Train_part_time.npy', 'Epoch_time.npy', 'Epoch_energy.npy', 'Train_acc.npy', 'Test_acc.npy']\n",
      "/Users/dtjgp/Learning/GreenAI/PVWatts/Data/alexnet/cifar100/Power45\n",
      "['Train_time.npy', 'Layers_time.npy', 'Train_part_time.npy', 'Epoch_time.npy', 'Epoch_energy.npy', 'Train_acc.npy', 'Test_acc.npy']\n",
      "/Users/dtjgp/Learning/GreenAI/PVWatts/Data/alexnet/cifar100/Power50\n",
      "['Train_time.npy', 'Layers_time.npy', 'Train_part_time.npy', 'Epoch_time.npy', 'Epoch_energy.npy', 'Train_acc.npy', 'Test_acc.npy']\n",
      "/Users/dtjgp/Learning/GreenAI/PVWatts/Data/alexnet/cifar100/Power55\n",
      "['Train_time.npy', 'Layers_time.npy', 'Train_part_time.npy', 'Epoch_time.npy', 'Epoch_energy.npy', 'Train_acc.npy', 'Test_acc.npy']\n",
      "/Users/dtjgp/Learning/GreenAI/PVWatts/Data/alexnet/cifar100/Power60\n",
      "['Train_time.npy', 'Layers_time.npy', 'Train_part_time.npy', 'Epoch_time.npy', 'Epoch_energy.npy', 'Train_acc.npy', 'Test_acc.npy']\n",
      "/Users/dtjgp/Learning/GreenAI/PVWatts/Data/alexnet/cifar100/Power65\n",
      "['Train_time.npy', 'Layers_time.npy', 'Train_part_time.npy', 'Epoch_time.npy', 'Epoch_energy.npy', 'Train_acc.npy', 'Test_acc.npy']\n",
      "/Users/dtjgp/Learning/GreenAI/PVWatts/Data/alexnet/cifar100/Power70\n",
      "['Train_time.npy', 'Layers_time.npy', 'Train_part_time.npy', 'Epoch_time.npy', 'Epoch_energy.npy', 'Train_acc.npy', 'Test_acc.npy']\n",
      "/Users/dtjgp/Learning/GreenAI/PVWatts/Data/alexnet/cifar100/Power75\n",
      "['Train_time.npy', 'Layers_time.npy', 'Train_part_time.npy', 'Epoch_time.npy', 'Epoch_energy.npy', 'Train_acc.npy', 'Test_acc.npy']\n",
      "/Users/dtjgp/Learning/GreenAI/PVWatts/Data/alexnet/cifar100/Power80\n",
      "['Train_time.npy', 'Layers_time.npy', 'Train_part_time.npy', 'Epoch_time.npy', 'Epoch_energy.npy', 'Train_acc.npy', 'Test_acc.npy']\n",
      "/Users/dtjgp/Learning/GreenAI/PVWatts/Data/alexnet/cifar100/Power85\n",
      "['Train_time.npy', 'Layers_time.npy', 'Train_part_time.npy', 'Epoch_time.npy', 'Epoch_energy.npy', 'Train_acc.npy', 'Test_acc.npy']\n",
      "/Users/dtjgp/Learning/GreenAI/PVWatts/Data/alexnet/cifar100/Power90\n",
      "['Train_time.npy', 'Layers_time.npy', 'Train_part_time.npy', 'Epoch_time.npy', 'Epoch_energy.npy', 'Train_acc.npy', 'Test_acc.npy']\n",
      "/Users/dtjgp/Learning/GreenAI/PVWatts/Data/alexnet/cifar100/Power95\n",
      "['Train_time.npy', 'Layers_time.npy', 'Train_part_time.npy', 'Epoch_time.npy', 'Epoch_energy.npy', 'Train_acc.npy', 'Test_acc.npy']\n"
     ]
    }
   ],
   "source": [
    "def load_data_from_folder(folder_name):\n",
    "    folderPath = os.path.join(dataPath, folder_name)\n",
    "    print(folderPath)\n",
    "    print(os.listdir(folderPath))\n",
    "    \n",
    "    TrainTime = np.load(os.path.join(folderPath, 'Train_time.npy'), allow_pickle=True)\n",
    "    # print('The TrainTime data of each epoch are: ', TrainTime)\n",
    "    \n",
    "    LayersTime = np.load(os.path.join(folderPath, 'Layers_time.npy'), allow_pickle=True)\n",
    "    # print('The LayersTime of each epoch are: ', LayersTime)\n",
    "    \n",
    "    EpochTime = np.load(os.path.join(folderPath, 'Epoch_time.npy'), allow_pickle=True)\n",
    "    # print('Each epoch running time are: ', EpochTime)\n",
    "    \n",
    "    BatchEnergy = np.load(os.path.join(folderPath, 'Epoch_energy.npy'), allow_pickle=True)\n",
    "    # print('The energy consumption of each batch in each epoch are: ', BatchEnergy)\n",
    "    \n",
    "    TrainAccuracy = np.load(os.path.join(folderPath, 'Train_acc.npy'), allow_pickle=True)\n",
    "    # print('The training accuracy of each epoch are: ', TrainAccuracy)\n",
    "    \n",
    "    TestAccuracy = np.load(os.path.join(folderPath, 'Test_acc.npy'), allow_pickle=True)\n",
    "    # print('The test accuracy of each epoch are: ', TestAccuracy)\n",
    "    \n",
    "    return TrainTime, LayersTime, EpochTime, BatchEnergy, TrainAccuracy, TestAccuracy\n",
    "\n",
    "print(folderList)\n",
    "TrainTime_40, LayersTime_40, EpochTime_40, BatchEnergy_40, TrainAccuracy_40, TestAccuracy_40 = load_data_from_folder(folderList[0])\n",
    "TrainTime_45, LayersTime_45, EpochTime_45, BatchEnergy_45, TrainAccuracy_45, TestAccuracy_45 = load_data_from_folder(folderList[1])\n",
    "TrainTime_50, LayersTime_50, EpochTime_50, BatchEnergy_50, TrainAccuracy_50, TestAccuracy_50 = load_data_from_folder(folderList[2])\n",
    "TrainTime_55, LayersTime_55, EpochTime_55, BatchEnergy_55, TrainAccuracy_55, TestAccuracy_55 = load_data_from_folder(folderList[3])\n",
    "TrainTime_60, LayersTime_60, EpochTime_60, BatchEnergy_60, TrainAccuracy_60, TestAccuracy_60 = load_data_from_folder(folderList[4])\n",
    "TrainTime_65, LayersTime_65, EpochTime_65, BatchEnergy_65, TrainAccuracy_65, TestAccuracy_65 = load_data_from_folder(folderList[5])\n",
    "TrainTime_70, LayersTime_70, EpochTime_70, BatchEnergy_70, TrainAccuracy_70, TestAccuracy_70 = load_data_from_folder(folderList[6])\n",
    "TrainTime_75, LayersTime_75, EpochTime_75, BatchEnergy_75, TrainAccuracy_75, TestAccuracy_75 = load_data_from_folder(folderList[7])\n",
    "TrainTime_80, LayersTime_80, EpochTime_80, BatchEnergy_80, TrainAccuracy_80, TestAccuracy_80 = load_data_from_folder(folderList[8])\n",
    "TrainTime_85, LayersTime_85, EpochTime_85, BatchEnergy_85, TrainAccuracy_85, TestAccuracy_85 = load_data_from_folder(folderList[9])\n",
    "TrainTime_90, LayersTime_90, EpochTime_90, BatchEnergy_90, TrainAccuracy_90, TestAccuracy_90 = load_data_from_folder(folderList[10])\n",
    "TrainTime_95, LayersTime_95, EpochTime_95, BatchEnergy_95, TrainAccuracy_95, TestAccuracy_95 = load_data_from_folder(folderList[11])"
   ]
  },
  {
   "cell_type": "code",
   "execution_count": null,
   "metadata": {},
   "outputs": [],
   "source": []
  }
 ],
 "metadata": {
  "kernelspec": {
   "display_name": "GreenAI",
   "language": "python",
   "name": "greenai"
  },
  "language_info": {
   "codemirror_mode": {
    "name": "ipython",
    "version": 3
   },
   "file_extension": ".py",
   "mimetype": "text/x-python",
   "name": "python",
   "nbconvert_exporter": "python",
   "pygments_lexer": "ipython3",
   "version": "3.10.15"
  }
 },
 "nbformat": 4,
 "nbformat_minor": 2
}
