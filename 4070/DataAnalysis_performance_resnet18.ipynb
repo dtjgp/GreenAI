{
 "cells": [
  {
   "cell_type": "markdown",
   "metadata": {},
   "source": [
    "# This Code is to Analysis the Data of Different Power Level Energy Consumption of the GPU."
   ]
  },
  {
   "cell_type": "markdown",
   "metadata": {},
   "source": []
  }
 ],
 "metadata": {
  "language_info": {
   "name": "python"
  }
 },
 "nbformat": 4,
 "nbformat_minor": 2
}
