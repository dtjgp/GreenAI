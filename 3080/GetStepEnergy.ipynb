{
 "cells": [
  {
   "cell_type": "markdown",
   "metadata": {},
   "source": [
    "# This code is to get the labeled_energy_data csv file of each model"
   ]
  },
  {
   "cell_type": "markdown",
   "metadata": {},
   "source": [
    "## 对数据进行分析,展示出来的内容包括:\n",
    "### 1. 每个模型在 5 个 epochs 下的每个能耗数据点"
   ]
  },
  {
   "cell_type": "markdown",
   "metadata": {},
   "source": [
    "## Import the lib"
   ]
  },
  {
   "cell_type": "code",
   "execution_count": 2,
   "metadata": {},
   "outputs": [],
   "source": [
    "import pandas as pd\n",
    "import numpy as np\n",
    "import matplotlib.pyplot as plt\n",
    "import os\n",
    "import seaborn as sns"
   ]
  },
  {
   "cell_type": "markdown",
   "metadata": {},
   "source": [
    "## find the data path"
   ]
  },
  {
   "cell_type": "code",
   "execution_count": 3,
   "metadata": {},
   "outputs": [],
   "source": [
    "current_path = os.getcwd()\n",
    "data_path = os.path.join(current_path, 'ModelsData')"
   ]
  },
  {
   "cell_type": "markdown",
   "metadata": {},
   "source": [
    "## load all the model data"
   ]
  },
  {
   "cell_type": "code",
   "execution_count": 4,
   "metadata": {},
   "outputs": [
    {
     "name": "stdout",
     "output_type": "stream",
     "text": [
      "/Users/dtjgp/Projects/GreenAI/3080/ModelsData/alexnet\n"
     ]
    }
   ],
   "source": [
    "alexnet_data_folder = os.path.join(data_path, 'alexnet')\n",
    "\n",
    "print(alexnet_data_folder)"
   ]
  },
  {
   "cell_type": "markdown",
   "metadata": {},
   "source": [
    "## load the interpolate function"
   ]
  },
  {
   "cell_type": "code",
   "execution_count": 5,
   "metadata": {},
   "outputs": [],
   "source": [
    "def integrate_power_over_interval(samples, start_time, end_time):\n",
    "    # 假定 samples是按时间升序排序的 (t, p)\n",
    "    # 若未排序，请先排序:\n",
    "    # samples = sorted(samples, key=lambda x: x[0])\n",
    "    \n",
    "    def interpolate(samples, target_time):\n",
    "        # 在 samples 中找到 target_time 左右最近的两个点，并进行线性插值\n",
    "        # 若 target_time 恰好等于某个样本点时间，直接返回该点功率\n",
    "        # 若无法找到两侧点（如 target_time在样本时间轴外），根据情况返回None或边界点\n",
    "        n = len(samples)\n",
    "        if n == 0:\n",
    "            return None\n",
    "        # 若 target_time 小于第一个样本点时间，无法向左插值，这里直接返回第一个点的功率值(或None)\n",
    "        if target_time <= samples[0][0]:\n",
    "            # 简化处理：返回最早样本点的功率（或None）\n",
    "            return samples[0][1]\n",
    "        # 若 target_time 大于最后一个样本点时间，无法向右插值，返回最后一个点的功率（或None）\n",
    "        if target_time >= samples[-1][0]:\n",
    "            return samples[-1][1]\n",
    "\n",
    "        # 否则，在中间插值\n",
    "        # 使用二分查找快速定位\n",
    "        import bisect\n",
    "        times = [t for t, _ in samples]\n",
    "        pos = bisect.bisect_left(times, target_time)\n",
    "        # pos是使times保持有序插入target_time的位置\n",
    "        # 因为target_time不在已有样本点中，pos不会越界且pos>0且pos<n\n",
    "        t1, p1 = samples[pos-1]\n",
    "        t2, p2 = samples[pos]\n",
    "        # 线性插值： p = p1 + (p2 - p1)*((target_time - t1)/(t2 - t1))\n",
    "        ratio = (target_time - t1) / (t2 - t1)\n",
    "        p = p1 + (p2 - p1)*ratio\n",
    "        return p\n",
    "\n",
    "    # 从原始 samples 中筛选出位于[start_time, end_time]内的点\n",
    "    filtered = [(t, p) for t, p in samples if start_time <= t <= end_time]\n",
    "\n",
    "    # 如果不足2个点，则尝试使用插值\n",
    "    if len(filtered) < 2:\n",
    "        # 无论如何都需要在边界处插值出两个点(起码start和end)\n",
    "        start_power = interpolate(samples, start_time)\n",
    "        end_power = interpolate(samples, end_time)\n",
    "\n",
    "        # 如果从样本中无法插值出任何有意义的点（比如samples为空或无法插值），返回0.0\n",
    "        if start_power is None or end_power is None:\n",
    "            return 0.0\n",
    "\n",
    "        # 将插值的边界点加入到 filtered\n",
    "        # 注意：如果filtered中有一个点在区间内，我们也需要确保边界有两点以上\n",
    "        # 例如filtered只有一个点在中间，则需要在start和end插值点全部加入。\n",
    "        # 若filtered为空，则只用start/end两点插值点求积分\n",
    "        new_filtered = [(start_time, start_power)] + filtered + [(end_time, end_power)]\n",
    "        # 确保按时间排序\n",
    "        new_filtered.sort(key=lambda x: x[0])\n",
    "        filtered = new_filtered\n",
    "\n",
    "    # 正常积分计算\n",
    "    if len(filtered) < 2:\n",
    "        # 经过插值仍不够，返回0\n",
    "        return 0.0\n",
    "\n",
    "    total_energy = 0.0\n",
    "    for i in range(len(filtered)-1):\n",
    "        t1, p1 = filtered[i]\n",
    "        t2, p2 = filtered[i+1]\n",
    "        dt = t2 - t1\n",
    "        avg_p = (p1 + p2)/2.0\n",
    "        total_energy += avg_p * dt\n",
    "\n",
    "    return total_energy"
   ]
  },
  {
   "cell_type": "markdown",
   "metadata": {},
   "source": [
    "## AlexNet"
   ]
  },
  {
   "cell_type": "markdown",
   "metadata": {},
   "source": [
    "### find the data path contents"
   ]
  },
  {
   "cell_type": "code",
   "execution_count": 6,
   "metadata": {},
   "outputs": [
    {
     "name": "stdout",
     "output_type": "stream",
     "text": [
      "forward.npy\n",
      "energy_consumption_file.csv\n",
      "optimize.npy\n",
      "labeled_energy_data.csv\n",
      "backward.npy\n",
      "to_device.npy\n",
      "loss.npy\n"
     ]
    }
   ],
   "source": [
    "# show the files in the folder \n",
    "for file in os.listdir(alexnet_data_folder):\n",
    "    print(file)"
   ]
  },
  {
   "cell_type": "code",
   "execution_count": 7,
   "metadata": {},
   "outputs": [],
   "source": [
    "# load the csv files \n",
    "energy_data = pd.read_csv(os.path.join(alexnet_data_folder, 'energy_consumption_file.csv'))\n",
    "labeled_energy_data = pd.read_csv(os.path.join(alexnet_data_folder, 'labeled_energy_data.csv'))\n",
    "\n",
    "# load the npy files\n",
    "to_device = np.load(os.path.join(alexnet_data_folder, 'to_device.npy'), allow_pickle=True)\n",
    "forward = np.load(os.path.join(alexnet_data_folder, 'forward.npy'), allow_pickle=True)\n",
    "loss = np.load(os.path.join(alexnet_data_folder, 'loss.npy'), allow_pickle=True)\n",
    "backward = np.load(os.path.join(alexnet_data_folder, 'backward.npy'), allow_pickle=True)\n",
    "optimize = np.load(os.path.join(alexnet_data_folder, 'optimize.npy'), allow_pickle=True)"
   ]
  },
  {
   "cell_type": "code",
   "execution_count": 8,
   "metadata": {},
   "outputs": [
    {
     "name": "stdout",
     "output_type": "stream",
     "text": [
      "(5, 235, 2) (5, 235, 2) (5, 235, 2) (5, 235, 2) (5, 235, 2)\n"
     ]
    }
   ],
   "source": [
    "# show the shape of the npy files\n",
    "print(to_device.shape, forward.shape, loss.shape, backward.shape, optimize.shape)"
   ]
  },
  {
   "cell_type": "code",
   "execution_count": 9,
   "metadata": {},
   "outputs": [],
   "source": [
    "# create energy consumption data to save each step energy consumption\n",
    "# use the ndarray to save the data, the shape is the same as the original data with the shape[2] changed to 3\n",
    "# the first two value is the start time and end time, the third value is the energy consumption\n",
    "to_device_energy = np.zeros((to_device.shape[0], to_device.shape[1], 3))\n",
    "forward_energy = np.zeros((forward.shape[0], forward.shape[1], 3))\n",
    "loss_energy = np.zeros((loss.shape[0], loss.shape[1], 3))\n",
    "backward_energy = np.zeros((backward.shape[0], backward.shape[1], 3))\n",
    "optimize_energy = np.zeros((optimize.shape[0], optimize.shape[1], 3))"
   ]
  },
  {
   "cell_type": "code",
   "execution_count": 10,
   "metadata": {},
   "outputs": [],
   "source": [
    "# calculate the energy consumption for each step, \n",
    "# each runs 2 epochs, the first value of the shape is the epoch number\n",
    "# the second value is number of batches\n",
    "for epoch in range(to_device.shape[0]):\n",
    "    for batch in range(to_device.shape[1]):\n",
    "        to_device_energy[epoch][batch][0] = to_device[epoch][batch][0]\n",
    "        to_device_energy[epoch][batch][1] = to_device[epoch][batch][1]\n",
    "        to_device_energy[epoch][batch][2] = integrate_power_over_interval(energy_data.values, to_device[epoch][batch][0], to_device[epoch][batch][1])\n",
    "\n",
    "        forward_energy[epoch][batch][0] = forward[epoch][batch][0]\n",
    "        forward_energy[epoch][batch][1] = forward[epoch][batch][1]\n",
    "        forward_energy[epoch][batch][2] = integrate_power_over_interval(energy_data.values, forward[epoch][batch][0], forward[epoch][batch][1])\n",
    "\n",
    "        loss_energy[epoch][batch][0] = loss[epoch][batch][0]\n",
    "        loss_energy[epoch][batch][1] = loss[epoch][batch][1]\n",
    "        loss_energy[epoch][batch][2] = integrate_power_over_interval(energy_data.values, loss[epoch][batch][0], loss[epoch][batch][1])\n",
    "\n",
    "        backward_energy[epoch][batch][0] = backward[epoch][batch][0]\n",
    "        backward_energy[epoch][batch][1] = backward[epoch][batch][1]\n",
    "        backward_energy[epoch][batch][2] = integrate_power_over_interval(energy_data.values, backward[epoch][batch][0], backward[epoch][batch][1])\n",
    "\n",
    "        optimize_energy[epoch][batch][0] = optimize[epoch][batch][0]\n",
    "        optimize_energy[epoch][batch][1] = optimize[epoch][batch][1]\n",
    "        optimize_energy[epoch][batch][2] = integrate_power_over_interval(energy_data.values, optimize[epoch][batch][0], optimize[epoch][batch][1])"
   ]
  },
  {
   "cell_type": "code",
   "execution_count": 11,
   "metadata": {},
   "outputs": [],
   "source": [
    "# save the energy consumption data\n",
    "np.save(os.path.join(alexnet_data_folder, 'to_device_energy.npy'), to_device_energy, allow_pickle=True)\n",
    "np.save(os.path.join(alexnet_data_folder, 'forward_energy.npy'), forward_energy, allow_pickle=True)\n",
    "np.save(os.path.join(alexnet_data_folder, 'loss_energy.npy'), loss_energy, allow_pickle=True)\n",
    "np.save(os.path.join(alexnet_data_folder, 'backward_energy.npy'), backward_energy, allow_pickle=True)\n",
    "np.save(os.path.join(alexnet_data_folder, 'optimize_energy.npy'), optimize_energy, allow_pickle=True)"
   ]
  },
  {
   "cell_type": "code",
   "execution_count": null,
   "metadata": {},
   "outputs": [],
   "source": []
  }
 ],
 "metadata": {
  "kernelspec": {
   "display_name": "GreenAI",
   "language": "python",
   "name": "greenai"
  },
  "language_info": {
   "codemirror_mode": {
    "name": "ipython",
    "version": 3
   },
   "file_extension": ".py",
   "mimetype": "text/x-python",
   "name": "python",
   "nbconvert_exporter": "python",
   "pygments_lexer": "ipython3",
   "version": "3.10.15"
  }
 },
 "nbformat": 4,
 "nbformat_minor": 2
}
