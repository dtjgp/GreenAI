{
 "cells": [
  {
   "cell_type": "markdown",
   "metadata": {},
   "source": [
    "# This code is to get the labeled_energy_data csv file of each model"
   ]
  },
  {
   "cell_type": "markdown",
   "metadata": {},
   "source": [
    "## 对数据进行分析,展示出来的内容包括:\n",
    "### 1. 每个模型在 5 个 epochs 下的每个能耗数据点"
   ]
  },
  {
   "cell_type": "markdown",
   "metadata": {},
   "source": [
    "## Import the lib"
   ]
  },
  {
   "cell_type": "code",
   "execution_count": 75,
   "metadata": {},
   "outputs": [],
   "source": [
    "import pandas as pd\n",
    "import numpy as np\n",
    "import matplotlib.pyplot as plt\n",
    "import os\n",
    "import seaborn as sns"
   ]
  },
  {
   "cell_type": "markdown",
   "metadata": {},
   "source": [
    "## Function in use"
   ]
  },
  {
   "cell_type": "markdown",
   "metadata": {},
   "source": [
    "### load the interpolate function"
   ]
  },
  {
   "cell_type": "code",
   "execution_count": 76,
   "metadata": {},
   "outputs": [],
   "source": [
    "def integrate_power_over_interval(samples, start_time, end_time):\n",
    "    # 假定 samples是按时间升序排序的 (t, p)\n",
    "    # 若未排序，请先排序:\n",
    "    # samples = sorted(samples, key=lambda x: x[0])\n",
    "    \n",
    "    def interpolate(samples, target_time):\n",
    "        # 在 samples 中找到 target_time 左右最近的两个点，并进行线性插值\n",
    "        # 若 target_time 恰好等于某个样本点时间，直接返回该点功率\n",
    "        # 若无法找到两侧点（如 target_time在样本时间轴外），根据情况返回None或边界点\n",
    "        n = len(samples)\n",
    "        if n == 0:\n",
    "            return None\n",
    "        # 若 target_time 小于第一个样本点时间，无法向左插值，这里直接返回第一个点的功率值(或None)\n",
    "        if target_time <= samples[0][0]:\n",
    "            # 简化处理：返回最早样本点的功率（或None）\n",
    "            return samples[0][1]\n",
    "        # 若 target_time 大于最后一个样本点时间，无法向右插值，返回最后一个点的功率（或None）\n",
    "        if target_time >= samples[-1][0]:\n",
    "            return samples[-1][1]\n",
    "\n",
    "        # 否则，在中间插值\n",
    "        # 使用二分查找快速定位\n",
    "        import bisect\n",
    "        times = [t for t, _ in samples]\n",
    "        pos = bisect.bisect_left(times, target_time)\n",
    "        # pos是使times保持有序插入target_time的位置\n",
    "        # 因为target_time不在已有样本点中，pos不会越界且pos>0且pos<n\n",
    "        t1, p1 = samples[pos-1]\n",
    "        t2, p2 = samples[pos]\n",
    "        # 线性插值： p = p1 + (p2 - p1)*((target_time - t1)/(t2 - t1))\n",
    "        ratio = (target_time - t1) / (t2 - t1)\n",
    "        p = p1 + (p2 - p1)*ratio\n",
    "        return p\n",
    "\n",
    "    # 从原始 samples 中筛选出位于[start_time, end_time]内的点\n",
    "    filtered = [(t, p) for t, p in samples if start_time <= t <= end_time]\n",
    "\n",
    "    # 如果不足2个点，则尝试使用插值\n",
    "    if len(filtered) < 2:\n",
    "        # 无论如何都需要在边界处插值出两个点(起码start和end)\n",
    "        start_power = interpolate(samples, start_time)\n",
    "        end_power = interpolate(samples, end_time)\n",
    "\n",
    "        # 如果从样本中无法插值出任何有意义的点（比如samples为空或无法插值），返回0.0\n",
    "        if start_power is None or end_power is None:\n",
    "            return 0.0\n",
    "\n",
    "        # 将插值的边界点加入到 filtered\n",
    "        # 注意：如果filtered中有一个点在区间内，我们也需要确保边界有两点以上\n",
    "        # 例如filtered只有一个点在中间，则需要在start和end插值点全部加入。\n",
    "        # 若filtered为空，则只用start/end两点插值点求积分\n",
    "        new_filtered = [(start_time, start_power)] + filtered + [(end_time, end_power)]\n",
    "        # 确保按时间排序\n",
    "        new_filtered.sort(key=lambda x: x[0])\n",
    "        filtered = new_filtered\n",
    "\n",
    "    # 正常积分计算\n",
    "    if len(filtered) < 2:\n",
    "        # 经过插值仍不够，返回0\n",
    "        return 0.0\n",
    "\n",
    "    total_energy = 0.0\n",
    "    for i in range(len(filtered)-1):\n",
    "        t1, p1 = filtered[i]\n",
    "        t2, p2 = filtered[i+1]\n",
    "        dt = t2 - t1\n",
    "        avg_p = (p1 + p2)/2.0\n",
    "        total_energy += avg_p * dt\n",
    "\n",
    "    return total_energy"
   ]
  },
  {
   "cell_type": "markdown",
   "metadata": {},
   "source": [
    "### Read the data"
   ]
  },
  {
   "cell_type": "code",
   "execution_count": 77,
   "metadata": {},
   "outputs": [],
   "source": [
    "def load_data(model_path):\n",
    "    # load the csv files \n",
    "    energy_data = pd.read_csv(os.path.join(model_path, 'energy_consumption_file.csv'))\n",
    "    labeled_energy_data = pd.read_csv(os.path.join(model_path, 'labeled_energy_data.csv'))\n",
    "    forward_layer_energy = pd.read_csv(os.path.join(model_path, 'layer_energy.csv'))\n",
    "\n",
    "    # load the npy files\n",
    "    to_device = np.load(os.path.join(model_path, 'to_device.npy'), allow_pickle=True)\n",
    "    loss = np.load(os.path.join(model_path, 'loss.npy'), allow_pickle=True)\n",
    "    backward = np.load(os.path.join(model_path, 'backward.npy'), allow_pickle=True)\n",
    "    optimize = np.load(os.path.join(model_path, 'optimize.npy'), allow_pickle=True)\n",
    "\n",
    "    # load the energy data\n",
    "    to_device_energy = np.load(os.path.join(model_path, 'to_device_energy.npy'), allow_pickle=True)\n",
    "    forward_energy = np.load(os.path.join(model_path, 'forward_energy.npy'), allow_pickle=True)\n",
    "    loss_energy = np.load(os.path.join(model_path, 'loss_energy.npy'), allow_pickle=True)\n",
    "    backward_energy = np.load(os.path.join(model_path, 'backward_energy.npy'), allow_pickle=True)\n",
    "    optimize_energy = np.load(os.path.join(model_path, 'optimize_energy.npy'), allow_pickle=True)\n",
    "    \n",
    "    return energy_data, labeled_energy_data, forward_layer_energy, \\\n",
    "            to_device, loss, backward, optimize, \\\n",
    "            to_device_energy, forward_energy, loss_energy, backward_energy, optimize_energy"
   ]
  },
  {
   "cell_type": "markdown",
   "metadata": {},
   "source": [
    "### preprocess the data"
   ]
  },
  {
   "cell_type": "code",
   "execution_count": 78,
   "metadata": {},
   "outputs": [],
   "source": [
    "'''1. get the energy consumption of each layer as well as the forward step energy'''\n",
    "# get the layer energy consumption into a ndarray\n",
    "def get_layer_energy(forward_layer_energy, model_path):\n",
    "\n",
    "    # get the layer names as a list\n",
    "    # find out the layer names from a batch\n",
    "    layer_data = forward_layer_energy.iloc[0][0]\n",
    "    # transfer the string to a dictionary\n",
    "    layer_data_dic = eval(layer_data)\n",
    "    # get the layer names\n",
    "    layer_names = layer_data_dic.keys()\n",
    "    # transfer the layer names to a list\n",
    "    layer_names = list(layer_names)\n",
    "    print('layer_names:', layer_names)\n",
    "\n",
    "    # print the shape of the forward_layer_energy\n",
    "    print('The shape of the forward_layer_energy:', forward_layer_energy.shape[0], forward_layer_energy.shape[1])\n",
    "\n",
    "    # create a ndarray to store the layer energy, the shape is (num_batches_total, num_layers)\n",
    "    layer_energy = np.zeros((forward_layer_energy.shape[0]* forward_layer_energy.shape[1], len(layer_names)))\n",
    "    print('The shape of the layer_energy:', layer_energy.shape)\n",
    "\n",
    "    # # create a ndarray to store the forward step energy, the shape is (num_batches_total, 3)\n",
    "    # # the first is the forward start time, the second is the forward end time, the third is the forward energy\n",
    "    # forward_energy = np.zeros((forward_layer_energy.shape[0]* forward_layer_energy.shape[1], 3))\n",
    "    # print('The shape of the layer_energy:', forward_energy.shape)\n",
    "\n",
    "    # iterate the column of the csv file, which is the epoch number\n",
    "    for i in range(forward_layer_energy.shape[1]):\n",
    "        # iterate the row of the csv file, which is the batch number\n",
    "        for j in range(forward_layer_energy.shape[0]):\n",
    "            batch_layer = forward_layer_energy.iloc[j][str(i)]\n",
    "            batch_layer = eval(batch_layer)\n",
    "            # print(f'The batch number is {j}, the epoch number is {i}')\n",
    "            # print(batch_layer)\n",
    "            # get the first dictionary value of the batch_layer\n",
    "            # forward_start_time = list(batch_layer.values())[0][0]\n",
    "            # get the last dictionary value of the batch_layer\n",
    "            # forward_end_time = list(batch_layer.values())[-1][1]\n",
    "            # forward_energy_batch = 0\n",
    "            for layer_name, layer_energy_value in batch_layer.items():\n",
    "                layer_idx = list(layer_names).index(layer_name)\n",
    "                row_num = i*forward_layer_energy.shape[0]+j\n",
    "                # print(f'The row number is {row_num}, the layer index is {layer_idx}')\n",
    "                layer_energy[row_num, layer_idx] = layer_energy_value[-1]\n",
    "                # forward_energy_batch += layer_energy_value[-1]\n",
    "            # forward_energy[i*forward_layer_energy.shape[0]+j, 0] = forward_start_time\n",
    "            # forward_energy[i*forward_layer_energy.shape[0]+j, 1] = forward_end_time\n",
    "            # forward_energy[i*forward_layer_energy.shape[0]+j, 2] = forward_energy_batch\n",
    "\n",
    "    # # transfer the shape of the forward_energy to (num_of_epochs, num_of_batches, 3)\n",
    "    # forward_energy = forward_energy.reshape((forward_layer_energy.shape[1], forward_layer_energy.shape[0], 3))\n",
    "    # print('The shape of the layer_energy:', forward_energy.shape)\n",
    "    \n",
    "    # # save the forward energy to a npy file, the path is model_path\n",
    "    # np.save(os.path.join(model_path, 'forward_energy.npy'), forward_energy)\n",
    "\n",
    "    \n",
    "    # return layer_names, layer_energy, forward_energy\n",
    "    return layer_names, layer_energy "
   ]
  },
  {
   "cell_type": "markdown",
   "metadata": {},
   "source": [
    "### preset the color and marker"
   ]
  },
  {
   "cell_type": "code",
   "execution_count": 79,
   "metadata": {},
   "outputs": [],
   "source": [
    "# Create a color map and marker map for the steps\n",
    "step_colors = {\n",
    "    'idle': 'gray',\n",
    "    'to_device': 'blue',\n",
    "    'forward': 'green',\n",
    "    'loss': 'red',\n",
    "    'backward': 'purple',\n",
    "    'optimize': 'orange'\n",
    "}\n",
    "step_markers = {\n",
    "    'idle': 'o',\n",
    "    'to_device': 's',\n",
    "    'forward': '^',\n",
    "    'loss': 'D',\n",
    "    'backward': 'x',\n",
    "    'optimize': 'P'\n",
    "}"
   ]
  },
  {
   "cell_type": "markdown",
   "metadata": {},
   "source": [
    "### Plot the energy data of each sample with scatter plot and line plot"
   ]
  },
  {
   "cell_type": "code",
   "execution_count": 80,
   "metadata": {},
   "outputs": [],
   "source": [
    "def plot_energy_data(labeled_energy_data):\n",
    "    # Plot the data with a larger figure size\n",
    "    fig, ax = plt.subplots(figsize=(12, 6))\n",
    "\n",
    "    # Plot each step with a different marker\n",
    "    for step in step_colors.keys():\n",
    "        step_data = labeled_energy_data[labeled_energy_data['step'] == step]\n",
    "        if step != 'idle':\n",
    "            ax.scatter(step_data['timestamp'], step_data['power_in_watts'], color=step_colors[step], label=step, s=5, marker=step_markers[step])\n",
    "\n",
    "    ax.set_xlabel('Timestamp')\n",
    "    ax.set_ylabel('Power in Watts')\n",
    "    ax.legend()\n",
    "    plt.show()\n",
    "\n",
    "    # Create a new figure and axis\n",
    "    fig, ax = plt.subplots(figsize=(12,6))\n",
    "\n",
    "    # Plot each step with a different color\n",
    "    for step in step_colors.keys():\n",
    "        step_data = labeled_energy_data[labeled_energy_data['step'] == step]\n",
    "        if step != 'idle':\n",
    "            ax.plot(step_data['timestamp'], step_data['power_in_watts'], color=step_colors[step], label=step)\n",
    "\n",
    "    ax.set_xlabel('Timestamp')\n",
    "    ax.set_ylabel('Power in Watts')\n",
    "    ax.legend()\n",
    "    plt.show()"
   ]
  },
  {
   "cell_type": "markdown",
   "metadata": {},
   "source": [
    "### Plot the energy data of a time period with scatter plot"
   ]
  },
  {
   "cell_type": "code",
   "execution_count": 81,
   "metadata": {},
   "outputs": [],
   "source": [
    "def plot_period_energy_data(labeled_energy_data):\n",
    "    # Create a new figure and axis\n",
    "    fig, ax = plt.subplots(figsize=(12,8))\n",
    "\n",
    "    labeled_energy_data_rows = labeled_energy_data[210000:219200]\n",
    "    # Plot each step with a different color, except 'optimize' and 'loss'\n",
    "    for step in step_colors.keys():\n",
    "        if step != 'idle':\n",
    "            if step not in ['optimize', 'loss']:\n",
    "                step_data = labeled_energy_data_rows[labeled_energy_data_rows['step'] == step]\n",
    "                ax.scatter(step_data['timestamp'], step_data['power_in_watts'], color=step_colors[step], label=step)\n",
    "\n",
    "    # Plot 'optimize' and 'loss' steps last to ensure they are on top\n",
    "    for step in ['optimize', 'loss']:\n",
    "        step_data = labeled_energy_data_rows[labeled_energy_data_rows['step'] == step]\n",
    "        ax.scatter(step_data['timestamp'], step_data['power_in_watts'], color=step_colors[step], label=step)\n",
    "\n",
    "    ax.set_xlabel('Timestamp')\n",
    "    ax.set_ylabel('Power in Watts')\n",
    "    ax.legend()\n",
    "    plt.show()"
   ]
  },
  {
   "cell_type": "markdown",
   "metadata": {},
   "source": [
    "### plot each step energy data in each batch"
   ]
  },
  {
   "cell_type": "code",
   "execution_count": 82,
   "metadata": {},
   "outputs": [],
   "source": [
    "def plot_batch_step_energy(to_device_energy, forward_energy, loss_energy, backward_energy, optimize_energy):\n",
    "    batch_info = ['to_device', 'forward', 'loss', 'backward', 'optimize']\n",
    "    energy_data_dict = {\n",
    "        'to_device': to_device_energy,\n",
    "        'forward': forward_energy,\n",
    "        'loss': loss_energy,\n",
    "        'backward': backward_energy,\n",
    "        'optimize': optimize_energy\n",
    "    }\n",
    "\n",
    "    # print out the shape of the energy_consumption\n",
    "    print('The shape of the to_device_energy:', to_device_energy.shape)\n",
    "    print('The shape of the forward_energy:', forward_energy.shape)\n",
    "    print('The shape of the loss_energy:', loss_energy.shape)\n",
    "    print('The shape of the backward_energy:', backward_energy.shape)\n",
    "    print('The shape of the optimize_energy:', optimize_energy.shape)\n",
    "\n",
    "    # plot the energy consumption for each step\n",
    "    fig, ax = plt.subplots(figsize=(10,6))\n",
    "    for step in batch_info:\n",
    "        energy_data = energy_data_dict[step]\n",
    "        energy_consumption = [energy_data[epoch][batch][2] for epoch in range(to_device_energy.shape[0]) for batch in range(to_device_energy.shape[1])]\n",
    "        ax.plot(range(len(energy_consumption)), energy_consumption, color=step_colors[step], label=step)\n",
    "\n",
    "    ax.set_xlabel('Batch Index(Total 5 Epochs)')\n",
    "    ax.set_ylabel('Energy Consumption per batch in Joules')\n",
    "    ax.legend()\n",
    "    plt.show()"
   ]
  },
  {
   "cell_type": "markdown",
   "metadata": {},
   "source": [
    "### plot each step energy data with all batch with the x axis set to each step"
   ]
  },
  {
   "cell_type": "code",
   "execution_count": 83,
   "metadata": {},
   "outputs": [],
   "source": [
    "def plot_step_energy_distribution(to_device_energy, forward_energy, loss_energy, backward_energy, optimize_energy):\n",
    "    batch_info = ['to_device', 'forward', 'loss', 'backward', 'optimize']\n",
    "    energy_data_dict = {\n",
    "        'to_device': to_device_energy,\n",
    "        'forward': forward_energy,\n",
    "        'loss': loss_energy,\n",
    "        'backward': backward_energy,\n",
    "        'optimize': optimize_energy\n",
    "    }\n",
    "\n",
    "    # plot the energy consumption for each step using dots\n",
    "    fig, ax = plt.subplots(figsize=(10, 6))\n",
    "\n",
    "    # Calculate the average energy consumption for each step\n",
    "    average_energy_consumption = {step: np.mean([energy_data[epoch][batch][2] for epoch in range(to_device_energy.shape[0]) for batch in range(to_device_energy.shape[1])]) for step, energy_data in energy_data_dict.items()}\n",
    "\n",
    "    # Plot each step's energy consumption as a dot on the corresponding x-axis\n",
    "    for i, step in enumerate(batch_info):\n",
    "        energy_data = energy_data_dict[step]\n",
    "        energy_consumption = [energy_data[epoch][batch][2] for epoch in range(to_device_energy.shape[0]) for batch in range(to_device_energy.shape[1])]\n",
    "        ax.scatter([i] * len(energy_consumption), energy_consumption, color=step_colors[step], label=step, marker='o')\n",
    "\n",
    "    # Set the x-axis labels to the batch_info\n",
    "    ax.set_xticks(range(len(batch_info)))\n",
    "    ax.set_xticklabels(batch_info)\n",
    "\n",
    "    ax.set_xlabel('Steps')\n",
    "    ax.set_ylabel('Energy Consumption per batch in Joules')\n",
    "    ax.legend()\n",
    "    plt.show()"
   ]
  },
  {
   "cell_type": "markdown",
   "metadata": {},
   "source": [
    "### plot each step mean and std energy data with all batch with the x axis set to each step"
   ]
  },
  {
   "cell_type": "code",
   "execution_count": 84,
   "metadata": {},
   "outputs": [],
   "source": [
    "def plot_step_energy_distribution_bar(to_device_energy, forward_energy, loss_energy, backward_energy, optimize_energy):\n",
    "    # Use a more subtle color palette\n",
    "    step_colors = {\n",
    "        'idle': '#999999',  # light gray\n",
    "        'to_device': '#1f77b4',  # muted blue\n",
    "        'forward': '#2ca02c',  # muted green\n",
    "        'loss': '#d62728',  # muted red\n",
    "        'backward': '#9467bd',  # muted purple\n",
    "        'optimize': '#ff7f0e'  # muted orange\n",
    "    }\n",
    "\n",
    "    energy_data_dict = {\n",
    "        'to_device': to_device_energy,\n",
    "        'forward': forward_energy,\n",
    "        'loss': loss_energy,\n",
    "        'backward': backward_energy,\n",
    "        'optimize': optimize_energy\n",
    "    }\n",
    "\n",
    "    # Calculate the mean and standard deviation for each step\n",
    "    mean_energy_consumption = {step: np.mean([energy_data[epoch][batch][2] for epoch in range(to_device_energy.shape[0]) for batch in range(to_device_energy.shape[1])]) for step, energy_data in energy_data_dict.items()}\n",
    "    std_energy_consumption = {step: np.std([energy_data[epoch][batch][2] for epoch in range(to_device_energy.shape[0]) for batch in range(to_device_energy.shape[1])]) for step, energy_data in energy_data_dict.items()}\n",
    "\n",
    "    # Create a new figure and axis\n",
    "    fig, ax = plt.subplots(figsize=(10, 6))\n",
    "\n",
    "    # Plot the mean energy consumption with error bars representing the standard deviation\n",
    "    steps = list(mean_energy_consumption.keys())\n",
    "    means = list(mean_energy_consumption.values())\n",
    "    stds = list(std_energy_consumption.values())\n",
    "\n",
    "    ax.bar(steps, means, yerr=stds, capsize=5, color=[step_colors[step] for step in steps])\n",
    "\n",
    "    # Set the x-axis and y-axis labels and title\n",
    "    ax.set_xlabel('Steps', fontsize=14)\n",
    "    ax.set_ylabel('Energy Consumption per batch in Joules', fontsize=14)\n",
    "    ax.set_title('Mean and Standard Deviation of Energy Consumption for Each Step in 1 Batch', fontsize=16)\n",
    "\n",
    "    # Improve the layout and aesthetics\n",
    "    plt.xticks(fontsize=12)\n",
    "    plt.yticks(fontsize=12)\n",
    "    plt.grid(axis='y', linestyle='--', alpha=0.7)\n",
    "    plt.tight_layout()\n",
    "\n",
    "    # Show the plot\n",
    "    plt.show()"
   ]
  },
  {
   "cell_type": "markdown",
   "metadata": {},
   "source": [
    "### plot each step time consumption with all batch with the x axis set to each batch"
   ]
  },
  {
   "cell_type": "code",
   "execution_count": 85,
   "metadata": {},
   "outputs": [],
   "source": [
    "def plot_step_time_distribution(to_device_energy, forward_energy, loss_energy, backward_energy, optimize_energy):\n",
    "    batch_info = ['to_device', 'forward', 'loss', 'backward', 'optimize']\n",
    "    energy_data_dict = {\n",
    "        'to_device': to_device_energy,\n",
    "        'forward': forward_energy,\n",
    "        'loss': loss_energy,\n",
    "        'backward': backward_energy,\n",
    "        'optimize': optimize_energy\n",
    "    }\n",
    "\n",
    "    # Create a figure\n",
    "    fig, ax = plt.subplots(figsize=(12, 6))\n",
    "\n",
    "    # Plot time duration for each step\n",
    "    for step in batch_info:\n",
    "        energy_data = energy_data_dict[step]\n",
    "        # Calculate time duration (end_time - start_time) for each batch\n",
    "        time_durations = [energy_data[epoch][batch][1] - energy_data[epoch][batch][0] \n",
    "                         for epoch in range(energy_data.shape[0]) \n",
    "                         for batch in range(energy_data.shape[1])]\n",
    "        \n",
    "        # Plot with corresponding color from step_colors\n",
    "        ax.plot(range(len(time_durations)), time_durations, \n",
    "                color=step_colors[step], label=step)\n",
    "\n",
    "    # set the y-axis from 0 to 0.1\n",
    "    ax.set_ylim(0, 0.07)\n",
    "\n",
    "    ax.set_xlabel('Batch Index (Total 5 Epochs)')\n",
    "    ax.set_ylabel('Time Duration (seconds)')\n",
    "    ax.set_title('Time Consumption per Step across Batches')\n",
    "    ax.legend()\n",
    "    ax.grid(True, linestyle='--', alpha=0.7)\n",
    "    plt.show()"
   ]
  },
  {
   "cell_type": "markdown",
   "metadata": {},
   "source": [
    "### plot each step time consumption with all batch with the x axis set to each step"
   ]
  },
  {
   "cell_type": "code",
   "execution_count": 86,
   "metadata": {},
   "outputs": [],
   "source": [
    "def plot_step_time_distribution_box(to_device_energy, forward_energy, loss_energy, backward_energy, optimize_energy):\n",
    "    # Create a dictionary to store time durations for each step\n",
    "    step_times = {\n",
    "        'to_device': [],\n",
    "        'forward': [],\n",
    "        'loss': [],\n",
    "        'backward': [],\n",
    "        'optimize': []\n",
    "    }\n",
    "    \n",
    "    # Calculate time durations for each step\n",
    "    energy_data_dict = {\n",
    "        'to_device': to_device_energy,\n",
    "        'forward': forward_energy,\n",
    "        'loss': loss_energy,\n",
    "        'backward': backward_energy,\n",
    "        'optimize': optimize_energy\n",
    "    }\n",
    "    \n",
    "    for step, energy_data in energy_data_dict.items():\n",
    "        time_durations = [energy_data[epoch][batch][1] - energy_data[epoch][batch][0] \n",
    "                         for epoch in range(energy_data.shape[0]) \n",
    "                         for batch in range(energy_data.shape[1])]\n",
    "        step_times[step] = time_durations\n",
    "\n",
    "    # Create figure\n",
    "    plt.figure(figsize=(12, 6))\n",
    "    \n",
    "    # Create scatter plot for each step\n",
    "    for i, (step, times) in enumerate(step_times.items(), 1):\n",
    "        plt.scatter([i] * len(times), times, color=step_colors[step], \n",
    "                   alpha=0.6, label=step, marker=step_markers[step])\n",
    "\n",
    "    # set the y-axis from 0 to 0.1\n",
    "    plt.ylim(0, 0.07)\n",
    "\n",
    "    # Customize plot\n",
    "    plt.xticks(range(1, len(step_times) + 1), list(step_times.keys()), rotation=45)\n",
    "    plt.ylabel('Time Duration (seconds)')\n",
    "    plt.title('Distribution of Time Consumption per Step')\n",
    "    plt.grid(True, linestyle='--', alpha=0.7)\n",
    "    plt.legend()\n",
    "    \n",
    "    # Adjust layout to prevent label cutoff\n",
    "    plt.tight_layout()\n",
    "    plt.show()\n"
   ]
  },
  {
   "cell_type": "markdown",
   "metadata": {},
   "source": [
    "### plot each step total energy data with all batch with the x axis set to each step in each epoch"
   ]
  },
  {
   "cell_type": "code",
   "execution_count": 87,
   "metadata": {},
   "outputs": [],
   "source": [
    "# calculate the energy consumption for each step in each epoch\n",
    "def cal_energy_epoch(to_device_energy, forward_energy, loss_energy, backward_energy, optimize_energy):\n",
    "    energy_step_epoch = np.zeros((to_device_energy.shape[0], 5))\n",
    "    for epoch in range(to_device_energy.shape[0]):\n",
    "        for batch in range(to_device_energy.shape[1]):\n",
    "            energy_step_epoch[epoch][0] += to_device_energy[epoch][batch][2]\n",
    "            energy_step_epoch[epoch][1] += forward_energy[epoch][batch][2]\n",
    "            energy_step_epoch[epoch][2] += loss_energy[epoch][batch][2]\n",
    "            energy_step_epoch[epoch][3] += backward_energy[epoch][batch][2]\n",
    "            energy_step_epoch[epoch][4] += optimize_energy[epoch][batch][2]\n",
    "    return energy_step_epoch\n",
    "\n",
    "def plot_epoch_step_energy(to_device_energy, forward_energy, loss_energy, backward_energy, optimize_energy):\n",
    "    energy_step_epoch = cal_energy_epoch(to_device_energy, forward_energy, loss_energy, backward_energy, optimize_energy)\n",
    "    print(energy_step_epoch)\n",
    "    step_info = ['to_device', 'forward', 'loss', 'backward', 'optimize']\n",
    "    num_epochs = energy_step_epoch.shape[0]\n",
    "    bar_width = 0.15  # Width of each bar\n",
    "\n",
    "    # Use a color palette for epochs\n",
    "    epoch_colors = plt.cm.viridis(np.linspace(0, 1, num_epochs))\n",
    "\n",
    "    # Create a new figure and axis\n",
    "    fig, ax = plt.subplots(figsize=(12, 6))\n",
    "\n",
    "    # Plot the energy consumption for each step in each epoch using bar chart\n",
    "    for epoch in range(num_epochs):\n",
    "        # Calculate the position of each bar\n",
    "        bar_positions = np.arange(len(step_info)) + epoch * bar_width\n",
    "        ax.bar(bar_positions, energy_step_epoch[epoch], width=bar_width, label=f'Epoch {epoch+1}', color=epoch_colors[epoch])\n",
    "\n",
    "    # Set the x-axis labels to the step_info\n",
    "    ax.set_xticks(np.arange(len(step_info)) + (num_epochs - 1) * bar_width / 2)\n",
    "    ax.set_xticklabels(step_info)\n",
    "\n",
    "    ax.set_xlabel('Steps')\n",
    "    ax.set_ylabel('Total Energy Consumption in Joules')\n",
    "    ax.legend()\n",
    "    plt.show()\n",
    "\n",
    "    # Calculate mean and std across epochs for each step\n",
    "    means = np.mean(energy_step_epoch, axis=0)\n",
    "    stds = np.std(energy_step_epoch, axis=0)\n",
    "\n",
    "    # Create new figure for mean/std plot\n",
    "    fig, ax = plt.subplots(figsize=(10, 6))\n",
    "\n",
    "    # Plot bars with error bars\n",
    "    ax.bar(step_info, means, yerr=stds, capsize=5, color=[step_colors[step] for step in step_info])\n",
    "\n",
    "    ax.set_xlabel('Steps', fontsize=12)\n",
    "    ax.set_ylabel('Average Energy Consumption (Joules)', fontsize=12)\n",
    "    ax.set_title('Mean and Standard Deviation of Energy Consumption Across Epochs', fontsize=14)\n",
    "\n",
    "    plt.xticks(rotation=45)\n",
    "    plt.grid(axis='y', linestyle='--', alpha=0.7)\n",
    "    plt.tight_layout()\n",
    "    plt.show()\n"
   ]
  },
  {
   "cell_type": "markdown",
   "metadata": {},
   "source": [
    "### plot each step total time data with all batch with the x axis set to each step in each epoch"
   ]
  },
  {
   "cell_type": "code",
   "execution_count": 88,
   "metadata": {},
   "outputs": [],
   "source": [
    "def cal_time_epoch(to_device_energy, forward_energy, loss_energy, backward_energy, optimize_energy):\n",
    "    time_step_epoch = np.zeros((to_device_energy.shape[0], 5))\n",
    "    for epoch in range(to_device_energy.shape[0]):\n",
    "        for batch in range(to_device_energy.shape[1]):\n",
    "            # Calculate duration for each step (end_time - start_time)\n",
    "            time_step_epoch[epoch][0] += to_device_energy[epoch][batch][1] - to_device_energy[epoch][batch][0]\n",
    "            time_step_epoch[epoch][1] += forward_energy[epoch][batch][1] - forward_energy[epoch][batch][0]\n",
    "            time_step_epoch[epoch][2] += loss_energy[epoch][batch][1] - loss_energy[epoch][batch][0]\n",
    "            time_step_epoch[epoch][3] += backward_energy[epoch][batch][1] - backward_energy[epoch][batch][0]\n",
    "            time_step_epoch[epoch][4] += optimize_energy[epoch][batch][1] - optimize_energy[epoch][batch][0]\n",
    "    return time_step_epoch\n",
    "\n",
    "def plot_epoch_step_time(to_device_energy, forward_energy, loss_energy, backward_energy, optimize_energy):\n",
    "    time_step_epoch = cal_time_epoch(to_device_energy, forward_energy, loss_energy, backward_energy, optimize_energy)\n",
    "    print(time_step_epoch)\n",
    "    step_info = ['to_device', 'forward', 'loss', 'backward', 'optimize']\n",
    "    num_epochs = time_step_epoch.shape[0]\n",
    "    bar_width = 0.15\n",
    "\n",
    "    # Use a color palette for epochs\n",
    "    epoch_colors = plt.cm.viridis(np.linspace(0, 1, num_epochs))\n",
    "\n",
    "    # Create a new figure and axis\n",
    "    fig, ax = plt.subplots(figsize=(12, 6))\n",
    "\n",
    "    # Plot the time consumption for each step in each epoch using bar chart\n",
    "    for epoch in range(num_epochs):\n",
    "        bar_positions = np.arange(len(step_info)) + epoch * bar_width\n",
    "        ax.bar(bar_positions, time_step_epoch[epoch], width=bar_width, label=f'Epoch {epoch+1}', color=epoch_colors[epoch])\n",
    "\n",
    "    ax.set_xticks(np.arange(len(step_info)) + (num_epochs - 1) * bar_width / 2)\n",
    "    ax.set_xticklabels(step_info)\n",
    "\n",
    "    ax.set_xlabel('Steps')\n",
    "    ax.set_ylabel('Total Time Consumption in Seconds')\n",
    "    ax.legend()\n",
    "    plt.show()\n",
    "\n",
    "    # Calculate mean and std across epochs for each step\n",
    "    means = np.mean(time_step_epoch, axis=0)\n",
    "    stds = np.std(time_step_epoch, axis=0)\n",
    "\n",
    "    # Create new figure for mean/std plot\n",
    "    fig, ax = plt.subplots(figsize=(10, 6))\n",
    "\n",
    "    # Plot bars with error bars\n",
    "    ax.bar(step_info, means, yerr=stds, capsize=5, color=[step_colors[step] for step in step_info])\n",
    "\n",
    "    ax.set_xlabel('Steps', fontsize=12)\n",
    "    ax.set_ylabel('Average Time Consumption (Seconds)', fontsize=12)\n",
    "    ax.set_title('Mean and Standard Deviation of Time Consumption Across Epochs', fontsize=14)\n",
    "\n",
    "    plt.xticks(rotation=45)\n",
    "    plt.grid(axis='y', linestyle='--', alpha=0.7)\n",
    "    plt.tight_layout()\n",
    "    plt.show()\n"
   ]
  },
  {
   "cell_type": "markdown",
   "metadata": {},
   "source": [
    "### plot each layer energy consumption of each batch"
   ]
  },
  {
   "cell_type": "code",
   "execution_count": 89,
   "metadata": {},
   "outputs": [],
   "source": [
    "def plot_layer_energy_batch(layer_names, layer_energy):\n",
    "    fig, ax = plt.subplots(figsize=(20, 20))\n",
    "    for i in range(layer_energy.shape[1]):\n",
    "        ax.plot(range(layer_energy.shape[0]), layer_energy[:, i], label=layer_names[i])\n",
    "    ax.set_ylim(0, 1)\n",
    "    ax.set_xlabel('Batch Index', fontsize=12)\n",
    "    ax.set_ylabel('Energy Consumption per Layer in Joules', fontsize=12)\n",
    "    ax.set_title('Energy Consumption per Layer in each Batch', fontsize=14)\n",
    "    ax.legend(fontsize=12, bbox_to_anchor=(1.05, 1), loc='upper left')\n",
    "    plt.tight_layout()\n",
    "    plt.show()"
   ]
  },
  {
   "cell_type": "markdown",
   "metadata": {},
   "source": [
    "### plot the average and std of energy consumption of each layer of all batch"
   ]
  },
  {
   "cell_type": "code",
   "execution_count": 90,
   "metadata": {},
   "outputs": [],
   "source": [
    "def plot_layer_energy_batch_avgstd(layer_names, layer_energy):\n",
    "    plt.style.use('seaborn-v0_8-paper')\n",
    "    # Set all fonts to serif\n",
    "    plt.rcParams['font.family'] = 'serif'\n",
    "    plt.rcParams['font.serif'] = ['Times New Roman']  # Specify Times New Roman as the serif font\n",
    "    plt.rcParams['font.size'] = 25\n",
    "    plt.rcParams['axes.labelsize'] = 25 \n",
    "    plt.rcParams['axes.titlesize'] = 30\n",
    "    plt.rcParams['legend.fontsize'] = 18\n",
    "    plt.rcParams['xtick.labelsize'] = 25\n",
    "    plt.rcParams['ytick.labelsize'] = 25\n",
    "    # Calculate mean and std for each layer\n",
    "    layer_means = np.mean(layer_energy, axis=0)\n",
    "    layer_stds = np.std(layer_energy, axis=0)\n",
    "\n",
    "    fig, ax = plt.subplots(figsize=(24, 12))\n",
    "    \n",
    "    # Use layer indices instead of layer names for x-axis\n",
    "    # Multiply indices by 1.5 to create more space between bars\n",
    "    layer_indices = np.arange(len(layer_names)) * 1.5\n",
    "    ax.bar(layer_indices, layer_means, yerr=layer_stds, capsize=5, color='skyblue', width=0.8)\n",
    "\n",
    "    ax.set_xlabel('Layer Index', fontsize=35, weight='bold')\n",
    "    ax.set_ylabel('Average Energy Consumption in Joules', fontsize=35, weight='bold')\n",
    "    ax.set_title('Mean and Standard Deviation of Energy Consumption for Each Layer in ResNet18', fontsize=40, weight='bold')\n",
    "\n",
    "    plt.xticks(layer_indices, [str(i) for i in range(len(layer_names))], fontsize=20, rotation=0)\n",
    "    plt.grid(axis='y', linestyle='--', alpha=0.7)\n",
    "    \n",
    "    plt.tight_layout()\n",
    "    plt.savefig('layer_energy_batch_avgstd.pdf')\n",
    "    plt.show()"
   ]
  },
  {
   "cell_type": "markdown",
   "metadata": {},
   "source": [
    "### plot with different model"
   ]
  },
  {
   "cell_type": "code",
   "execution_count": 91,
   "metadata": {},
   "outputs": [],
   "source": [
    "# def plot_model(modelname, model_data_folder_list):\n",
    "#     model_data_path = [model_data_folder_list[i] for i in range(len(model_data_folder_list)) if f'{modelname}' in model_data_folder_list[i]][0]\n",
    "#     energy_data, labeled_energy_data, forward_layer_energy, \\\n",
    "#             to_device, loss, backward, optimize, \\\n",
    "#             to_device_energy, loss_energy, backward_energy, optimize_energy = load_data(model_data_path)\n",
    "    \n",
    "#     layer_names, layer_energy, forward_energy = get_layer_energy(forward_layer_energy)\n",
    "\n",
    "#     plot_energy_data(labeled_energy_data)\n",
    "#     plot_period_energy_data(labeled_energy_data)\n",
    "#     plot_batch_step_energy(to_device_energy, forward_energy, loss_energy, backward_energy, optimize_energy)\n",
    "#     plot_step_energy_distribution(to_device_energy, forward_energy, loss_energy, backward_energy, optimize_energy)\n",
    "#     plot_step_energy_distribution_bar(to_device_energy, forward_energy, loss_energy, backward_energy, optimize_energy)\n",
    "#     plot_epoch_step_energy(to_device_energy, forward_energy, loss_energy, backward_energy, optimize_energy)\n",
    "#     plot_step_time_distribution(to_device_energy, forward_energy, loss_energy, backward_energy, optimize_energy)\n",
    "#     plot_step_time_distribution_box(to_device_energy, forward_energy, loss_energy, backward_energy, optimize_energy)\n",
    "#     plot_epoch_step_time(to_device_energy, forward_energy, loss_energy, backward_energy, optimize_energy)"
   ]
  },
  {
   "cell_type": "markdown",
   "metadata": {},
   "source": [
    "## find the data path"
   ]
  },
  {
   "cell_type": "code",
   "execution_count": 92,
   "metadata": {},
   "outputs": [
    {
     "name": "stdout",
     "output_type": "stream",
     "text": [
      "['googlenet_origin', 'resnet50', 'resnet34', 'mobilenetv2', '.DS_Store', 'vgg13', 'googlenet_mod7', 'googlenet_mod9', 'googlenet_mod8', 'googlenet_mod1', 'googlenet_mod6', 'resnet18', 'mobilenetv1', 'vgg16', 'vgg11', 'googlenet_mod3', 'googlenet_mod4', 'googlenet_mod5', 'googlenet_mod2', 'alexnet']\n"
     ]
    }
   ],
   "source": [
    "current_path = os.getcwd()\n",
    "data_path = os.path.join(current_path, 'ModelsData')\n",
    "data_folders = os.listdir(data_path)\n",
    "print(data_folders)"
   ]
  },
  {
   "cell_type": "markdown",
   "metadata": {},
   "source": [
    "## load all the model data"
   ]
  },
  {
   "cell_type": "code",
   "execution_count": 93,
   "metadata": {},
   "outputs": [],
   "source": [
    "# set the epoch number, batch size and the round number as well as the sampling rate\n",
    "epoch = 5\n",
    "batch_size = 128\n",
    "round_num = 0\n",
    "sampling_rate = 2"
   ]
  },
  {
   "cell_type": "code",
   "execution_count": 94,
   "metadata": {},
   "outputs": [],
   "source": [
    "# # for all the folder names in the data folder, generate the path to the folder\n",
    "# # and print the path\n",
    "# folder_name = f'E{epoch}_B{batch_size}_R{round_num}_SR{sampling_rate}_layer'\n",
    "# print(folder_name)\n",
    "\n",
    "# data_dir = 'fashion_mnist'\n",
    "# model_data_folder_list = []\n",
    "# for folder in data_folders:\n",
    "#     folder_path = os.path.join(data_path, folder)\n",
    "#     folder_path = os.path.join(folder_path, folder_name)\n",
    "#     folder_path = os.path.join(folder_path, data_dir)\n",
    "#     print(folder_path)\n",
    "#     model_data_folder_list.append(folder_path)\n",
    "\n",
    "# print(model_data_folder_list)"
   ]
  },
  {
   "cell_type": "code",
   "execution_count": 95,
   "metadata": {},
   "outputs": [
    {
     "name": "stdout",
     "output_type": "stream",
     "text": [
      "E5_B128_R0_SR2_layer\n",
      "Index of 'resnet18': 11\n",
      "/Users/dtjgp/Projects/GreenAI/3080/ModelsData/resnet18/E5_B128_R0_SR2_layer/fashion_mnist\n"
     ]
    }
   ],
   "source": [
    "# for all the folder names in the data folder, generate the path to the folder\n",
    "# and print the path\n",
    "folder_name = f'E{epoch}_B{batch_size}_R{round_num}_SR{sampling_rate}_layer'\n",
    "print(folder_name)\n",
    "\n",
    "data_dir = 'fashion_mnist'\n",
    "resnet18_index = data_folders.index('resnet18')\n",
    "print(f\"Index of 'resnet18': {resnet18_index}\")\n",
    "\n",
    "folder = data_folders[resnet18_index]\n",
    "folder_path = os.path.join(data_path, folder)\n",
    "folder_path = os.path.join(folder_path, folder_name)\n",
    "folder_path = os.path.join(folder_path, data_dir)\n",
    "print(folder_path)\n",
    "model_data_folder_list = []\n",
    "# for folder in data_folders:\n",
    "#     folder_path = os.path.join(data_path, folder)\n",
    "#     folder_path = os.path.join(folder_path, folder_name)\n",
    "#     folder_path = os.path.join(folder_path, data_dir)\n",
    "#     print(folder_path)\n",
    "#     model_data_folder_list.append(folder_path)\n",
    "\n",
    "# model_data_folder_list.append(folder_path)\n",
    "# print(model_data_folder_list)\n"
   ]
  },
  {
   "cell_type": "code",
   "execution_count": 96,
   "metadata": {},
   "outputs": [
    {
     "name": "stderr",
     "output_type": "stream",
     "text": [
      "/var/folders/d9/50r202r14gbc_shcxg960xrh0000gn/T/ipykernel_36573/3795421732.py:3: DtypeWarning: Columns (0,1) have mixed types. Specify dtype option on import or set low_memory=False.\n",
      "  energy_data = pd.read_csv(os.path.join(model_path, 'energy_consumption_file.csv'))\n"
     ]
    },
    {
     "name": "stdout",
     "output_type": "stream",
     "text": [
      "(5, 469, 3)\n",
      "layer_names: ['Sequential_0_Conv2d', 'Sequential_0_BatchNorm2d', 'Sequential_0_ReLU', 'Sequential_0_MaxPool2d', 'Sequential_1_Residual18_0_conv1', 'Sequential_1_Residual18_0_bn1', 'Sequential_1_Residual18_0_relu1', 'Sequential_1_Residual18_0_conv2', 'Sequential_1_Residual18_0_bn2', 'Sequential_1_Residual18_0_residual_add_relu2', 'Sequential_1_Residual18_1_conv1', 'Sequential_1_Residual18_1_bn1', 'Sequential_1_Residual18_1_relu1', 'Sequential_1_Residual18_1_conv2', 'Sequential_1_Residual18_1_bn2', 'Sequential_1_Residual18_1_residual_add_relu2', 'Sequential_2_Residual18_0_conv1', 'Sequential_2_Residual18_0_bn1', 'Sequential_2_Residual18_0_relu1', 'Sequential_2_Residual18_0_conv2', 'Sequential_2_Residual18_0_bn2', 'Sequential_2_Residual18_0_conv3', 'Sequential_2_Residual18_0_residual_add_relu2', 'Sequential_2_Residual18_1_conv1', 'Sequential_2_Residual18_1_bn1', 'Sequential_2_Residual18_1_relu1', 'Sequential_2_Residual18_1_conv2', 'Sequential_2_Residual18_1_bn2', 'Sequential_2_Residual18_1_residual_add_relu2', 'Sequential_3_Residual18_0_conv1', 'Sequential_3_Residual18_0_bn1', 'Sequential_3_Residual18_0_relu1', 'Sequential_3_Residual18_0_conv2', 'Sequential_3_Residual18_0_bn2', 'Sequential_3_Residual18_0_conv3', 'Sequential_3_Residual18_0_residual_add_relu2', 'Sequential_3_Residual18_1_conv1', 'Sequential_3_Residual18_1_bn1', 'Sequential_3_Residual18_1_relu1', 'Sequential_3_Residual18_1_conv2', 'Sequential_3_Residual18_1_bn2', 'Sequential_3_Residual18_1_residual_add_relu2', 'Sequential_4_Residual18_0_conv1', 'Sequential_4_Residual18_0_bn1', 'Sequential_4_Residual18_0_relu1', 'Sequential_4_Residual18_0_conv2', 'Sequential_4_Residual18_0_bn2', 'Sequential_4_Residual18_0_conv3', 'Sequential_4_Residual18_0_residual_add_relu2', 'Sequential_4_Residual18_1_conv1', 'Sequential_4_Residual18_1_bn1', 'Sequential_4_Residual18_1_relu1', 'Sequential_4_Residual18_1_conv2', 'Sequential_4_Residual18_1_bn2', 'Sequential_4_Residual18_1_residual_add_relu2', 'AdaptiveAvgPool2d_5', 'Flatten_5', 'Linear_5']\n",
      "The shape of the forward_layer_energy: 469 5\n",
      "The shape of the layer_energy: (2345, 58)\n"
     ]
    },
    {
     "data": {
      "image/png": "[encoded data removed]",
      "text/plain": [
       "<Figure size 2400x1200 with 1 Axes>"
      ]
     },
     "metadata": {},
     "output_type": "display_data"
    }
   ],
   "source": [
    "energy_data, labeled_energy_data, forward_layer_energy, \\\n",
    "        to_device, loss, backward, optimize, \\\n",
    "        to_device_energy, forward_energy, loss_energy, backward_energy, optimize_energy = load_data(folder_path)\n",
    "\n",
    "# print('forward_layer_energy:', list(eval(forward_layer_energy.iloc[0][0]).keys()))\n",
    "print(to_device_energy.shape)\n",
    "\n",
    "layer_names, layer_energy = get_layer_energy(forward_layer_energy, folder_path)\n",
    "\n",
    "# plot_energy_data(labeled_energy_data)\n",
    "# plot_period_energy_data(labeled_energy_data)\n",
    "# plot_batch_step_energy(to_device_energy, forward_energy, loss_energy, backward_energy, optimize_energy)\n",
    "# plot_step_energy_distribution(to_device_energy, forward_energy, loss_energy, backward_energy, optimize_energy)\n",
    "# plot_step_energy_distribution_bar(to_device_energy, forward_energy, loss_energy, backward_energy, optimize_energy)\n",
    "# plot_epoch_step_energy(to_device_energy, forward_energy, loss_energy, backward_energy, optimize_energy)\n",
    "# plot_step_time_distribution(to_device_energy, forward_energy, loss_energy, backward_energy, optimize_energy)\n",
    "# plot_step_time_distribution_box(to_device_energy, forward_energy, loss_energy, backward_energy, optimize_energy)\n",
    "# plot_epoch_step_time(to_device_energy, forward_energy, loss_energy, backward_energy, optimize_energy)\n",
    "# plot_layer_energy_batch(layer_names, layer_energy)\n",
    "plot_layer_energy_batch_avgstd(layer_names, layer_energy)"
   ]
  },
  {
   "cell_type": "code",
   "execution_count": null,
   "metadata": {},
   "outputs": [],
   "source": []
  }
 ],
 "metadata": {
  "kernelspec": {
   "display_name": "GreenAI",
   "language": "python",
   "name": "greenai"
  },
  "language_info": {
   "codemirror_mode": {
    "name": "ipython",
    "version": 3
   },
   "file_extension": ".py",
   "mimetype": "text/x-python",
   "name": "python",
   "nbconvert_exporter": "python",
   "pygments_lexer": "ipython3",
   "version": "3.10.15"
  }
 },
 "nbformat": 4,
 "nbformat_minor": 2
}
