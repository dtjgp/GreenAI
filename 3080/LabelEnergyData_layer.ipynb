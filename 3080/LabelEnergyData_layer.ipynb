{
 "cells": [
  {
   "cell_type": "markdown",
   "metadata": {},
   "source": [
    "# This code is to get the labeled_energy_data_layer csv file of each model"
   ]
  },
  {
   "cell_type": "markdown",
   "metadata": {},
   "source": [
    "## Import the lib"
   ]
  },
  {
   "cell_type": "code",
   "execution_count": 1,
   "metadata": {},
   "outputs": [],
   "source": [
    "import pandas as pd\n",
    "import numpy as np\n",
    "import matplotlib.pyplot as plt\n",
    "import os\n",
    "import seaborn as sns\n",
    "import numba as nb"
   ]
  },
  {
   "cell_type": "markdown",
   "metadata": {},
   "source": [
    "## load function"
   ]
  },
  {
   "cell_type": "markdown",
   "metadata": {},
   "source": [
    "### interpolate function"
   ]
  },
  {
   "cell_type": "code",
   "execution_count": 2,
   "metadata": {},
   "outputs": [],
   "source": [
    "@nb.jit(nopython=True)\n",
    "def interpolate_point(times, powers, target_time):\n",
    "    n = len(times)\n",
    "    if n == 0:\n",
    "        return 0.0\n",
    "    if target_time <= times[0]:\n",
    "        return powers[0]\n",
    "    if target_time >= times[-1]:\n",
    "        return powers[-1]\n",
    "    \n",
    "    # Binary search\n",
    "    left, right = 0, n-1\n",
    "    while left <= right:\n",
    "        mid = (left + right) // 2\n",
    "        if times[mid] == target_time:\n",
    "            return powers[mid]\n",
    "        elif times[mid] < target_time:\n",
    "            left = mid + 1\n",
    "        else:\n",
    "            right = mid - 1\n",
    "            \n",
    "    # Linear interpolation\n",
    "    pos = left\n",
    "    t1, p1 = times[pos-1], powers[pos-1]\n",
    "    t2, p2 = times[pos], powers[pos]\n",
    "    ratio = (target_time - t1) / (t2 - t1)\n",
    "    return p1 + (p2 - p1) * ratio\n",
    "\n",
    "@nb.jit(nopython=True)\n",
    "def integrate_power_over_interval(samples, start_time, end_time):\n",
    "    times = samples[:, 0]\n",
    "    powers = samples[:, 1]\n",
    "    \n",
    "    # Get start and end powers through interpolation\n",
    "    start_power = interpolate_point(times, powers, start_time)\n",
    "    end_power = interpolate_point(times, powers, end_time)\n",
    "    \n",
    "    # Filter points within interval\n",
    "    mask = (times >= start_time) & (times <= end_time)\n",
    "    interval_times = times[mask]\n",
    "    interval_powers = powers[mask]\n",
    "    \n",
    "    # Create array including boundary points\n",
    "    n_points = len(interval_times)\n",
    "    full_times = np.zeros(n_points + 2)\n",
    "    full_powers = np.zeros(n_points + 2)\n",
    "    \n",
    "    # Add boundary points\n",
    "    full_times[0] = start_time\n",
    "    full_powers[0] = start_power\n",
    "    full_times[-1] = end_time\n",
    "    full_powers[-1] = end_power\n",
    "    \n",
    "    # Add interior points\n",
    "    if n_points > 0:\n",
    "        full_times[1:-1] = interval_times\n",
    "        full_powers[1:-1] = interval_powers\n",
    "    \n",
    "    # Integration using trapezoidal rule\n",
    "    total_energy = 0.0\n",
    "    for i in range(len(full_times)-1):\n",
    "        dt = full_times[i+1] - full_times[i]\n",
    "        avg_p = (full_powers[i] + full_powers[i+1]) / 2.0\n",
    "        total_energy += avg_p * dt\n",
    "        \n",
    "    return total_energy\n"
   ]
  },
  {
   "cell_type": "markdown",
   "metadata": {},
   "source": [
    "### label energy function"
   ]
  },
  {
   "cell_type": "code",
   "execution_count": 3,
   "metadata": {},
   "outputs": [],
   "source": [
    "def label_energy_consumption(energy_data, to_device, forward, loss, backward, optimize):\n",
    "    # Create a copy of the energy_data dataframe to avoid modifying the original\n",
    "    labeled_energy_data = energy_data.copy()\n",
    "    \n",
    "    # Initialize a new column for the step labels\n",
    "    labeled_energy_data['step'] = 'idle'\n",
    "    \n",
    "    # Define a helper function to label the steps\n",
    "    def label_steps(energy_data, step_energy, step_name):\n",
    "        for epoch in range(step_energy.shape[0]):\n",
    "            for batch in range(step_energy.shape[1]):\n",
    "                start_time = step_energy[epoch][batch][0]\n",
    "                end_time = step_energy[epoch][batch][1]\n",
    "                mask = (energy_data['timestamp'] >= start_time) & (energy_data['timestamp'] <= end_time)\n",
    "                labeled_energy_data.loc[mask, 'step'] = step_name\n",
    "    \n",
    "    # Label each step\n",
    "    label_steps(labeled_energy_data, to_device, 'to_device')\n",
    "    label_steps(labeled_energy_data, forward, 'forward')\n",
    "    label_steps(labeled_energy_data, loss, 'loss')\n",
    "    label_steps(labeled_energy_data, backward, 'backward')\n",
    "    label_steps(labeled_energy_data, optimize, 'optimize')\n",
    "    \n",
    "    return labeled_energy_data"
   ]
  },
  {
   "cell_type": "code",
   "execution_count": 5,
   "metadata": {},
   "outputs": [],
   "source": [
    "def label_energy_consumption_layer(energy_data, to_device, loss, backward, optimize, layer_energy):\n",
    "    # Create a copy of the energy_data dataframe to avoid modifying the original\n",
    "    labeled_energy_data_layer = energy_data.copy()\n",
    "    \n",
    "    # Initialize a new column for the step labels\n",
    "    labeled_energy_data_layer['step'] = 'idle'\n",
    "    \n",
    "    # Define a helper function to label the steps\n",
    "    def label_steps(energy_data, step_energy, step_name):\n",
    "        for epoch in range(step_energy.shape[0]):\n",
    "            for batch in range(step_energy.shape[1]):\n",
    "                start_time = step_energy[epoch][batch][0]\n",
    "                end_time = step_energy[epoch][batch][1]\n",
    "                # print(type(start_time))\n",
    "                # print(type(energy_data['timestamp']))\n",
    "                mask = (energy_data['timestamp'] >= start_time) & (energy_data['timestamp'] <= end_time)\n",
    "                labeled_energy_data_layer.loc[mask, 'step'] = step_name\n",
    "\n",
    "    # define a helper function to label the layers\n",
    "    def label_layers(energy_data, layer_energy):\n",
    "        for i in range(layer_energy.shape[1]):\n",
    "            for j in range(layer_energy.shape[0]):\n",
    "                # each row in layer_energy is a batch, and in each batch is a dictionary with the layer names and the corresponding time\n",
    "                layer_batch = layer_energy.iloc[j][str(i)]\n",
    "                # transfer the layer_batch from string to dictionary\n",
    "                layer_batch = eval(layer_batch)\n",
    "                # iterate through the dictionary to get the start and end time of each layer\n",
    "                for layer, time_period in layer_batch.items():\n",
    "                    start_time = time_period[0]\n",
    "                    end_time = time_period[1]\n",
    "                    mask = (energy_data['timestamp'] >= start_time) & (energy_data['timestamp'] <= end_time)\n",
    "                    labeled_energy_data_layer.loc[mask, 'step'] = layer\n",
    "    \n",
    "    # Label each step\n",
    "    label_steps(labeled_energy_data_layer, to_device, 'to_device')\n",
    "    label_layers(labeled_energy_data_layer, layer_energy)\n",
    "    label_steps(labeled_energy_data_layer, loss, 'loss')\n",
    "    label_steps(labeled_energy_data_layer, backward, 'backward')\n",
    "    label_steps(labeled_energy_data_layer, optimize, 'optimize')\n",
    "    \n",
    "    return labeled_energy_data_layer"
   ]
  },
  {
   "cell_type": "markdown",
   "metadata": {},
   "source": [
    "### load the label function"
   ]
  },
  {
   "cell_type": "markdown",
   "metadata": {},
   "source": [
    "## find the data path"
   ]
  },
  {
   "cell_type": "code",
   "execution_count": 4,
   "metadata": {},
   "outputs": [
    {
     "name": "stdout",
     "output_type": "stream",
     "text": [
      "['googlenet_origin', 'resnet50', 'resnet34', 'mobilenetv2', 'vgg13', 'googlenet_mod7', 'googlenet_mod9', 'googlenet_mod8', 'googlenet_mod1', 'googlenet_mod6', 'resnet18', 'mobilenetv1', 'vgg16', 'vgg11', 'googlenet_mod3', 'googlenet_mod4', 'googlenet_mod5', 'googlenet_mod2', 'alexnet']\n"
     ]
    }
   ],
   "source": [
    "current_path = os.getcwd()\n",
    "data_path = os.path.join(current_path, 'ModelsData')\n",
    "data_folders = os.listdir(data_path)\n",
    "print(data_folders)"
   ]
  },
  {
   "cell_type": "markdown",
   "metadata": {},
   "source": [
    "## load all the model data"
   ]
  },
  {
   "cell_type": "code",
   "execution_count": 5,
   "metadata": {},
   "outputs": [],
   "source": [
    "# set the epoch number, batch size and the round number as well as the sampling rate\n",
    "epoch = 5\n",
    "batch_size = 128\n",
    "round_num = 0\n",
    "sampling_rate = 2"
   ]
  },
  {
   "cell_type": "code",
   "execution_count": 8,
   "metadata": {},
   "outputs": [],
   "source": [
    "# # for all the folder names in the data folder, generate the path to the folder\n",
    "# # and print the path\n",
    "# folder_name = f'E{epoch}_B{batch_size}_R{round_num}_SR{sampling_rate}_layer'\n",
    "\n",
    "# data_dir = 'fashion_mnist'\n",
    "# # data_dir = 'cifar100'\n",
    "# # data_dir = 'cifar10'\n",
    "\n",
    "\n",
    "\n",
    "# print(folder_name)\n",
    "# for folder in data_folders:\n",
    "#     folder_path = os.path.join(data_path, folder)\n",
    "#     folder_path = os.path.join(folder_path, folder_name)\n",
    "#     folder_path = os.path.join(folder_path, data_dir)\n",
    "#     print(folder_path)\n",
    "\n",
    "#     # load the csv files \n",
    "#     energy_data = pd.read_csv(os.path.join(folder_path, 'energy_consumption_file.csv'))\n",
    "\n",
    "#     # load the npy files\n",
    "#     to_device = np.load(os.path.join(folder_path, 'to_device.npy'), allow_pickle=True)\n",
    "#     forward = np.load(os.path.join(folder_path, 'forward.npy'), allow_pickle=True)\n",
    "#     loss = np.load(os.path.join(folder_path, 'loss.npy'), allow_pickle=True)\n",
    "#     backward = np.load(os.path.join(folder_path, 'backward.npy'), allow_pickle=True)\n",
    "#     optimize = np.load(os.path.join(folder_path, 'optimize.npy'), allow_pickle=True)\n",
    "\n",
    "#     # Set the display format for floating-point numbers to avoid scientific notation\n",
    "#     pd.options.display.float_format = '{:.6f}'.format\n",
    "\n",
    "#     # Use the function to label the energy consumption data\n",
    "#     labeled_energy_data = label_energy_consumption(energy_data, to_device, forward, loss, backward, optimize)\n",
    "#     print(labeled_energy_data.head())\n",
    "\n",
    "#     # save the file to the folder\n",
    "#     labeled_energy_data.to_csv(os.path.join(folder_path, 'labeled_energy_data.csv'), index=False)"
   ]
  },
  {
   "cell_type": "code",
   "execution_count": 8,
   "metadata": {},
   "outputs": [
    {
     "name": "stdout",
     "output_type": "stream",
     "text": [
      "Index of 'resnet18': 10\n",
      "E5_B128_R0_SR2_layer\n",
      "/Users/dtjgp/Projects/GreenAI/3080/ModelsData/resnet18/E5_B128_R0_SR2_layer/fashion_mnist\n"
     ]
    }
   ],
   "source": [
    "# for all the folder names in the data folder, generate the path to the folder\n",
    "# Find the index of 'alexnet' in data_folders\n",
    "# alexnet_index = data_folders.index('alexnet')\n",
    "resnet18_index = data_folders.index('resnet18')\n",
    "\n",
    "# print(f\"Index of 'alexnet': {alexnet_index}\")\n",
    "print(f\"Index of 'resnet18': {resnet18_index}\")\n",
    "\n",
    "# and print the path\n",
    "folder_name = f'E{epoch}_B{batch_size}_R{round_num}_SR{sampling_rate}_layer'\n",
    "\n",
    "data_dir = 'fashion_mnist'\n",
    "# data_dir = 'cifar100'\n",
    "# data_dir = 'cifar10'\n",
    "print(folder_name)\n",
    "\n",
    "folder = data_folders[resnet18_index]\n",
    "\n",
    "folder_path = os.path.join(data_path, folder)\n",
    "folder_path = os.path.join(folder_path, folder_name)\n",
    "folder_path = os.path.join(folder_path, data_dir)\n",
    "# print(folder_path)\n",
    "\n",
    "print(folder_path)\n",
    "\n",
    "# load the csv files \n",
    "energy_data = pd.read_csv(os.path.join(folder_path, 'energy_consumption_file.csv'))\n",
    "# print(type(energy_data.iloc[0]['timestamp']))\n",
    "energy_data['timestamp'] = pd.to_numeric(energy_data['timestamp'], errors='coerce')\n",
    "\n",
    "\n",
    "\n",
    "forward_layer_data = pd.read_csv(os.path.join(folder_path, 'layer_time.csv'))\n",
    "\n",
    "# load the npy files\n",
    "to_device = np.load(os.path.join(folder_path, 'to_device.npy'), allow_pickle=True)\n",
    "forward = np.load(os.path.join(folder_path, 'forward.npy'), allow_pickle=True)\n",
    "loss = np.load(os.path.join(folder_path, 'loss.npy'), allow_pickle=True)\n",
    "backward = np.load(os.path.join(folder_path, 'backward.npy'), allow_pickle=True)\n",
    "optimize = np.load(os.path.join(folder_path, 'optimize.npy'), allow_pickle=True)\n",
    "\n",
    "\n",
    "\n",
    "# Set the display format for floating-point numbers to avoid scientific notation\n",
    "pd.options.display.float_format = '{:.6f}'.format\n",
    "\n",
    "\n",
    "# Use the function to label the energy consumption data\n",
    "labeled_energy_data = label_energy_consumption(energy_data, to_device, forward, loss, backward, optimize)\n",
    "\n",
    "\n",
    "# Use the function to label the energy consumption data with the layer names\n",
    "# labeled_energy_data_layer = label_energy_consumption_layer(energy_data, to_device, loss, backward, optimize, forward_layer_data)\n",
    "# print(labeled_energy_data_layer.head())\n",
    "\n",
    "# save the file to the folder\n",
    "# labeled_energy_data_layer.to_csv(os.path.join(folder_path, 'labeled_energy_data_layer.csv'), index=False)\n",
    "labeled_energy_data.to_csv(os.path.join(folder_path, 'labeled_energy_data.csv'), index=False)"
   ]
  },
  {
   "cell_type": "code",
   "execution_count": null,
   "metadata": {},
   "outputs": [],
   "source": []
  },
  {
   "cell_type": "code",
   "execution_count": null,
   "metadata": {},
   "outputs": [],
   "source": []
  }
 ],
 "metadata": {
  "kernelspec": {
   "display_name": "GreenAI",
   "language": "python",
   "name": "greenai"
  },
  "language_info": {
   "codemirror_mode": {
    "name": "ipython",
    "version": 3
   },
   "file_extension": ".py",
   "mimetype": "text/x-python",
   "name": "python",
   "nbconvert_exporter": "python",
   "pygments_lexer": "ipython3",
   "version": "3.10.15"
  }
 },
 "nbformat": 4,
 "nbformat_minor": 2
}
