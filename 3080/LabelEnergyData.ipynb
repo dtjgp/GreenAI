{
 "cells": [
  {
   "cell_type": "markdown",
   "metadata": {},
   "source": [
    "# This code is to get the labeled_energy_data csv file of each model"
   ]
  },
  {
   "cell_type": "markdown",
   "metadata": {},
   "source": [
    "## Import the lib"
   ]
  },
  {
   "cell_type": "code",
   "execution_count": 2,
   "metadata": {},
   "outputs": [],
   "source": [
    "import pandas as pd\n",
    "import numpy as np\n",
    "import matplotlib.pyplot as plt\n",
    "import os\n",
    "import seaborn as sns"
   ]
  },
  {
   "cell_type": "markdown",
   "metadata": {},
   "source": [
    "## load function"
   ]
  },
  {
   "cell_type": "markdown",
   "metadata": {},
   "source": [
    "### interpolate function"
   ]
  },
  {
   "cell_type": "code",
   "execution_count": 3,
   "metadata": {},
   "outputs": [],
   "source": [
    "def integrate_power_over_interval(samples, start_time, end_time):\n",
    "    # 假定 samples是按时间升序排序的 (t, p)\n",
    "    # 若未排序，请先排序:\n",
    "    # samples = sorted(samples, key=lambda x: x[0])\n",
    "    \n",
    "    def interpolate(samples, target_time):\n",
    "        # 在 samples 中找到 target_time 左右最近的两个点，并进行线性插值\n",
    "        # 若 target_time 恰好等于某个样本点时间，直接返回该点功率\n",
    "        # 若无法找到两侧点（如 target_time在样本时间轴外），根据情况返回None或边界点\n",
    "        n = len(samples)\n",
    "        if n == 0:\n",
    "            return None\n",
    "        # 若 target_time 小于第一个样本点时间，无法向左插值，这里直接返回第一个点的功率值(或None)\n",
    "        if target_time <= samples[0][0]:\n",
    "            # 简化处理：返回最早样本点的功率（或None）\n",
    "            return samples[0][1]\n",
    "        # 若 target_time 大于最后一个样本点时间，无法向右插值，返回最后一个点的功率（或None）\n",
    "        if target_time >= samples[-1][0]:\n",
    "            return samples[-1][1]\n",
    "\n",
    "        # 否则，在中间插值\n",
    "        # 使用二分查找快速定位\n",
    "        import bisect\n",
    "        times = [t for t, _ in samples]\n",
    "        pos = bisect.bisect_left(times, target_time)\n",
    "        # pos是使times保持有序插入target_time的位置\n",
    "        # 因为target_time不在已有样本点中，pos不会越界且pos>0且pos<n\n",
    "        t1, p1 = samples[pos-1]\n",
    "        t2, p2 = samples[pos]\n",
    "        # 线性插值： p = p1 + (p2 - p1)*((target_time - t1)/(t2 - t1))\n",
    "        ratio = (target_time - t1) / (t2 - t1)\n",
    "        p = p1 + (p2 - p1)*ratio\n",
    "        return p\n",
    "\n",
    "    # 从原始 samples 中筛选出位于[start_time, end_time]内的点\n",
    "    filtered = [(t, p) for t, p in samples if start_time <= t <= end_time]\n",
    "\n",
    "    # 如果不足2个点，则尝试使用插值\n",
    "    if len(filtered) < 2:\n",
    "        # 无论如何都需要在边界处插值出两个点(起码start和end)\n",
    "        start_power = interpolate(samples, start_time)\n",
    "        end_power = interpolate(samples, end_time)\n",
    "\n",
    "        # 如果从样本中无法插值出任何有意义的点（比如samples为空或无法插值），返回0.0\n",
    "        if start_power is None or end_power is None:\n",
    "            return 0.0\n",
    "\n",
    "        # 将插值的边界点加入到 filtered\n",
    "        # 注意：如果filtered中有一个点在区间内，我们也需要确保边界有两点以上\n",
    "        # 例如filtered只有一个点在中间，则需要在start和end插值点全部加入。\n",
    "        # 若filtered为空，则只用start/end两点插值点求积分\n",
    "        new_filtered = [(start_time, start_power)] + filtered + [(end_time, end_power)]\n",
    "        # 确保按时间排序\n",
    "        new_filtered.sort(key=lambda x: x[0])\n",
    "        filtered = new_filtered\n",
    "\n",
    "    # 正常积分计算\n",
    "    if len(filtered) < 2:\n",
    "        # 经过插值仍不够，返回0\n",
    "        return 0.0\n",
    "\n",
    "    total_energy = 0.0\n",
    "    for i in range(len(filtered)-1):\n",
    "        t1, p1 = filtered[i]\n",
    "        t2, p2 = filtered[i+1]\n",
    "        dt = t2 - t1\n",
    "        avg_p = (p1 + p2)/2.0\n",
    "        total_energy += avg_p * dt\n",
    "\n",
    "    return total_energy"
   ]
  },
  {
   "cell_type": "markdown",
   "metadata": {},
   "source": [
    "### label energy function"
   ]
  },
  {
   "cell_type": "code",
   "execution_count": 4,
   "metadata": {},
   "outputs": [],
   "source": [
    "def label_energy_consumption(energy_data, to_device, forward, loss, backward, optimize):\n",
    "    # Create a copy of the energy_data dataframe to avoid modifying the original\n",
    "    labeled_energy_data = energy_data.copy()\n",
    "    \n",
    "    # Initialize a new column for the step labels\n",
    "    labeled_energy_data['step'] = 'idle'\n",
    "    \n",
    "    # Define a helper function to label the steps\n",
    "    def label_steps(energy_data, step_energy, step_name):\n",
    "        for epoch in range(step_energy.shape[0]):\n",
    "            for batch in range(step_energy.shape[1]):\n",
    "                start_time = step_energy[epoch][batch][0]\n",
    "                end_time = step_energy[epoch][batch][1]\n",
    "                mask = (energy_data['timestamp'] >= start_time) & (energy_data['timestamp'] <= end_time)\n",
    "                labeled_energy_data.loc[mask, 'step'] = step_name\n",
    "    \n",
    "    # Label each step\n",
    "    label_steps(labeled_energy_data, to_device, 'to_device')\n",
    "    label_steps(labeled_energy_data, forward, 'forward')\n",
    "    label_steps(labeled_energy_data, loss, 'loss')\n",
    "    label_steps(labeled_energy_data, backward, 'backward')\n",
    "    label_steps(labeled_energy_data, optimize, 'optimize')\n",
    "    \n",
    "    return labeled_energy_data"
   ]
  },
  {
   "cell_type": "markdown",
   "metadata": {},
   "source": [
    "### load the label function"
   ]
  },
  {
   "cell_type": "markdown",
   "metadata": {},
   "source": [
    "## find the data path"
   ]
  },
  {
   "cell_type": "code",
   "execution_count": 5,
   "metadata": {},
   "outputs": [
    {
     "name": "stdout",
     "output_type": "stream",
     "text": [
      "['googlenet_origin', 'resnet50', 'resnet34', 'vgg13', 'googlenet_mod7', 'googlenet_mod9', 'googlenet_mod8', 'googlenet_mod1', 'googlenet_mod6', 'mobilenetv1_path', 'resnet18', 'mobilenetv2_path', 'vgg16', 'vgg11', 'googlenet_mod3', 'googlenet_mod4', 'googlenet_mod5', 'googlenet_mod2', 'alexnet']\n"
     ]
    }
   ],
   "source": [
    "current_path = os.getcwd()\n",
    "data_path = os.path.join(current_path, 'ModelsData')\n",
    "data_folders = os.listdir(data_path)\n",
    "print(data_folders)"
   ]
  },
  {
   "cell_type": "markdown",
   "metadata": {},
   "source": [
    "## load all the model data"
   ]
  },
  {
   "cell_type": "code",
   "execution_count": 6,
   "metadata": {},
   "outputs": [],
   "source": [
    "# set the epoch number, batch size and the round number as well as the sampling rate\n",
    "epoch = 5\n",
    "batch_size = 128\n",
    "round_num = 0\n",
    "sampling_rate = 2"
   ]
  },
  {
   "cell_type": "code",
   "execution_count": 7,
   "metadata": {},
   "outputs": [
    {
     "name": "stdout",
     "output_type": "stream",
     "text": [
      "E5_B128_R0_SR2\n",
      "/Users/dtjgp/Projects/GreenAI/3080/ModelsData/googlenet_origin/E5_B128_R0_SR2/fashion_mnist\n",
      "/Users/dtjgp/Projects/GreenAI/3080/ModelsData/resnet50/E5_B128_R0_SR2/fashion_mnist\n",
      "/Users/dtjgp/Projects/GreenAI/3080/ModelsData/resnet34/E5_B128_R0_SR2/fashion_mnist\n",
      "/Users/dtjgp/Projects/GreenAI/3080/ModelsData/vgg13/E5_B128_R0_SR2/fashion_mnist\n",
      "/Users/dtjgp/Projects/GreenAI/3080/ModelsData/googlenet_mod7/E5_B128_R0_SR2/fashion_mnist\n",
      "/Users/dtjgp/Projects/GreenAI/3080/ModelsData/googlenet_mod9/E5_B128_R0_SR2/fashion_mnist\n",
      "/Users/dtjgp/Projects/GreenAI/3080/ModelsData/googlenet_mod8/E5_B128_R0_SR2/fashion_mnist\n",
      "/Users/dtjgp/Projects/GreenAI/3080/ModelsData/googlenet_mod1/E5_B128_R0_SR2/fashion_mnist\n",
      "/Users/dtjgp/Projects/GreenAI/3080/ModelsData/googlenet_mod6/E5_B128_R0_SR2/fashion_mnist\n",
      "/Users/dtjgp/Projects/GreenAI/3080/ModelsData/mobilenetv1_path/E5_B128_R0_SR2/fashion_mnist\n",
      "/Users/dtjgp/Projects/GreenAI/3080/ModelsData/resnet18/E5_B128_R0_SR2/fashion_mnist\n",
      "/Users/dtjgp/Projects/GreenAI/3080/ModelsData/mobilenetv2_path/E5_B128_R0_SR2/fashion_mnist\n",
      "/Users/dtjgp/Projects/GreenAI/3080/ModelsData/vgg16/E5_B128_R0_SR2/fashion_mnist\n",
      "/Users/dtjgp/Projects/GreenAI/3080/ModelsData/vgg11/E5_B128_R0_SR2/fashion_mnist\n",
      "/Users/dtjgp/Projects/GreenAI/3080/ModelsData/googlenet_mod3/E5_B128_R0_SR2/fashion_mnist\n",
      "/Users/dtjgp/Projects/GreenAI/3080/ModelsData/googlenet_mod4/E5_B128_R0_SR2/fashion_mnist\n",
      "/Users/dtjgp/Projects/GreenAI/3080/ModelsData/googlenet_mod5/E5_B128_R0_SR2/fashion_mnist\n",
      "/Users/dtjgp/Projects/GreenAI/3080/ModelsData/googlenet_mod2/E5_B128_R0_SR2/fashion_mnist\n",
      "/Users/dtjgp/Projects/GreenAI/3080/ModelsData/alexnet/E5_B128_R0_SR2/fashion_mnist\n"
     ]
    }
   ],
   "source": [
    "# for all the folder names in the data folder, generate the path to the folder\n",
    "# and print the path\n",
    "folder_name = f'E{epoch}_B{batch_size}_R{round_num}_SR{sampling_rate}'\n",
    "\n",
    "data_dir = 'fashion_mnist'\n",
    "# data_dir = 'cifar100'\n",
    "# data_dir = 'cifar10'\n",
    "\n",
    "\n",
    "\n",
    "print(folder_name)\n",
    "for folder in data_folders:\n",
    "    folder_path = os.path.join(data_path, folder)\n",
    "    folder_path = os.path.join(folder_path, folder_name)\n",
    "    folder_path = os.path.join(folder_path, data_dir)\n",
    "    print(folder_path)\n",
    "\n",
    "    # load the csv files \n",
    "    energy_data = pd.read_csv(os.path.join(folder_path, 'energy_consumption_file.csv'))\n",
    "\n",
    "    # load the npy files\n",
    "    to_device = np.load(os.path.join(folder_path, 'to_device.npy'), allow_pickle=True)\n",
    "    forward = np.load(os.path.join(folder_path, 'forward.npy'), allow_pickle=True)\n",
    "    loss = np.load(os.path.join(folder_path, 'loss.npy'), allow_pickle=True)\n",
    "    backward = np.load(os.path.join(folder_path, 'backward.npy'), allow_pickle=True)\n",
    "    optimize = np.load(os.path.join(folder_path, 'optimize.npy'), allow_pickle=True)\n",
    "\n",
    "    # Set the display format for floating-point numbers to avoid scientific notation\n",
    "    pd.options.display.float_format = '{:.6f}'.format\n",
    "\n",
    "    # Use the function to label the energy consumption data\n",
    "    labeled_energy_data = label_energy_consumption(energy_data, to_device, forward, loss, backward, optimize)\n",
    "    print(labeled_energy_data.head())\n",
    "\n",
    "    # save the file to the folder\n",
    "    labeled_energy_data.to_csv(os.path.join(folder_path, 'labeled_energy_data.csv'), index=False)"
   ]
  },
  {
   "cell_type": "code",
   "execution_count": null,
   "metadata": {},
   "outputs": [],
   "source": []
  }
 ],
 "metadata": {
  "kernelspec": {
   "display_name": "GreenAI",
   "language": "python",
   "name": "greenai"
  },
  "language_info": {
   "codemirror_mode": {
    "name": "ipython",
    "version": 3
   },
   "file_extension": ".py",
   "mimetype": "text/x-python",
   "name": "python",
   "nbconvert_exporter": "python",
   "pygments_lexer": "ipython3",
   "version": "3.10.15"
  }
 },
 "nbformat": 4,
 "nbformat_minor": 2
}
