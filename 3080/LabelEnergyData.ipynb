{
 "cells": [
  {
   "cell_type": "markdown",
   "metadata": {},
   "source": [
    "# This code is to get the labeled_energy_data csv file of each model"
   ]
  },
  {
   "cell_type": "markdown",
   "metadata": {},
   "source": [
    "## Import the lib"
   ]
  },
  {
   "cell_type": "code",
   "execution_count": 13,
   "metadata": {},
   "outputs": [],
   "source": [
    "import pandas as pd\n",
    "import numpy as np\n",
    "import matplotlib.pyplot as plt\n",
    "import os\n",
    "import seaborn as sns\n",
    "from Functions.LabelEnergyAnalysis import *"
   ]
  },
  {
   "cell_type": "markdown",
   "metadata": {},
   "source": [
    "## load function"
   ]
  },
  {
   "cell_type": "markdown",
   "metadata": {},
   "source": [
    "### interpolate function"
   ]
  },
  {
   "cell_type": "code",
   "execution_count": 14,
   "metadata": {},
   "outputs": [],
   "source": [
    "@nb.jit(nopython=True)\n",
    "def interpolate_point(times, powers, target_time):\n",
    "    n = len(times)\n",
    "    if n == 0:\n",
    "        return 0.0\n",
    "    if target_time <= times[0]:\n",
    "        return powers[0]\n",
    "    if target_time >= times[-1]:\n",
    "        return powers[-1]\n",
    "    \n",
    "    # Binary search\n",
    "    left, right = 0, n-1\n",
    "    while left <= right:\n",
    "        mid = (left + right) // 2\n",
    "        if times[mid] == target_time:\n",
    "            return powers[mid]\n",
    "        elif times[mid] < target_time:\n",
    "            left = mid + 1\n",
    "        else:\n",
    "            right = mid - 1\n",
    "            \n",
    "    # Linear interpolation\n",
    "    pos = left\n",
    "    t1, p1 = times[pos-1], powers[pos-1]\n",
    "    t2, p2 = times[pos], powers[pos]\n",
    "    ratio = (target_time - t1) / (t2 - t1)\n",
    "    return p1 + (p2 - p1) * ratio\n",
    "\n",
    "@nb.jit(nopython=True)\n",
    "def integrate_power_over_interval(samples, start_time, end_time):\n",
    "    times = samples[:, 0]\n",
    "    powers = samples[:, 1]\n",
    "    \n",
    "    # Get start and end powers through interpolation\n",
    "    start_power = interpolate_point(times, powers, start_time)\n",
    "    end_power = interpolate_point(times, powers, end_time)\n",
    "    \n",
    "    # Filter points within interval\n",
    "    mask = (times >= start_time) & (times <= end_time)\n",
    "    interval_times = times[mask]\n",
    "    interval_powers = powers[mask]\n",
    "    \n",
    "    # Create array including boundary points\n",
    "    n_points = len(interval_times)\n",
    "    full_times = np.zeros(n_points + 2)\n",
    "    full_powers = np.zeros(n_points + 2)\n",
    "    \n",
    "    # Add boundary points\n",
    "    full_times[0] = start_time\n",
    "    full_powers[0] = start_power\n",
    "    full_times[-1] = end_time\n",
    "    full_powers[-1] = end_power\n",
    "    \n",
    "    # Add interior points\n",
    "    if n_points > 0:\n",
    "        full_times[1:-1] = interval_times\n",
    "        full_powers[1:-1] = interval_powers\n",
    "    \n",
    "    # Integration using trapezoidal rule\n",
    "    total_energy = 0.0\n",
    "    for i in range(len(full_times)-1):\n",
    "        dt = full_times[i+1] - full_times[i]\n",
    "        avg_p = (full_powers[i] + full_powers[i+1]) / 2.0\n",
    "        total_energy += avg_p * dt\n",
    "        \n",
    "    return total_energy\n"
   ]
  },
  {
   "cell_type": "markdown",
   "metadata": {},
   "source": [
    "### label energy function"
   ]
  },
  {
   "cell_type": "code",
   "execution_count": 15,
   "metadata": {},
   "outputs": [],
   "source": [
    "def label_energy_consumption(energy_data, to_device, forward, loss, backward, optimize):\n",
    "    # Create a copy of the energy_data dataframe to avoid modifying the original\n",
    "    labeled_energy_data = energy_data.copy()\n",
    "    \n",
    "    # Initialize a new column for the step labels\n",
    "    labeled_energy_data['step'] = 'idle'\n",
    "    \n",
    "    # Define a helper function to label the steps\n",
    "    def label_steps(energy_data, step_energy, step_name):\n",
    "        for epoch in range(step_energy.shape[0]):\n",
    "            for batch in range(step_energy.shape[1]):\n",
    "                start_time = step_energy[epoch][batch][0]\n",
    "                end_time = step_energy[epoch][batch][1]\n",
    "                mask = (energy_data['timestamp'] >= start_time) & (energy_data['timestamp'] <= end_time)\n",
    "                labeled_energy_data.loc[mask, 'step'] = step_name\n",
    "    \n",
    "    # Label each step\n",
    "    label_steps(labeled_energy_data, to_device, 'to_device')\n",
    "    label_steps(labeled_energy_data, forward, 'forward')\n",
    "    label_steps(labeled_energy_data, loss, 'loss')\n",
    "    label_steps(labeled_energy_data, backward, 'backward')\n",
    "    label_steps(labeled_energy_data, optimize, 'optimize')\n",
    "    \n",
    "    return labeled_energy_data"
   ]
  },
  {
   "cell_type": "markdown",
   "metadata": {},
   "source": [
    "### load the label function"
   ]
  },
  {
   "cell_type": "markdown",
   "metadata": {},
   "source": [
    "## find the data path"
   ]
  },
  {
   "cell_type": "code",
   "execution_count": 16,
   "metadata": {},
   "outputs": [
    {
     "name": "stdout",
     "output_type": "stream",
     "text": [
      "['googlenet_origin', 'resnet50', 'resnet34', 'mobilenetv2', 'vgg13', 'googlenet_mod7', 'googlenet_mod9', 'googlenet_mod8', 'googlenet_mod1', 'googlenet_mod6', 'resnet18', 'mobilenetv1', 'vgg16', 'vgg11', 'googlenet_mod3', 'googlenet_mod4', 'googlenet_mod5', 'googlenet_mod2', 'alexnet']\n"
     ]
    }
   ],
   "source": [
    "current_path = os.getcwd()\n",
    "data_path = os.path.join(current_path, 'ModelsData')\n",
    "data_folders = os.listdir(data_path)\n",
    "print(data_folders)"
   ]
  },
  {
   "cell_type": "markdown",
   "metadata": {},
   "source": [
    "## load all the model data"
   ]
  },
  {
   "cell_type": "code",
   "execution_count": 17,
   "metadata": {},
   "outputs": [],
   "source": [
    "# set the epoch number, batch size and the round number as well as the sampling rate\n",
    "epoch = 5\n",
    "batch_size = 256\n",
    "round_num = 0\n",
    "sampling_rate = 2"
   ]
  },
  {
   "cell_type": "code",
   "execution_count": 18,
   "metadata": {},
   "outputs": [
    {
     "name": "stdout",
     "output_type": "stream",
     "text": [
      "E5_B256_R0_SR2\n",
      "/Users/dtjgp/Projects/GreenAI/3080/ModelsData/googlenet_origin/E5_B256_R0_SR2/fashion_mnist\n",
      "          timestamp  power_in_watts  step\n",
      "0 1734521196.030653       90.938000  idle\n",
      "1 1734521196.262849       90.942000  idle\n",
      "2 1734521196.267752       90.942000  idle\n",
      "3 1734521196.535047       90.891000  idle\n",
      "4 1734521196.843291       90.826000  idle\n",
      "/Users/dtjgp/Projects/GreenAI/3080/ModelsData/resnet50/E5_B256_R0_SR2/fashion_mnist\n",
      "          timestamp  power_in_watts  step\n",
      "0 1734520758.850771       91.621000  idle\n",
      "1 1734520759.019024       91.609000  idle\n",
      "2 1734520759.181253       91.578000  idle\n",
      "3 1734520759.348285       91.437000  idle\n",
      "4 1734520759.512284       91.437000  idle\n",
      "/Users/dtjgp/Projects/GreenAI/3080/ModelsData/resnet34/E5_B256_R0_SR2/fashion_mnist\n"
     ]
    },
    {
     "name": "stderr",
     "output_type": "stream",
     "text": [
      "/var/folders/d9/50r202r14gbc_shcxg960xrh0000gn/T/ipykernel_25239/1227709553.py:19: DtypeWarning: Columns (0,1) have mixed types. Specify dtype option on import or set low_memory=False.\n",
      "  energy_data = pd.read_csv(os.path.join(folder_path, 'energy_consumption_file.csv'))\n"
     ]
    },
    {
     "name": "stdout",
     "output_type": "stream",
     "text": [
      "          timestamp power_in_watts  step\n",
      "0 1734520246.312647          16.54  idle\n",
      "1 1734520246.475491         23.233  idle\n",
      "2 1734520246.480771         23.233  idle\n",
      "3 1734520246.636172         40.216  idle\n",
      "4 1734520246.756206         43.516  idle\n",
      "/Users/dtjgp/Projects/GreenAI/3080/ModelsData/mobilenetv2/E5_B256_R0_SR2/fashion_mnist\n",
      "          timestamp  power_in_watts  step\n",
      "0 1734610932.664366       13.044000  idle\n",
      "1 1734610932.846767       21.837000  idle\n",
      "2 1734610932.852010       21.837000  idle\n",
      "3 1734610933.032963       28.630000  idle\n",
      "4 1734610933.211537       34.058000  idle\n",
      "/Users/dtjgp/Projects/GreenAI/3080/ModelsData/vgg13/E5_B256_R0_SR2/fashion_mnist\n"
     ]
    },
    {
     "name": "stderr",
     "output_type": "stream",
     "text": [
      "/var/folders/d9/50r202r14gbc_shcxg960xrh0000gn/T/ipykernel_25239/1227709553.py:19: DtypeWarning: Columns (0,1) have mixed types. Specify dtype option on import or set low_memory=False.\n",
      "  energy_data = pd.read_csv(os.path.join(folder_path, 'energy_consumption_file.csv'))\n"
     ]
    },
    {
     "name": "stdout",
     "output_type": "stream",
     "text": [
      "          timestamp power_in_watts  step\n",
      "0 1734560268.578758         19.743  idle\n",
      "1 1734560268.671264         30.368  idle\n",
      "2 1734560268.747631         35.089  idle\n",
      "3 1734560268.750994         35.089  idle\n",
      "4 1734560268.818558         35.089  idle\n",
      "/Users/dtjgp/Projects/GreenAI/3080/ModelsData/googlenet_mod7/E5_B256_R0_SR2/fashion_mnist\n",
      "          timestamp  power_in_watts  step\n",
      "0 1734523364.654312       89.225000  idle\n",
      "1 1734523364.909820       89.259000  idle\n",
      "2 1734523365.152238       89.263000  idle\n",
      "3 1734523365.156598       89.263000  idle\n",
      "4 1734523365.403755       89.258000  idle\n",
      "/Users/dtjgp/Projects/GreenAI/3080/ModelsData/googlenet_mod9/E5_B256_R0_SR2/fashion_mnist\n",
      "          timestamp  power_in_watts  step\n",
      "0 1734524453.766207       90.558000  idle\n",
      "1 1734524454.030741       90.341000  idle\n",
      "2 1734524454.035138       90.341000  idle\n",
      "3 1734524454.292768       90.300000  idle\n",
      "4 1734524454.296117       90.300000  idle\n",
      "/Users/dtjgp/Projects/GreenAI/3080/ModelsData/googlenet_mod8/E5_B256_R0_SR2/fashion_mnist\n",
      "          timestamp  power_in_watts  step\n",
      "0 1734523839.396138       89.574000  idle\n",
      "1 1734523839.646789       89.630000  idle\n",
      "2 1734523839.651020       89.630000  idle\n",
      "3 1734523839.899436       89.620000  idle\n",
      "4 1734523840.207842       89.588000  idle\n",
      "/Users/dtjgp/Projects/GreenAI/3080/ModelsData/googlenet_mod1/E5_B256_R0_SR2/fashion_mnist\n",
      "          timestamp  power_in_watts  step\n",
      "0 1734521556.643494       90.187000  idle\n",
      "1 1734521556.646458       90.187000  idle\n",
      "2 1734521556.923901       90.166000  idle\n",
      "3 1734521557.188553       90.128000  idle\n",
      "4 1734521557.192728       90.128000  idle\n",
      "/Users/dtjgp/Projects/GreenAI/3080/ModelsData/googlenet_mod6/E5_B256_R0_SR2/fashion_mnist\n",
      "          timestamp  power_in_watts  step\n",
      "0 1734523009.450545       89.206000  idle\n",
      "1 1734523009.732035       89.088000  idle\n",
      "2 1734523010.003594       89.111000  idle\n",
      "3 1734523010.273342       89.109000  idle\n",
      "4 1734523010.541932       89.115000  idle\n",
      "/Users/dtjgp/Projects/GreenAI/3080/ModelsData/resnet18/E5_B256_R0_SR2/fashion_mnist\n",
      "          timestamp  power_in_watts  step\n",
      "0 1734603218.579257       16.349000  idle\n",
      "1 1734603218.765013       23.255000  idle\n",
      "2 1734603218.769403       23.255000  idle\n",
      "3 1734603219.016029       45.412000  idle\n",
      "4 1734603219.020043       45.412000  idle\n",
      "/Users/dtjgp/Projects/GreenAI/3080/ModelsData/mobilenetv1/E5_B256_R0_SR2/fashion_mnist\n",
      "          timestamp  power_in_watts  step\n",
      "0 1734524615.694061       88.635000  idle\n",
      "1 1734524615.955714       88.567000  idle\n",
      "2 1734524615.959732       88.567000  idle\n",
      "3 1734524616.217870       88.553000  idle\n",
      "4 1734524616.220951       88.553000  idle\n",
      "/Users/dtjgp/Projects/GreenAI/3080/ModelsData/vgg16/E5_B256_R0_SR2/fashion_mnist\n",
      "          timestamp  power_in_watts  step\n",
      "0 1734605195.312489       22.440000  idle\n",
      "1 1734605195.527854       31.276000  idle\n",
      "2 1734605195.530516       31.276000  idle\n",
      "3 1734605195.779392       40.776000  idle\n",
      "4 1734605195.782989       40.776000  idle\n",
      "/Users/dtjgp/Projects/GreenAI/3080/ModelsData/vgg11/E5_B256_R0_SR2/fashion_mnist\n",
      "          timestamp  power_in_watts  step\n",
      "0 1734539093.863643      101.926000  idle\n",
      "1 1734539093.965013      101.965000  idle\n",
      "2 1734539093.969263      101.965000  idle\n",
      "3 1734539094.052115      101.966000  idle\n",
      "4 1734539094.055018      101.966000  idle\n",
      "/Users/dtjgp/Projects/GreenAI/3080/ModelsData/googlenet_mod3/E5_B256_R0_SR2/fashion_mnist\n",
      "          timestamp  power_in_watts  step\n",
      "0 1734522114.491158       90.697000  idle\n",
      "1 1734522114.745219       90.650000  idle\n",
      "2 1734522115.015101       90.387000  idle\n",
      "3 1734522115.018619       90.387000  idle\n",
      "4 1734522115.266976       90.393000  idle\n",
      "/Users/dtjgp/Projects/GreenAI/3080/ModelsData/googlenet_mod4/E5_B256_R0_SR2/fashion_mnist\n",
      "          timestamp  power_in_watts  step\n",
      "0 1734522429.959767       91.425000  idle\n",
      "1 1734522430.215557       91.430000  idle\n",
      "2 1734522430.219788       91.430000  idle\n",
      "3 1734522430.489976       91.272000  idle\n",
      "4 1734522430.493846       91.272000  idle\n",
      "/Users/dtjgp/Projects/GreenAI/3080/ModelsData/googlenet_mod5/E5_B256_R0_SR2/fashion_mnist\n",
      "          timestamp  power_in_watts  step\n",
      "0 1734522752.138072       90.004000  idle\n",
      "1 1734522752.400440       89.958000  idle\n",
      "2 1734522752.403610       89.927000  idle\n",
      "3 1734522752.662556       89.592000  idle\n",
      "4 1734522752.910850       89.541000  idle\n",
      "/Users/dtjgp/Projects/GreenAI/3080/ModelsData/googlenet_mod2/E5_B256_R0_SR2/fashion_mnist\n",
      "          timestamp  power_in_watts  step\n",
      "0 1734521876.466945       91.242000  idle\n",
      "1 1734521876.470249       91.242000  idle\n",
      "2 1734521876.731259       90.980000  idle\n",
      "3 1734521876.981249       90.906000  idle\n",
      "4 1734521876.984414       90.906000  idle\n",
      "/Users/dtjgp/Projects/GreenAI/3080/ModelsData/alexnet/E5_B256_R0_SR2/fashion_mnist\n",
      "          timestamp  power_in_watts  step\n",
      "0 1734538970.775264       21.680000  idle\n",
      "1 1734538970.933681       28.691000  idle\n",
      "2 1734538971.062463       31.678000  idle\n",
      "3 1734538971.188586       51.250000  idle\n",
      "4 1734538971.191516       51.250000  idle\n"
     ]
    }
   ],
   "source": [
    "# for all the folder names in the data folder, generate the path to the folder\n",
    "# and print the path\n",
    "folder_name = f'E{epoch}_B{batch_size}_R{round_num}_SR{sampling_rate}'\n",
    "\n",
    "data_dir = 'fashion_mnist'\n",
    "# data_dir = 'cifar100'\n",
    "# data_dir = 'cifar10'\n",
    "\n",
    "\n",
    "\n",
    "print(folder_name)\n",
    "for folder in data_folders:\n",
    "    folder_path = os.path.join(data_path, folder)\n",
    "    folder_path = os.path.join(folder_path, folder_name)\n",
    "    folder_path = os.path.join(folder_path, data_dir)\n",
    "    print(folder_path)\n",
    "\n",
    "    # load the csv files \n",
    "    energy_data = pd.read_csv(os.path.join(folder_path, 'energy_consumption_file.csv'))\n",
    "    energy_data['timestamp'] = pd.to_numeric(energy_data['timestamp'], errors='coerce')\n",
    "\n",
    "\n",
    "    # load the npy files\n",
    "    to_device = np.load(os.path.join(folder_path, 'to_device.npy'), allow_pickle=True)\n",
    "    forward = np.load(os.path.join(folder_path, 'forward.npy'), allow_pickle=True)\n",
    "    loss = np.load(os.path.join(folder_path, 'loss.npy'), allow_pickle=True)\n",
    "    backward = np.load(os.path.join(folder_path, 'backward.npy'), allow_pickle=True)\n",
    "    optimize = np.load(os.path.join(folder_path, 'optimize.npy'), allow_pickle=True)\n",
    "\n",
    "    # Set the display format for floating-point numbers to avoid scientific notation\n",
    "    pd.options.display.float_format = '{:.6f}'.format\n",
    "\n",
    "    # Use the function to label the energy consumption data\n",
    "    labeled_energy_data = label_energy_consumption(energy_data, to_device, forward, loss, backward, optimize)\n",
    "    print(labeled_energy_data.head())\n",
    "\n",
    "    # save the file to the folder\n",
    "    labeled_energy_data.to_csv(os.path.join(folder_path, 'labeled_energy_data.csv'), index=False)"
   ]
  },
  {
   "cell_type": "code",
   "execution_count": null,
   "metadata": {},
   "outputs": [],
   "source": []
  }
 ],
 "metadata": {
  "kernelspec": {
   "display_name": "GreenAI",
   "language": "python",
   "name": "greenai"
  },
  "language_info": {
   "codemirror_mode": {
    "name": "ipython",
    "version": 3
   },
   "file_extension": ".py",
   "mimetype": "text/x-python",
   "name": "python",
   "nbconvert_exporter": "python",
   "pygments_lexer": "ipython3",
   "version": "3.10.15"
  }
 },
 "nbformat": 4,
 "nbformat_minor": 2
}
