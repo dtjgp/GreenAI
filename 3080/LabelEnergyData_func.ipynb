{
 "cells": [
  {
   "cell_type": "markdown",
   "metadata": {},
   "source": [
    "# This code is to get the labeled_energy_data csv file of each model"
   ]
  },
  {
   "cell_type": "markdown",
   "metadata": {},
   "source": [
    "## Import the lib"
   ]
  },
  {
   "cell_type": "code",
   "execution_count": 1,
   "metadata": {},
   "outputs": [],
   "source": [
    "import pandas as pd\n",
    "import numpy as np\n",
    "import os\n",
    "import seaborn as sns\n",
    "from Functions.LabelEnergyAnalysis import *"
   ]
  },
  {
   "cell_type": "markdown",
   "metadata": {},
   "source": [
    "## find the data path"
   ]
  },
  {
   "cell_type": "code",
   "execution_count": 2,
   "metadata": {},
   "outputs": [
    {
     "name": "stdout",
     "output_type": "stream",
     "text": [
      "['googlenet_origin', 'resnet50', 'resnet34', 'mobilenetv2', 'vgg13', 'googlenet_mod7', 'googlenet_mod9', 'googlenet_mod8', 'googlenet_mod1', 'googlenet_mod6', 'resnet18', 'mobilenetv1', 'vgg16', 'vgg11', 'googlenet_mod3', 'googlenet_mod4', 'googlenet_mod5', 'googlenet_mod2', 'alexnet']\n",
      "The database path is /Users/dtjgp/Projects/GreenAI/3080/Database\n"
     ]
    }
   ],
   "source": [
    "current_path = os.getcwd()\n",
    "data_path = os.path.join(current_path, 'CNNModelsData')\n",
    "data_folders = os.listdir(data_path)\n",
    "print(data_folders)\n",
    "\n",
    "# create a dictionary to store the data for the database\n",
    "if not os.path.exists('Database'):\n",
    "    os.makedirs('Database')\n",
    "\n",
    "database_dir = os.path.join(current_path, 'Database')\n",
    "print(f'The database path is {database_dir}')"
   ]
  },
  {
   "cell_type": "markdown",
   "metadata": {},
   "source": [
    "## load all the model data"
   ]
  },
  {
   "cell_type": "code",
   "execution_count": 3,
   "metadata": {},
   "outputs": [],
   "source": [
    "# set the epoch number, batch size and the round number as well as the sampling rate\n",
    "epoch = 5\n",
    "batch_size = 128\n",
    "round_num = 0\n",
    "sampling_rate = 2"
   ]
  },
  {
   "cell_type": "code",
   "execution_count": 4,
   "metadata": {},
   "outputs": [
    {
     "name": "stdout",
     "output_type": "stream",
     "text": [
      "The folder name is E5_B128_R0_SR2\n",
      "/Users/dtjgp/Projects/GreenAI/3080/CNNModelsData/googlenet_origin/fashion_mnist/E5_B128_R0_SR2\n",
      "/Users/dtjgp/Projects/GreenAI/3080/CNNModelsData/resnet50/fashion_mnist/E5_B128_R0_SR2\n",
      "/Users/dtjgp/Projects/GreenAI/3080/CNNModelsData/resnet34/fashion_mnist/E5_B128_R0_SR2\n",
      "/Users/dtjgp/Projects/GreenAI/3080/CNNModelsData/mobilenetv2/fashion_mnist/E5_B128_R0_SR2\n",
      "/Users/dtjgp/Projects/GreenAI/3080/CNNModelsData/vgg13/fashion_mnist/E5_B128_R0_SR2\n",
      "/Users/dtjgp/Projects/GreenAI/3080/CNNModelsData/googlenet_mod7/fashion_mnist/E5_B128_R0_SR2\n",
      "/Users/dtjgp/Projects/GreenAI/3080/CNNModelsData/googlenet_mod9/fashion_mnist/E5_B128_R0_SR2\n",
      "/Users/dtjgp/Projects/GreenAI/3080/CNNModelsData/googlenet_mod8/fashion_mnist/E5_B128_R0_SR2\n",
      "/Users/dtjgp/Projects/GreenAI/3080/CNNModelsData/googlenet_mod1/fashion_mnist/E5_B128_R0_SR2\n",
      "/Users/dtjgp/Projects/GreenAI/3080/CNNModelsData/googlenet_mod6/fashion_mnist/E5_B128_R0_SR2\n",
      "/Users/dtjgp/Projects/GreenAI/3080/CNNModelsData/resnet18/fashion_mnist/E5_B128_R0_SR2\n",
      "/Users/dtjgp/Projects/GreenAI/3080/CNNModelsData/mobilenetv1/fashion_mnist/E5_B128_R0_SR2\n",
      "/Users/dtjgp/Projects/GreenAI/3080/CNNModelsData/vgg16/fashion_mnist/E5_B128_R0_SR2\n",
      "/Users/dtjgp/Projects/GreenAI/3080/CNNModelsData/vgg11/fashion_mnist/E5_B128_R0_SR2\n",
      "/Users/dtjgp/Projects/GreenAI/3080/CNNModelsData/googlenet_mod3/fashion_mnist/E5_B128_R0_SR2\n",
      "/Users/dtjgp/Projects/GreenAI/3080/CNNModelsData/googlenet_mod4/fashion_mnist/E5_B128_R0_SR2\n",
      "/Users/dtjgp/Projects/GreenAI/3080/CNNModelsData/googlenet_mod5/fashion_mnist/E5_B128_R0_SR2\n",
      "/Users/dtjgp/Projects/GreenAI/3080/CNNModelsData/googlenet_mod2/fashion_mnist/E5_B128_R0_SR2\n",
      "/Users/dtjgp/Projects/GreenAI/3080/CNNModelsData/alexnet/fashion_mnist/E5_B128_R0_SR2\n",
      "/Users/dtjgp/Projects/GreenAI/3080/CNNModelsData/googlenet_origin/cifar100/E5_B128_R0_SR2\n",
      "/Users/dtjgp/Projects/GreenAI/3080/CNNModelsData/resnet50/cifar100/E5_B128_R0_SR2\n",
      "/Users/dtjgp/Projects/GreenAI/3080/CNNModelsData/resnet34/cifar100/E5_B128_R0_SR2\n",
      "/Users/dtjgp/Projects/GreenAI/3080/CNNModelsData/mobilenetv2/cifar100/E5_B128_R0_SR2\n",
      "/Users/dtjgp/Projects/GreenAI/3080/CNNModelsData/vgg13/cifar100/E5_B128_R0_SR2\n",
      "/Users/dtjgp/Projects/GreenAI/3080/CNNModelsData/googlenet_mod7/cifar100/E5_B128_R0_SR2\n",
      "/Users/dtjgp/Projects/GreenAI/3080/CNNModelsData/googlenet_mod9/cifar100/E5_B128_R0_SR2\n",
      "/Users/dtjgp/Projects/GreenAI/3080/CNNModelsData/googlenet_mod8/cifar100/E5_B128_R0_SR2\n",
      "/Users/dtjgp/Projects/GreenAI/3080/CNNModelsData/googlenet_mod1/cifar100/E5_B128_R0_SR2\n",
      "/Users/dtjgp/Projects/GreenAI/3080/CNNModelsData/googlenet_mod6/cifar100/E5_B128_R0_SR2\n",
      "/Users/dtjgp/Projects/GreenAI/3080/CNNModelsData/resnet18/cifar100/E5_B128_R0_SR2\n",
      "/Users/dtjgp/Projects/GreenAI/3080/CNNModelsData/mobilenetv1/cifar100/E5_B128_R0_SR2\n",
      "/Users/dtjgp/Projects/GreenAI/3080/CNNModelsData/vgg16/cifar100/E5_B128_R0_SR2\n",
      "/Users/dtjgp/Projects/GreenAI/3080/CNNModelsData/vgg11/cifar100/E5_B128_R0_SR2\n",
      "/Users/dtjgp/Projects/GreenAI/3080/CNNModelsData/googlenet_mod3/cifar100/E5_B128_R0_SR2\n",
      "/Users/dtjgp/Projects/GreenAI/3080/CNNModelsData/googlenet_mod4/cifar100/E5_B128_R0_SR2\n",
      "/Users/dtjgp/Projects/GreenAI/3080/CNNModelsData/googlenet_mod5/cifar100/E5_B128_R0_SR2\n",
      "/Users/dtjgp/Projects/GreenAI/3080/CNNModelsData/googlenet_mod2/cifar100/E5_B128_R0_SR2\n",
      "/Users/dtjgp/Projects/GreenAI/3080/CNNModelsData/alexnet/cifar100/E5_B128_R0_SR2\n"
     ]
    }
   ],
   "source": [
    "# for all the folder names in the data folder, generate the path to the folder\n",
    "# and print the path\n",
    "folder_name = f'E{epoch}_B{batch_size}_R{round_num}_SR{sampling_rate}'\n",
    "print(f'The folder name is {folder_name}')\n",
    "\n",
    "data_dir_list = ['fashion_mnist', 'cifar100']\n",
    "\n",
    "for dataset in data_dir_list:\n",
    "    for folder in data_folders:\n",
    "        folder_path = os.path.join(data_path, folder)\n",
    "        folder_path = os.path.join(folder_path, dataset)\n",
    "        folder_path = os.path.join(folder_path, folder_name)\n",
    "        print(folder_path)\n",
    "\n",
    "        # create a directory to store the database of each model in the database folder\n",
    "        database_path = os.path.join(database_dir, folder)\n",
    "        database_path = os.path.join(database_path, dataset)\n",
    "        database_path = os.path.join(database_path, folder_name)\n",
    "\n",
    "        # create the directory if it does not exist\n",
    "        if not os.path.exists(database_path):\n",
    "            os.makedirs(database_path)\n",
    "\n",
    "        # load the csv files \n",
    "        energy_data = pd.read_csv(os.path.join(folder_path, 'energy_consumption_file.csv'))\n",
    "        energy_data['timestamp'] = pd.to_numeric(energy_data['timestamp'], errors='coerce')\n",
    "\n",
    "        # load the npy files\n",
    "        to_device = np.load(os.path.join(folder_path, 'to_device.npy'), allow_pickle=True)\n",
    "        forward = np.load(os.path.join(folder_path, 'forward.npy'), allow_pickle=True)\n",
    "        loss = np.load(os.path.join(folder_path, 'loss.npy'), allow_pickle=True)\n",
    "        backward = np.load(os.path.join(folder_path, 'backward.npy'), allow_pickle=True)\n",
    "        optimize = np.load(os.path.join(folder_path, 'optimize.npy'), allow_pickle=True)\n",
    "\n",
    "        to_device_df = transfer_type(to_device)\n",
    "        forward_df = transfer_type(forward)\n",
    "        loss_df = transfer_type(loss)\n",
    "        backward_df = transfer_type(backward)\n",
    "        optimize_df = transfer_type(optimize)\n",
    "\n",
    "        # Set the display format for floating-point numbers to avoid scientific notation\n",
    "        pd.options.display.float_format = '{:.6f}'.format\n",
    "\n",
    "        # Use the function to label the energy consumption data\n",
    "        labeled_energy_data = label_energy_consumption(energy_data, to_device, forward, loss, backward, optimize)\n",
    "        # print(labeled_energy_data.head())\n",
    "\n",
    "        # save the file to the folder\n",
    "        labeled_energy_data.to_csv(os.path.join(folder_path, 'labeled_energy_data.csv'), index=False)\n",
    "\n",
    "        # save all the dataframe data to the database\n",
    "        to_device_df.to_csv(os.path.join(database_path, 'to_device.csv'), index=False)\n",
    "        forward_df.to_csv(os.path.join(database_path, 'forward.csv'), index=False)\n",
    "        loss_df.to_csv(os.path.join(database_path, 'loss.csv'), index=False)\n",
    "        backward_df.to_csv(os.path.join(database_path, 'backward.csv'), index=False)\n",
    "        optimize_df.to_csv(os.path.join(database_path, 'optimize.csv'), index=False)\n",
    "        labeled_energy_data.to_csv(os.path.join(database_path, 'labeled_energy_data.csv'), index=False)\n",
    "        "
   ]
  },
  {
   "cell_type": "code",
   "execution_count": null,
   "metadata": {},
   "outputs": [],
   "source": []
  },
  {
   "cell_type": "code",
   "execution_count": null,
   "metadata": {},
   "outputs": [],
   "source": []
  }
 ],
 "metadata": {
  "kernelspec": {
   "display_name": "GreenAI",
   "language": "python",
   "name": "greenai"
  },
  "language_info": {
   "codemirror_mode": {
    "name": "ipython",
    "version": 3
   },
   "file_extension": ".py",
   "mimetype": "text/x-python",
   "name": "python",
   "nbconvert_exporter": "python",
   "pygments_lexer": "ipython3",
   "version": "3.10.15"
  }
 },
 "nbformat": 4,
 "nbformat_minor": 2
}
