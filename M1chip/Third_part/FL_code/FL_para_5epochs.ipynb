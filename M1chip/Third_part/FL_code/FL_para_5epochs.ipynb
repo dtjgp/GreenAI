{
 "cells": [
  {
   "cell_type": "code",
   "execution_count": 1,
   "metadata": {},
   "outputs": [],
   "source": [
    "import pandas as pd\n",
    "import numpy as np\n",
    "import matplotlib.pyplot as plt\n",
    "import os"
   ]
  },
  {
   "cell_type": "code",
   "execution_count": 2,
   "metadata": {},
   "outputs": [
    {
     "name": "stdout",
     "output_type": "stream",
     "text": [
      "/Users/dtjgp/Learning/Thesis/GreenAI/M1chip/Third_part/FL_code\n",
      "/Users/dtjgp/Learning/Thesis/GreenAI/M1chip/Third_part\n",
      "/Users/dtjgp/Learning/Thesis/GreenAI/M1chip/Third_part/data/5epochs\n"
     ]
    }
   ],
   "source": [
    "working_dir = os.getcwd()\n",
    "print(working_dir)\n",
    "\n",
    "# get the parent directory\n",
    "parent_dir = os.path.dirname(working_dir)\n",
    "print(parent_dir)\n",
    "\n",
    "# get the data directory\n",
    "data_dir = os.path.join(parent_dir, 'data/5epochs')\n",
    "print(data_dir)"
   ]
  },
  {
   "cell_type": "code",
   "execution_count": 3,
   "metadata": {},
   "outputs": [
    {
     "name": "stdout",
     "output_type": "stream",
     "text": [
      "['net2', 'net1']\n",
      "['/Users/dtjgp/Learning/Thesis/GreenAI/M1chip/Third_part/data/5epochs/net2/net_state_dict_alexnet.pth', '/Users/dtjgp/Learning/Thesis/GreenAI/M1chip/Third_part/data/5epochs/net1/net_state_dict_alexnet.pth']\n"
     ]
    }
   ],
   "source": [
    "# find all the folders in the data directory\n",
    "folders = os.listdir(data_dir)\n",
    "print(folders)\n",
    "\n",
    "model_path = []\n",
    "# open each folder and get the .pth files\n",
    "for folder in folders:\n",
    "    folder_path = os.path.join(data_dir, folder)\n",
    "    # print(folder_path)\n",
    "    files = os.listdir(folder_path)\n",
    "    # print(files)\n",
    "    for file in files:\n",
    "        if file.endswith('net_state_dict_alexnet.pth'):\n",
    "            file_path = os.path.join(folder_path, file)\n",
    "            # print(file_path)\n",
    "            # print('*************')\n",
    "            model_path.append(file_path)\n",
    "\n",
    "print(model_path)\n",
    "            \n",
    "\n"
   ]
  },
  {
   "cell_type": "code",
   "execution_count": 4,
   "metadata": {},
   "outputs": [],
   "source": [
    "import torch\n",
    "from torch import nn\n",
    "from d2l import torch as d2l"
   ]
  },
  {
   "cell_type": "code",
   "execution_count": 5,
   "metadata": {},
   "outputs": [],
   "source": [
    "# Define your model architecture as provided\n",
    "net = nn.Sequential(\n",
    "    # 这里使用一个11*11的更大窗口来捕捉对象。\n",
    "    # 同时，步幅为4，以减少输出的高度和宽度。\n",
    "    # 另外，输出通道的数目远大于LeNet\n",
    "    nn.Conv2d(1, 96, kernel_size=11, stride=4, padding=1), nn.ReLU(),\n",
    "    nn.MaxPool2d(kernel_size=3, stride=2),\n",
    "    # 减小卷积窗口，使用填充为2来使得输入与输出的高和宽一致，且增大输出通道数\n",
    "    nn.Conv2d(96, 256, kernel_size=5, padding=2), nn.ReLU(),\n",
    "    nn.MaxPool2d(kernel_size=3, stride=2),\n",
    "    # 使用三个连续的卷积层和较小的卷积窗口。\n",
    "    # 除了最后的卷积层，输出通道的数量进一步增加。\n",
    "    # 在前两个卷积层之后，汇聚层不用于减少输入的高度和宽度\n",
    "    nn.Conv2d(256, 384, kernel_size=3, padding=1), nn.ReLU(),\n",
    "    nn.Conv2d(384, 384, kernel_size=3, padding=1), nn.ReLU(),\n",
    "    nn.Conv2d(384, 256, kernel_size=3, padding=1), nn.ReLU(),\n",
    "    nn.MaxPool2d(kernel_size=3, stride=2),\n",
    "    nn.Flatten(),\n",
    "    # 这里，全连接层的输出数量是LeNet中的好几倍。使用dropout层来减轻过拟合\n",
    "    nn.Linear(6400, 4096), nn.ReLU(),\n",
    "    nn.Dropout(p=0.5),\n",
    "    nn.Linear(4096, 4096), nn.ReLU(),\n",
    "    nn.Dropout(p=0.5),\n",
    "    # 最后是输出层。由于这里使用Fashion-MNIST，所以用类别数为10，而非论文中的1000\n",
    "    nn.Linear(4096, 10))\n",
    "\n",
    "model_paths = model_path\n",
    "\n",
    "# Load all model state dictionaries\n",
    "state_dicts = [torch.load(path, map_location='cpu') for path in model_paths]\n",
    "\n",
    "# Calculate the average of the parameters\n",
    "avg_state_dict = {}\n",
    "for key in state_dicts[0]:\n",
    "    # Sum all parameters\n",
    "    sum_param = sum(state_dict[key] for state_dict in state_dicts)\n",
    "    # Take average\n",
    "    avg_state_dict[key] = sum_param / len(state_dicts)\n",
    "\n",
    "# Update the combined model with the averaged parameters\n",
    "net.load_state_dict(avg_state_dict)\n",
    "\n",
    "# Save the combined model\n",
    "torch.save(net.state_dict(), os.path.join(data_dir, 'combined_model_state_dict.pth'))"
   ]
  },
  {
   "cell_type": "code",
   "execution_count": 6,
   "metadata": {},
   "outputs": [
    {
     "name": "stdout",
     "output_type": "stream",
     "text": [
      "0.1168\n"
     ]
    }
   ],
   "source": [
    "# load the combined model\n",
    "net.load_state_dict(torch.load(os.path.join(data_dir, 'combined_model_state_dict.pth')))\n",
    "\n",
    "# load the test dataset\n",
    "batch_size = 128\n",
    "train_iter, test_iter = d2l.load_data_fashion_mnist(batch_size, resize=224)\n",
    "\n",
    "# set the model to evaluation mode\n",
    "test_acc = d2l.evaluate_accuracy_gpu(net, test_iter)\n",
    "print(test_acc)"
   ]
  },
  {
   "cell_type": "code",
   "execution_count": null,
   "metadata": {},
   "outputs": [],
   "source": []
  }
 ],
 "metadata": {
  "kernelspec": {
   "display_name": "ds",
   "language": "python",
   "name": "ds"
  },
  "language_info": {
   "codemirror_mode": {
    "name": "ipython",
    "version": 3
   },
   "file_extension": ".py",
   "mimetype": "text/x-python",
   "name": "python",
   "nbconvert_exporter": "python",
   "pygments_lexer": "ipython3",
   "version": "3.8.18"
  }
 },
 "nbformat": 4,
 "nbformat_minor": 2
}
