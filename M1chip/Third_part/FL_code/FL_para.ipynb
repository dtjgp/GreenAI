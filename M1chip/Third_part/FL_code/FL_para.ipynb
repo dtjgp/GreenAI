{
 "cells": [
  {
   "cell_type": "code",
   "execution_count": 2,
   "metadata": {},
   "outputs": [],
   "source": [
    "import pandas as pd\n",
    "import numpy as np\n",
    "import matplotlib.pyplot as plt\n",
    "import os"
   ]
  },
  {
   "cell_type": "code",
   "execution_count": 3,
   "metadata": {},
   "outputs": [
    {
     "name": "stdout",
     "output_type": "stream",
     "text": [
      "/Users/dtjgp/Learning/Thesis/GreenAI/M1chip/Third_part/FL_code\n",
      "/Users/dtjgp/Learning/Thesis/GreenAI/M1chip/Third_part\n",
      "/Users/dtjgp/Learning/Thesis/GreenAI/M1chip/Third_part/data/1epoch\n"
     ]
    }
   ],
   "source": [
    "working_dir = os.getcwd()\n",
    "print(working_dir)\n",
    "\n",
    "# get the parent directory\n",
    "parent_dir = os.path.dirname(working_dir)\n",
    "print(parent_dir)\n",
    "\n",
    "# get the data directory\n",
    "data_dir = os.path.join(parent_dir, 'data/1epoch')\n",
    "print(data_dir)"
   ]
  },
  {
   "cell_type": "code",
   "execution_count": null,
   "metadata": {},
   "outputs": [],
   "source": [
    "# "
   ]
  }
 ],
 "metadata": {
  "kernelspec": {
   "display_name": "ds",
   "language": "python",
   "name": "ds"
  },
  "language_info": {
   "codemirror_mode": {
    "name": "ipython",
    "version": 3
   },
   "file_extension": ".py",
   "mimetype": "text/x-python",
   "name": "python",
   "nbconvert_exporter": "python",
   "pygments_lexer": "ipython3",
   "version": "3.8.18"
  }
 },
 "nbformat": 4,
 "nbformat_minor": 2
}
