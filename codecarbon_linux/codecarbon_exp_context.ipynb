{
 "cells": [
  {
   "cell_type": "code",
   "execution_count": 1,
   "metadata": {},
   "outputs": [],
   "source": [
    "# train a Deep Learning model on MNIST Data to recognize digits in images using pytorch\n",
    "# using the context manager"
   ]
  },
  {
   "cell_type": "code",
   "execution_count": 2,
   "metadata": {},
   "outputs": [],
   "source": [
    "# import libraries\n",
    "import torch\n",
    "from torch import nn\n",
    "from torch.utils.data import DataLoader\n",
    "from torchvision import datasets\n",
    "from torchvision.transforms import ToTensor\n",
    "\n",
    "from codecarbon import EmissionsTracker"
   ]
  },
  {
   "cell_type": "code",
   "execution_count": 3,
   "metadata": {},
   "outputs": [
    {
     "data": {
      "text/plain": [
       "Dataset MNIST\n",
       "    Number of datapoints: 60000\n",
       "    Root location: data\n",
       "    Split: Train\n",
       "    StandardTransform\n",
       "Transform: ToTensor()"
      ]
     },
     "execution_count": 3,
     "metadata": {},
     "output_type": "execute_result"
    }
   ],
   "source": [
    "# Download training data from open datasets.\n",
    "training_data = datasets.MNIST(\n",
    "    root=\"data\",\n",
    "    train=True,\n",
    "    download=True,\n",
    "    transform=ToTensor(),\n",
    ")\n",
    "training_data"
   ]
  },
  {
   "cell_type": "code",
   "execution_count": 4,
   "metadata": {},
   "outputs": [
    {
     "data": {
      "text/plain": [
       "Dataset MNIST\n",
       "    Number of datapoints: 10000\n",
       "    Root location: data\n",
       "    Split: Test\n",
       "    StandardTransform\n",
       "Transform: ToTensor()"
      ]
     },
     "execution_count": 4,
     "metadata": {},
     "output_type": "execute_result"
    }
   ],
   "source": [
    "# Download test data from open datasets.\n",
    "test_data = datasets.MNIST(\n",
    "    root=\"data\",\n",
    "    train=False,\n",
    "    download=True,\n",
    "    transform=ToTensor(),\n",
    ")\n",
    "test_data"
   ]
  },
  {
   "cell_type": "code",
   "execution_count": 5,
   "metadata": {},
   "outputs": [],
   "source": [
    "# set the batch size\n",
    "batch_size = 64"
   ]
  },
  {
   "cell_type": "code",
   "execution_count": 6,
   "metadata": {},
   "outputs": [
    {
     "name": "stdout",
     "output_type": "stream",
     "text": [
      "Shape of X [N, C, H, W]: torch.Size([64, 1, 28, 28])\n",
      "Shape of y: torch.Size([64]) torch.int64\n"
     ]
    }
   ],
   "source": [
    "# Create data loaders.\n",
    "train_dataloader = DataLoader(training_data, batch_size=batch_size)\n",
    "test_dataloader = DataLoader(test_data, batch_size=batch_size)\n",
    "\n",
    "for X, y in test_dataloader:\n",
    "    print(f\"Shape of X [N, C, H, W]: {X.shape}\")\n",
    "    print(f\"Shape of y: {y.shape} {y.dtype}\")\n",
    "    break"
   ]
  },
  {
   "cell_type": "code",
   "execution_count": 7,
   "metadata": {},
   "outputs": [
    {
     "name": "stdout",
     "output_type": "stream",
     "text": [
      "Using mps device\n"
     ]
    }
   ],
   "source": [
    "# creating model\n",
    "# Get cpu, gpu or mps device for training.\n",
    "device = (\n",
    "    \"cuda\"\n",
    "    if torch.cuda.is_available()\n",
    "    else \"mps\"\n",
    "    if torch.backends.mps.is_available()\n",
    "    else \"cpu\"\n",
    ")\n",
    "print(f\"Using {device} device\")"
   ]
  },
  {
   "cell_type": "code",
   "execution_count": 8,
   "metadata": {},
   "outputs": [
    {
     "name": "stdout",
     "output_type": "stream",
     "text": [
      "NeuralNetwork(\n",
      "  (flatten): Flatten(start_dim=1, end_dim=-1)\n",
      "  (linear_relu_stack): Sequential(\n",
      "    (0): Linear(in_features=784, out_features=512, bias=True)\n",
      "    (1): ReLU()\n",
      "    (2): Linear(in_features=512, out_features=512, bias=True)\n",
      "    (3): ReLU()\n",
      "    (4): Linear(in_features=512, out_features=10, bias=True)\n",
      "  )\n",
      ")\n"
     ]
    }
   ],
   "source": [
    "# Define model\n",
    "class NeuralNetwork(nn.Module):\n",
    "    def __init__(self):\n",
    "        super().__init__()\n",
    "        self.flatten = nn.Flatten()\n",
    "        self.linear_relu_stack = nn.Sequential(\n",
    "            nn.Linear(28*28, 512),\n",
    "            nn.ReLU(),\n",
    "            nn.Linear(512, 512),\n",
    "            nn.ReLU(),\n",
    "            nn.Linear(512, 10)\n",
    "        )\n",
    "\n",
    "    def forward(self, x):\n",
    "        x = self.flatten(x)\n",
    "        logits = self.linear_relu_stack(x)\n",
    "        return logits\n",
    "\n",
    "model = NeuralNetwork().to(device)\n",
    "print(model)"
   ]
  },
  {
   "cell_type": "code",
   "execution_count": 9,
   "metadata": {},
   "outputs": [],
   "source": [
    "# optimizer and loss function\n",
    "loss_fn = nn.CrossEntropyLoss()\n",
    "optimizer = torch.optim.SGD(model.parameters(), lr=1e-3)"
   ]
  },
  {
   "cell_type": "code",
   "execution_count": 10,
   "metadata": {},
   "outputs": [],
   "source": [
    "def train(dataloader, model, loss_fn, optimizer):\n",
    "    size = len(dataloader.dataset)\n",
    "    model.train()\n",
    "    for batch, (X, y) in enumerate(dataloader):\n",
    "        X, y = X.to(device), y.to(device)\n",
    "\n",
    "        # Compute prediction error\n",
    "        pred = model(X)\n",
    "        loss = loss_fn(pred, y)\n",
    "\n",
    "        # Backpropagation\n",
    "        loss.backward()\n",
    "        optimizer.step()\n",
    "        optimizer.zero_grad()\n",
    "\n",
    "        if batch % 100 == 0:\n",
    "            loss, current = loss.item(), (batch + 1) * len(X)\n",
    "            print(f\"loss: {loss:>7f}  [{current:>5d}/{size:>5d}]\")"
   ]
  },
  {
   "cell_type": "code",
   "execution_count": 11,
   "metadata": {},
   "outputs": [],
   "source": [
    "def test(dataloader, model, loss_fn):\n",
    "    size = len(dataloader.dataset)\n",
    "    num_batches = len(dataloader)\n",
    "    model.eval()\n",
    "    test_loss, correct = 0, 0\n",
    "    with torch.no_grad():\n",
    "        for X, y in dataloader:\n",
    "            X, y = X.to(device), y.to(device)\n",
    "            pred = model(X)\n",
    "            test_loss += loss_fn(pred, y).item()\n",
    "            correct += (pred.argmax(1) == y).type(torch.float).sum().item()\n",
    "    test_loss /= num_batches\n",
    "    correct /= size\n",
    "    print(f\"Test Error: \\n Accuracy: {(100*correct):>0.1f}%, Avg loss: {test_loss:>8f} \\n\")"
   ]
  },
  {
   "cell_type": "code",
   "execution_count": 12,
   "metadata": {},
   "outputs": [
    {
     "name": "stderr",
     "output_type": "stream",
     "text": [
      "[codecarbon INFO @ 19:19:01] [setup] RAM Tracking...\n",
      "[codecarbon INFO @ 19:19:01] [setup] GPU Tracking...\n",
      "[codecarbon INFO @ 19:19:01] No GPU found.\n",
      "[codecarbon INFO @ 19:19:01] [setup] CPU Tracking...\n",
      "[codecarbon WARNING @ 19:19:01] No CPU tracking mode found. Falling back on CPU constant mode.\n",
      "[codecarbon INFO @ 19:19:01] CPU Model on constant consumption mode: Apple M1\n",
      "[codecarbon INFO @ 19:19:01] >>> Tracker's metadata:\n",
      "[codecarbon INFO @ 19:19:01]   Platform system: macOS-14.0-arm64-arm-64bit\n",
      "[codecarbon INFO @ 19:19:01]   Python version: 3.8.18\n",
      "[codecarbon INFO @ 19:19:01]   CodeCarbon version: 2.3.1\n",
      "[codecarbon INFO @ 19:19:01]   Available RAM : 16.000 GB\n",
      "[codecarbon INFO @ 19:19:01]   CPU count: 8\n",
      "[codecarbon INFO @ 19:19:01]   CPU model: Apple M1\n",
      "[codecarbon INFO @ 19:19:01]   GPU count: None\n",
      "[codecarbon INFO @ 19:19:01]   GPU model: None\n"
     ]
    },
    {
     "name": "stdout",
     "output_type": "stream",
     "text": [
      "Epoch 1\n",
      "-------------------------------\n",
      "loss: 2.299253  [   64/60000]\n",
      "loss: 2.298460  [ 6464/60000]\n",
      "loss: 2.301398  [12864/60000]\n",
      "loss: 2.275913  [19264/60000]\n",
      "loss: 2.285846  [25664/60000]\n",
      "loss: 2.283754  [32064/60000]\n",
      "loss: 2.275487  [38464/60000]\n",
      "loss: 2.282565  [44864/60000]\n",
      "loss: 2.265837  [51264/60000]\n",
      "loss: 2.257737  [57664/60000]\n",
      "Test Error: \n",
      " Accuracy: 32.6%, Avg loss: 2.258804 \n",
      "\n",
      "Epoch 2\n",
      "-------------------------------\n",
      "loss: 2.253422  [   64/60000]\n",
      "loss: 2.250460  [ 6464/60000]\n",
      "loss: 2.263000  [12864/60000]\n",
      "loss: 2.214252  [19264/60000]\n",
      "loss: 2.237579  [25664/60000]\n",
      "loss: 2.235057  [32064/60000]\n",
      "loss: 2.214083  [38464/60000]\n",
      "loss: 2.236570  [44864/60000]\n",
      "loss: 2.203008  [51264/60000]\n",
      "loss: 2.190180  [57664/60000]\n",
      "Test Error: \n",
      " Accuracy: 53.6%, Avg loss: 2.193906 \n",
      "\n",
      "Epoch 3\n",
      "-------------------------------\n",
      "loss: 2.187273  [   64/60000]\n",
      "loss: 2.179679  [ 6464/60000]\n",
      "loss: 2.205188  [12864/60000]\n",
      "loss: 2.121718  [19264/60000]\n",
      "loss: 2.162431  [25664/60000]\n",
      "loss: 2.157169  [32064/60000]\n",
      "loss: 2.116162  [38464/60000]\n",
      "loss: 2.158592  [44864/60000]\n"
     ]
    },
    {
     "name": "stderr",
     "output_type": "stream",
     "text": [
      "[codecarbon INFO @ 19:19:19] Energy consumed for RAM : 0.000025 kWh. RAM Power : 6.0 W\n",
      "[codecarbon INFO @ 19:19:19] Energy consumed for all CPUs : 0.000021 kWh. Total CPU Power : 5.0 W\n",
      "[codecarbon INFO @ 19:19:19] 0.000046 kWh of electricity used since the beginning.\n"
     ]
    },
    {
     "name": "stdout",
     "output_type": "stream",
     "text": [
      "loss: 2.100945  [51264/60000]\n",
      "loss: 2.080391  [57664/60000]\n",
      "Test Error: \n",
      " Accuracy: 61.9%, Avg loss: 2.085522 \n",
      "\n",
      "Epoch 4\n",
      "-------------------------------\n",
      "loss: 2.077645  [   64/60000]\n",
      "loss: 2.060684  [ 6464/60000]\n",
      "loss: 2.104486  [12864/60000]\n",
      "loss: 1.971674  [19264/60000]\n",
      "loss: 2.031790  [25664/60000]\n",
      "loss: 2.019021  [32064/60000]\n",
      "loss: 1.951364  [38464/60000]\n",
      "loss: 2.021792  [44864/60000]\n",
      "loss: 1.928763  [51264/60000]\n",
      "loss: 1.899580  [57664/60000]\n",
      "Test Error: \n",
      " Accuracy: 68.3%, Avg loss: 1.900540 \n",
      "\n",
      "Epoch 5\n",
      "-------------------------------\n",
      "loss: 1.896494  [   64/60000]\n",
      "loss: 1.858420  [ 6464/60000]\n",
      "loss: 1.926321  [12864/60000]\n",
      "loss: 1.736803  [19264/60000]\n",
      "loss: 1.804929  [25664/60000]\n",
      "loss: 1.780730  [32064/60000]\n",
      "loss: 1.694075  [38464/60000]\n",
      "loss: 1.799899  [44864/60000]\n",
      "loss: 1.662251  [51264/60000]\n",
      "loss: 1.627908  [57664/60000]\n",
      "Test Error: \n",
      " Accuracy: 71.8%, Avg loss: 1.617052 \n",
      "\n",
      "Epoch 6\n",
      "-------------------------------\n",
      "loss: 1.629289  [   64/60000]\n",
      "loss: 1.556617  [ 6464/60000]\n",
      "loss: 1.649113  [12864/60000]\n",
      "loss: 1.426872  [19264/60000]\n",
      "loss: 1.484380  [25664/60000]\n",
      "loss: 1.450809  [32064/60000]\n",
      "loss: 1.367096  [38464/60000]\n",
      "loss: 1.508906  [44864/60000]\n",
      "loss: 1.350236  [51264/60000]\n",
      "loss: 1.314022  [57664/60000]\n"
     ]
    },
    {
     "name": "stderr",
     "output_type": "stream",
     "text": [
      "[codecarbon INFO @ 19:19:34] Energy consumed for RAM : 0.000050 kWh. RAM Power : 6.0 W\n",
      "[codecarbon INFO @ 19:19:34] Energy consumed for all CPUs : 0.000042 kWh. Total CPU Power : 5.0 W\n",
      "[codecarbon INFO @ 19:19:34] 0.000092 kWh of electricity used since the beginning.\n"
     ]
    },
    {
     "name": "stdout",
     "output_type": "stream",
     "text": [
      "Test Error: \n",
      " Accuracy: 75.0%, Avg loss: 1.294680 \n",
      "\n",
      "Epoch 7\n",
      "-------------------------------\n",
      "loss: 1.334487  [   64/60000]\n",
      "loss: 1.230958  [ 6464/60000]\n",
      "loss: 1.333256  [12864/60000]\n",
      "loss: 1.135425  [19264/60000]\n",
      "loss: 1.175402  [25664/60000]\n",
      "loss: 1.138246  [32064/60000]\n",
      "loss: 1.070066  [38464/60000]\n",
      "loss: 1.233187  [44864/60000]\n",
      "loss: 1.095757  [51264/60000]\n",
      "loss: 1.058818  [57664/60000]\n",
      "Test Error: \n",
      " Accuracy: 79.0%, Avg loss: 1.036234 \n",
      "\n",
      "Epoch 8\n",
      "-------------------------------\n",
      "loss: 1.102044  [   64/60000]\n",
      "loss: 0.982730  [ 6464/60000]\n",
      "loss: 1.077592  [12864/60000]\n",
      "loss: 0.925333  [19264/60000]\n",
      "loss: 0.954023  [25664/60000]\n",
      "loss: 0.916697  [32064/60000]\n",
      "loss: 0.859857  [38464/60000]\n",
      "loss: 1.027258  [44864/60000]\n",
      "loss: 0.923197  [51264/60000]\n",
      "loss: 0.888429  [57664/60000]\n",
      "Test Error: \n",
      " Accuracy: 81.3%, Avg loss: 0.860073 \n",
      "\n",
      "Epoch 9\n",
      "-------------------------------\n",
      "loss: 0.942075  [   64/60000]\n",
      "loss: 0.815839  [ 6464/60000]\n",
      "loss: 0.898712  [12864/60000]\n",
      "loss: 0.783813  [19264/60000]\n",
      "loss: 0.805196  [25664/60000]\n",
      "loss: 0.770483  [32064/60000]\n",
      "loss: 0.716760  [38464/60000]\n",
      "loss: 0.882795  [44864/60000]\n",
      "loss: 0.807579  [51264/60000]\n",
      "loss: 0.777016  [57664/60000]\n",
      "Test Error: \n",
      " Accuracy: 83.1%, Avg loss: 0.740198 \n",
      "\n",
      "Epoch 10\n",
      "-------------------------------\n",
      "loss: 0.830131  [   64/60000]\n",
      "loss: 0.700956  [ 6464/60000]\n",
      "loss: 0.772969  [12864/60000]\n"
     ]
    },
    {
     "name": "stderr",
     "output_type": "stream",
     "text": [
      "[codecarbon INFO @ 19:19:49] Energy consumed for RAM : 0.000075 kWh. RAM Power : 6.0 W\n",
      "[codecarbon INFO @ 19:19:49] Energy consumed for all CPUs : 0.000063 kWh. Total CPU Power : 5.0 W\n",
      "[codecarbon INFO @ 19:19:49] 0.000138 kWh of electricity used since the beginning.\n"
     ]
    },
    {
     "name": "stdout",
     "output_type": "stream",
     "text": [
      "loss: 0.687358  [19264/60000]\n",
      "loss: 0.700657  [25664/60000]\n",
      "loss: 0.671961  [32064/60000]\n",
      "loss: 0.615327  [38464/60000]\n",
      "loss: 0.780915  [44864/60000]\n",
      "loss: 0.725539  [51264/60000]\n",
      "loss: 0.701484  [57664/60000]\n"
     ]
    },
    {
     "name": "stderr",
     "output_type": "stream",
     "text": [
      "[codecarbon INFO @ 19:19:53] Energy consumed for RAM : 0.000080 kWh. RAM Power : 6.0 W\n",
      "[codecarbon INFO @ 19:19:53] Energy consumed for all CPUs : 0.000067 kWh. Total CPU Power : 5.0 W\n",
      "[codecarbon INFO @ 19:19:53] 0.000147 kWh of electricity used since the beginning.\n"
     ]
    },
    {
     "name": "stdout",
     "output_type": "stream",
     "text": [
      "Test Error: \n",
      " Accuracy: 84.2%, Avg loss: 0.655574 \n",
      "\n",
      "Done!\n"
     ]
    }
   ],
   "source": [
    "# import the tracker using Context Manager\n",
    "with EmissionsTracker() as tracker:\n",
    "    epochs = 10\n",
    "    for t in range(epochs):\n",
    "        print(f\"Epoch {t+1}\\n-------------------------------\")\n",
    "        train(train_dataloader, model, loss_fn, optimizer)\n",
    "        test(test_dataloader, model, loss_fn)\n",
    "    print(\"Done!\")"
   ]
  },
  {
   "cell_type": "code",
   "execution_count": null,
   "metadata": {},
   "outputs": [],
   "source": []
  }
 ],
 "metadata": {
  "kernelspec": {
   "display_name": "ds",
   "language": "python",
   "name": "ds"
  },
  "language_info": {
   "codemirror_mode": {
    "name": "ipython",
    "version": 3
   },
   "file_extension": ".py",
   "mimetype": "text/x-python",
   "name": "python",
   "nbconvert_exporter": "python",
   "pygments_lexer": "ipython3",
   "version": "3.8.18"
  },
  "orig_nbformat": 4
 },
 "nbformat": 4,
 "nbformat_minor": 2
}
